{
 "cells": [
  {
   "cell_type": "code",
   "execution_count": 1,
   "id": "b94ca4c6-e50d-4fa2-865a-65c9509bc83c",
   "metadata": {},
   "outputs": [],
   "source": [
    "from bs4 import BeautifulSoup\n",
    "import requests\n",
    "import pandas as pd\n",
    "from tqdm.auto import tqdm\n",
    "import random"
   ]
  },
  {
   "cell_type": "code",
   "execution_count": 6,
   "id": "0310c1f5-e8a6-478d-8696-be2a44565983",
   "metadata": {
    "tags": []
   },
   "outputs": [
    {
     "data": {
      "application/vnd.jupyter.widget-view+json": {
       "model_id": "c46ee03e893d4e4da77cbed68f66cda3",
       "version_major": 2,
       "version_minor": 0
      },
      "text/plain": [
       "  0%|          | 0/88 [00:00<?, ?it/s]"
      ]
     },
     "metadata": {},
     "output_type": "display_data"
    }
   ],
   "source": [
    "NUM_PAGES = 88\n",
    "ROOT = \"https://codeforces.com\"\n",
    "PAGE = ROOT + \"/problemset/page/\"\n",
    "\n",
    "links = []\n",
    "tags = []\n",
    "\n",
    "for page_index in tqdm(range(1, NUM_PAGES+1)):\n",
    "    webpage = BeautifulSoup(requests.get(PAGE+str(page_index)).text, \"lxml\")\n",
    "    table = webpage.find(\"table\", class_=\"problems\")\n",
    "    table_rows = table.find_all(\"tr\")[1:]\n",
    "    for row in table_rows:\n",
    "        table_cell = row.find_all(\"td\")[1]\n",
    "        a_tags = table_cell.find_all(\"a\")\n",
    "        links.append(ROOT + a_tags[0][\"href\"])\n",
    "        temp_tags = []\n",
    "        for tag in a_tags[1:]:\n",
    "            temp_tags.append(tag.text)\n",
    "        tags.append(temp_tags)"
   ]
  },
  {
   "cell_type": "code",
   "execution_count": 7,
   "id": "05205081-fd5e-4255-a299-36e42dbed539",
   "metadata": {},
   "outputs": [
    {
     "name": "stdout",
     "output_type": "stream",
     "text": [
      "8741 8741\n"
     ]
    }
   ],
   "source": [
    "print(len(set(links)), len(tags))"
   ]
  },
  {
   "cell_type": "markdown",
   "id": "28f3cfdd-1c0d-4056-9c97-e7fca162feea",
   "metadata": {},
   "source": [
    "* 'le' -> '<='\n",
    "* '$' -> ''\n",
    "* 'ge' -> '>='\n",
    "* 'times' -> '*'\n",
    "* '^{\\\\dagger}' -> ''\n",
    "* '\\\\ldots' -> '...'\n",
    "* '\\xa0' -> ''\n",
    "* '\\\\dots' -> ''\n",
    "* '\\\\ne' -> '!='"
   ]
  },
  {
   "cell_type": "code",
   "execution_count": 26,
   "id": "84082640-b0d1-4d3b-9d60-037acfb0da3a",
   "metadata": {
    "tags": []
   },
   "outputs": [
    {
     "data": {
      "application/vnd.jupyter.widget-view+json": {
       "model_id": "25f079c9728a4205add6e512bd9485fc",
       "version_major": 2,
       "version_minor": 0
      },
      "text/plain": [
       "0it [00:00, ?it/s]"
      ]
     },
     "metadata": {},
     "output_type": "display_data"
    }
   ],
   "source": [
    "qns = []\n",
    "ios = []\n",
    "true_tags = []\n",
    "for i, link in tqdm(enumerate(links)):\n",
    "    try:\n",
    "        content = BeautifulSoup(requests.get(link).text, \"lxml\")\n",
    "        cp = content.find(\"div\", class_=\"problem-statement\")\n",
    "        div_10 = cp.find_all(\"div\")[10]\n",
    "        qn = div_10.text.replace('^{\\\\dagger}', '').replace('$', '').replace(\"\\\\ldots\", '...').replace(\"\\\\le\", \"<=\").replace(\"\\\\ge\", \">=\").replace(\"\\\\times\", '*')\\\n",
    "                .replace(\"\\\\dots\", '...').replace(\"\\xa0\", ' ').replace(\" \\\\ne \", '!=').replace(\"\\\\dagger\", '')\n",
    "        io = \"Input: \" + str(cp.find(\"div\", class_=\"input\").find(\"pre\").text.split(\"\\n\")) + \\\n",
    "             \" Output:\" + str(cp.find(\"div\", class_=\"output\").find(\"pre\").text.split(\"\\n\"))\n",
    "        qns.append(qn)\n",
    "        ios.append(io)\n",
    "        true_tags.append(tags[i])\n",
    "    except:\n",
    "        pass"
   ]
  },
  {
   "cell_type": "code",
   "execution_count": 28,
   "id": "c49968ad-8d94-4e6c-8bce-bc53fb5c417b",
   "metadata": {},
   "outputs": [
    {
     "data": {
      "text/plain": [
       "(8564, 8564, 8564)"
      ]
     },
     "execution_count": 28,
     "metadata": {},
     "output_type": "execute_result"
    }
   ],
   "source": [
    "len(qns), len(ios), len(true_tags)"
   ]
  },
  {
   "cell_type": "code",
   "execution_count": 30,
   "id": "3ab92129-f091-4d8d-9c35-87c1651a245b",
   "metadata": {},
   "outputs": [],
   "source": [
    "df = pd.DataFrame(data={\"question_text\":qns, \"input_outputs\":ios, \"tags\":true_tags})\n",
    "df.to_csv(\"../datasets/codeforces.csv\")"
   ]
  }
 ],
 "metadata": {
  "kernelspec": {
   "display_name": "Python 3 (ipykernel)",
   "language": "python",
   "name": "python3"
  },
  "language_info": {
   "codemirror_mode": {
    "name": "ipython",
    "version": 3
   },
   "file_extension": ".py",
   "mimetype": "text/x-python",
   "name": "python",
   "nbconvert_exporter": "python",
   "pygments_lexer": "ipython3",
   "version": "3.9.13"
  }
 },
 "nbformat": 4,
 "nbformat_minor": 5
}
