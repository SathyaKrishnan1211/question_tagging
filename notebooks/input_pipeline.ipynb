{
 "cells": [
  {
   "cell_type": "markdown",
   "id": "2896ec96-5e05-41e6-89d9-628c81056217",
   "metadata": {},
   "source": [
    "## INPUT PIPELINE"
   ]
  },
  {
   "cell_type": "markdown",
   "id": "ef2914cb-d20c-4404-9e7d-db9780876261",
   "metadata": {},
   "source": [
    "Assigning proper tag to a particular question is crucial for the model to perform well. Since each sample has tags relating to both the data structures and algorithms used to \n",
    "solve those samples, it is necessary to separate this overlap. <br>\n",
    "\n",
    "It is also essential that no sample should have more than one target tag. So whenever, targets are created it is absolutely essential to verify that there is no overlap of target tags.<br>\n",
    "\n",
    "This notebook is used as the **input pipeline** for the question tagging notebook. Any variation of the original dataset with various target tags to be fed into the model, will be prepared here"
   ]
  },
  {
   "cell_type": "code",
   "execution_count": 1,
   "id": "8752313f-9d42-408d-bf8a-71bdba13b75d",
   "metadata": {},
   "outputs": [],
   "source": [
    "import pandas as pd\n",
    "df = pd.read_csv(\"../text_cleaning_and_processing_1.csv\")"
   ]
  },
  {
   "cell_type": "code",
   "execution_count": 2,
   "id": "fa67daa4-efc6-4b86-93a4-cd6c13d147e2",
   "metadata": {},
   "outputs": [],
   "source": [
    "data_structures = {\n",
    "    \"array\", \"string\", \"graph\"\n",
    "}"
   ]
  },
  {
   "cell_type": "code",
   "execution_count": 3,
   "id": "09613928-6bcb-4021-9f3f-3f97e8d27c12",
   "metadata": {},
   "outputs": [],
   "source": [
    "from collections import defaultdict"
   ]
  },
  {
   "cell_type": "code",
   "execution_count": 4,
   "id": "4b54c621-fcaf-4d67-9bcd-99cbd4f8dc33",
   "metadata": {},
   "outputs": [
    {
     "data": {
      "text/plain": [
       "defaultdict(int,\n",
       "            {('array', 'array'): 48,\n",
       "             ('array', 'string'): 57,\n",
       "             ('array', 'graph'): 106,\n",
       "             ('graph', 'graph'): 82,\n",
       "             ('graph', 'string'): 7,\n",
       "             ('string', 'string'): 6})"
      ]
     },
     "execution_count": 4,
     "metadata": {},
     "output_type": "execute_result"
    }
   ],
   "source": [
    "pair_freqs = defaultdict(int)\n",
    "for row in range(df.shape[0]):\n",
    "    tags = list(df.iloc[row, 1:8].values)\n",
    "    for i in range(len(tags)):\n",
    "        if tags[i] == \"No tag\" or tags[i] not in data_structures:\n",
    "            break\n",
    "        for j in range(i+1, len(tags)):\n",
    "            if tags[j] == \"No tag\" or tags[j] not in data_structures:\n",
    "                break\n",
    "            if tags[i] in data_structures and tags[j] in data_structures:\n",
    "                pair_freqs[tuple(sorted((tags[i], tags[j])))] += 1\n",
    "\n",
    "pair_freqs"
   ]
  },
  {
   "cell_type": "code",
   "execution_count": 6,
   "id": "2f1f7d72-0743-44d1-b472-9477a49f5318",
   "metadata": {},
   "outputs": [
    {
     "name": "stdout",
     "output_type": "stream",
     "text": [
      "7293\n"
     ]
    }
   ],
   "source": [
    "drop_inds = []\n",
    "qns = df[[\"stop_words_removed_qns\", \"tag1\"]]\n",
    "for i in range(df.shape[0]):\n",
    "    tags = set(df.iloc[i, 1:8].values)\n",
    "    if len(data_structures.difference(tags)) != 2:\n",
    "        drop_inds.append(i)\n",
    "    else:\n",
    "        qns.iat[i, 1] = list(data_structures.intersection(tags))[0]\n",
    "\n",
    "print(len(drop_inds))"
   ]
  },
  {
   "cell_type": "code",
   "execution_count": 7,
   "id": "996f8f04-8b07-4639-8820-76157edbece5",
   "metadata": {},
   "outputs": [
    {
     "name": "stderr",
     "output_type": "stream",
     "text": [
      "/tmp/ipykernel_5200/1037782737.py:1: SettingWithCopyWarning: \n",
      "A value is trying to be set on a copy of a slice from a DataFrame\n",
      "\n",
      "See the caveats in the documentation: https://pandas.pydata.org/pandas-docs/stable/user_guide/indexing.html#returning-a-view-versus-a-copy\n",
      "  qns.drop(drop_inds, axis=0, inplace=True)\n"
     ]
    }
   ],
   "source": [
    "qns.drop(drop_inds, axis=0, inplace=True)\n",
    "qns.reset_index(drop=True, inplace=True)"
   ]
  },
  {
   "cell_type": "code",
   "execution_count": 8,
   "id": "678a73a9-8bbd-45aa-ac89-741fa62a1546",
   "metadata": {},
   "outputs": [
    {
     "data": {
      "text/plain": [
       "graph     981\n",
       "array     944\n",
       "string    843\n",
       "Name: tag1, dtype: int64"
      ]
     },
     "execution_count": 8,
     "metadata": {},
     "output_type": "execute_result"
    }
   ],
   "source": [
    "qns[\"tag1\"].value_counts()"
   ]
  },
  {
   "cell_type": "code",
   "execution_count": 9,
   "id": "24409de7-57e2-4959-95e0-9d8e6457ebf6",
   "metadata": {},
   "outputs": [],
   "source": [
    "qns.to_csv(\"input_to_tagging.csv\", index=False)"
   ]
  }
 ],
 "metadata": {
  "kernelspec": {
   "display_name": "Python 3 (ipykernel)",
   "language": "python",
   "name": "python3"
  },
  "language_info": {
   "codemirror_mode": {
    "name": "ipython",
    "version": 3
   },
   "file_extension": ".py",
   "mimetype": "text/x-python",
   "name": "python",
   "nbconvert_exporter": "python",
   "pygments_lexer": "ipython3",
   "version": "3.9.13"
  }
 },
 "nbformat": 4,
 "nbformat_minor": 5
}
