{
 "cells": [
  {
   "cell_type": "markdown",
   "id": "2896ec96-5e05-41e6-89d9-628c81056217",
   "metadata": {},
   "source": [
    "## INPUT PIPELINE"
   ]
  },
  {
   "cell_type": "markdown",
   "id": "ef2914cb-d20c-4404-9e7d-db9780876261",
   "metadata": {},
   "source": [
    "Assigning proper tag to a particular question is crucial for the model to perform well. Since each sample has tags relating to both the data structures and algorithms used to \n",
    "solve those samples, it is necessary to separate this overlap. <br>\n",
    "\n",
    "It is also essential that no sample should have more than one target tag. So whenever, targets are created it is absolutely essential to verify that there is no overlap of target tags.<br>\n",
    "\n",
    "This notebook is used as the **input pipeline** for the question tagging notebook. Any variation of the original dataset with various target tags to be fed into the model, will be prepared here"
   ]
  },
  {
   "cell_type": "code",
   "execution_count": 1,
   "id": "ec3b360a-3de6-44cb-a089-4bc68f81acbb",
   "metadata": {},
   "outputs": [],
   "source": [
    "import pandas as pd\n",
    "import numpy as np\n",
    "from collections import defaultdict"
   ]
  },
  {
   "cell_type": "markdown",
   "id": "f2151169-43de-462f-909f-10b658f4e656",
   "metadata": {},
   "source": [
    "### Data Structures"
   ]
  },
  {
   "cell_type": "code",
   "execution_count": 2,
   "id": "8752313f-9d42-408d-bf8a-71bdba13b75d",
   "metadata": {},
   "outputs": [],
   "source": [
    "df = pd.read_csv(\"../datasets/question_tagging_dataset.csv\")"
   ]
  },
  {
   "cell_type": "code",
   "execution_count": 3,
   "id": "fa67daa4-efc6-4b86-93a4-cd6c13d147e2",
   "metadata": {},
   "outputs": [],
   "source": [
    "data_structures = {\n",
    "    \"array\", \"string\", \"graph\"\n",
    "}"
   ]
  },
  {
   "cell_type": "code",
   "execution_count": 4,
   "id": "4b54c621-fcaf-4d67-9bcd-99cbd4f8dc33",
   "metadata": {},
   "outputs": [
    {
     "data": {
      "text/plain": [
       "defaultdict(int,\n",
       "            {('array', 'array'): 48,\n",
       "             ('array', 'string'): 57,\n",
       "             ('array', 'graph'): 106,\n",
       "             ('graph', 'graph'): 82,\n",
       "             ('graph', 'string'): 7,\n",
       "             ('string', 'string'): 6})"
      ]
     },
     "execution_count": 4,
     "metadata": {},
     "output_type": "execute_result"
    }
   ],
   "source": [
    "pair_freqs = defaultdict(int)\n",
    "for row in range(df.shape[0]):\n",
    "    tags = list(df.iloc[row, 1:8].values)\n",
    "    for i in range(len(tags)):\n",
    "        if tags[i] == \"No tag\" or tags[i] not in data_structures:\n",
    "            break\n",
    "        for j in range(i+1, len(tags)):\n",
    "            if tags[j] == \"No tag\" or tags[j] not in data_structures:\n",
    "                break\n",
    "            if tags[i] in data_structures and tags[j] in data_structures:\n",
    "                pair_freqs[tuple(sorted((tags[i], tags[j])))] += 1\n",
    "\n",
    "pair_freqs"
   ]
  },
  {
   "cell_type": "code",
   "execution_count": 5,
   "id": "2f1f7d72-0743-44d1-b472-9477a49f5318",
   "metadata": {},
   "outputs": [
    {
     "name": "stdout",
     "output_type": "stream",
     "text": [
      "7049\n"
     ]
    }
   ],
   "source": [
    "drop_inds = []\n",
    "qns = df[[\"stop_words_removed_qns\", \"tag1\"]]\n",
    "for i in range(df.shape[0]):\n",
    "    tags = set(df.iloc[i, 1:8].values)\n",
    "    if len(tags.intersection(set(data_structures))) == 1:\n",
    "        qns.iat[i, 1] = list(data_structures.intersection(tags))[0]\n",
    "    else:\n",
    "        drop_inds.append(i)\n",
    "\n",
    "print(len(drop_inds))"
   ]
  },
  {
   "cell_type": "code",
   "execution_count": 6,
   "id": "996f8f04-8b07-4639-8820-76157edbece5",
   "metadata": {},
   "outputs": [
    {
     "name": "stderr",
     "output_type": "stream",
     "text": [
      "/tmp/ipykernel_6028/1037782737.py:1: SettingWithCopyWarning: \n",
      "A value is trying to be set on a copy of a slice from a DataFrame\n",
      "\n",
      "See the caveats in the documentation: https://pandas.pydata.org/pandas-docs/stable/user_guide/indexing.html#returning-a-view-versus-a-copy\n",
      "  qns.drop(drop_inds, axis=0, inplace=True)\n"
     ]
    }
   ],
   "source": [
    "qns.drop(drop_inds, axis=0, inplace=True)\n",
    "qns.reset_index(drop=True, inplace=True)"
   ]
  },
  {
   "cell_type": "code",
   "execution_count": 7,
   "id": "678a73a9-8bbd-45aa-ac89-741fa62a1546",
   "metadata": {},
   "outputs": [
    {
     "data": {
      "text/plain": [
       "graph     1225\n",
       "array      944\n",
       "string     843\n",
       "Name: tag1, dtype: int64"
      ]
     },
     "execution_count": 7,
     "metadata": {},
     "output_type": "execute_result"
    }
   ],
   "source": [
    "qns[\"tag1\"].value_counts()"
   ]
  },
  {
   "cell_type": "code",
   "execution_count": 8,
   "id": "24409de7-57e2-4959-95e0-9d8e6457ebf6",
   "metadata": {},
   "outputs": [],
   "source": [
    "qns.to_csv(\"../datasets/array_graph_string.csv\", index=False)"
   ]
  },
  {
   "cell_type": "markdown",
   "id": "e208a1a6-0e9c-4281-bafa-df0f30e2d0a7",
   "metadata": {},
   "source": [
    "### Algorithms"
   ]
  },
  {
   "cell_type": "code",
   "execution_count": 9,
   "id": "e0a29307-1eda-4db4-bd89-063d3230ccdc",
   "metadata": {},
   "outputs": [],
   "source": [
    "algorithms = {\"brute force\", \"greedy\", \"dynamic programming\"}"
   ]
  },
  {
   "cell_type": "code",
   "execution_count": 10,
   "id": "489c574b-48e4-4a6f-a3c5-7b1f31b2f2e8",
   "metadata": {},
   "outputs": [],
   "source": [
    "pair_freqs = defaultdict(int)\n",
    "for row in range(df.shape[0]):\n",
    "    tags = list(df.iloc[row, 1:8].values)\n",
    "    \n",
    "    for i in range(len(tags)):\n",
    "        if tags[i] == \"No tag\" or tags[i] not in algorithms:\n",
    "            break\n",
    "        \n",
    "        for j in range(i+1, len(tags)):\n",
    "            if tags[j] == \"No tag\":\n",
    "                break\n",
    "            if tags[j] not in algorithms:\n",
    "                continue\n",
    "            elif tags[i] in algorithms and tags[j] in algorithms:\n",
    "                pair_freqs[tuple(sorted((tags[i], tags[j])))] += 1"
   ]
  },
  {
   "cell_type": "code",
   "execution_count": 11,
   "id": "4b583adf-c2b4-4280-ab3e-3ce73c6b8e63",
   "metadata": {},
   "outputs": [
    {
     "name": "stdout",
     "output_type": "stream",
     "text": [
      "('brute force', 'dynamic programming'): 162\n",
      "('brute force', 'greedy'): 405\n",
      "('dynamic programming', 'greedy'): 325\n"
     ]
    }
   ],
   "source": [
    "for k in pair_freqs:\n",
    "    print(f\"{k}: {pair_freqs[k]}\")"
   ]
  },
  {
   "cell_type": "code",
   "execution_count": 12,
   "id": "d66ba04e-0b31-4c7f-ad4a-179cd9d2f689",
   "metadata": {},
   "outputs": [
    {
     "data": {
      "text/plain": [
       "5405"
      ]
     },
     "execution_count": 12,
     "metadata": {},
     "output_type": "execute_result"
    }
   ],
   "source": [
    "drop_inds = []\n",
    "qns = df[[\"stop_words_removed_qns\", \"tag1\"]]\n",
    "for i in range(df.shape[0]):\n",
    "    tags = set(df.iloc[i, 1:8].values)\n",
    "    if len(tags.intersection(set(algorithms))) == 1:\n",
    "        qns.iat[i, 1] = list(tags.intersection(set(algorithms)))[0]\n",
    "    else:\n",
    "        drop_inds.append(i)\n",
    "len(drop_inds)"
   ]
  },
  {
   "cell_type": "code",
   "execution_count": 13,
   "id": "70f15006-f5be-46d6-b214-cd0515afc7ca",
   "metadata": {},
   "outputs": [
    {
     "name": "stderr",
     "output_type": "stream",
     "text": [
      "/tmp/ipykernel_6028/2664307388.py:1: SettingWithCopyWarning: \n",
      "A value is trying to be set on a copy of a slice from a DataFrame\n",
      "\n",
      "See the caveats in the documentation: https://pandas.pydata.org/pandas-docs/stable/user_guide/indexing.html#returning-a-view-versus-a-copy\n",
      "  qns.drop(drop_inds, inplace=True)\n"
     ]
    }
   ],
   "source": [
    "qns.drop(drop_inds, inplace=True)\n",
    "qns.reset_index(inplace=True, drop=True)"
   ]
  },
  {
   "cell_type": "code",
   "execution_count": 14,
   "id": "4d0e084f-7e52-49c4-a016-379c318b6cea",
   "metadata": {},
   "outputs": [
    {
     "data": {
      "text/html": [
       "<div>\n",
       "<style scoped>\n",
       "    .dataframe tbody tr th:only-of-type {\n",
       "        vertical-align: middle;\n",
       "    }\n",
       "\n",
       "    .dataframe tbody tr th {\n",
       "        vertical-align: top;\n",
       "    }\n",
       "\n",
       "    .dataframe thead th {\n",
       "        text-align: right;\n",
       "    }\n",
       "</style>\n",
       "<table border=\"1\" class=\"dataframe\">\n",
       "  <thead>\n",
       "    <tr style=\"text-align: right;\">\n",
       "      <th></th>\n",
       "      <th>stop_words_removed_qns</th>\n",
       "      <th>tag1</th>\n",
       "    </tr>\n",
       "  </thead>\n",
       "  <tbody>\n",
       "    <tr>\n",
       "      <th>0</th>\n",
       "      <td>for birthday Kevin receive set pairwise distin...</td>\n",
       "      <td>greedy</td>\n",
       "    </tr>\n",
       "    <tr>\n",
       "      <th>1</th>\n",
       "      <td>you work quality control department technical ...</td>\n",
       "      <td>greedy</td>\n",
       "    </tr>\n",
       "    <tr>\n",
       "      <th>2</th>\n",
       "      <td>little Misha go programming club solve it stra...</td>\n",
       "      <td>brute force</td>\n",
       "    </tr>\n",
       "  </tbody>\n",
       "</table>\n",
       "</div>"
      ],
      "text/plain": [
       "                              stop_words_removed_qns         tag1\n",
       "0  for birthday Kevin receive set pairwise distin...       greedy\n",
       "1  you work quality control department technical ...       greedy\n",
       "2  little Misha go programming club solve it stra...  brute force"
      ]
     },
     "execution_count": 14,
     "metadata": {},
     "output_type": "execute_result"
    }
   ],
   "source": [
    "qns.head(3)"
   ]
  },
  {
   "cell_type": "code",
   "execution_count": 15,
   "id": "26c3bcfe-f06f-49eb-86a4-5745d3956d3b",
   "metadata": {},
   "outputs": [],
   "source": [
    "qns.to_csv(\"../datasets/greedy_brute_force_dp.csv\", index=False)"
   ]
  }
 ],
 "metadata": {
  "kernelspec": {
   "display_name": "Python 3 (ipykernel)",
   "language": "python",
   "name": "python3"
  },
  "language_info": {
   "codemirror_mode": {
    "name": "ipython",
    "version": 3
   },
   "file_extension": ".py",
   "mimetype": "text/x-python",
   "name": "python",
   "nbconvert_exporter": "python",
   "pygments_lexer": "ipython3",
   "version": "3.9.13"
  }
 },
 "nbformat": 4,
 "nbformat_minor": 5
}
