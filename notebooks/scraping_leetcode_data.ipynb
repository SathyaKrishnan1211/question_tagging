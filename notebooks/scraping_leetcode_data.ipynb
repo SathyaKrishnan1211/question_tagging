{
 "cells": [
  {
   "cell_type": "code",
   "execution_count": 51,
   "metadata": {},
   "outputs": [],
   "source": [
    "import requests\n",
    "from bs4 import BeautifulSoup\n",
    "from selenium import webdriver\n",
    "import time\n",
    "from tqdm.auto import tqdm\n",
    "import pandas as pd"
   ]
  },
  {
   "cell_type": "code",
   "execution_count": 2,
   "metadata": {},
   "outputs": [
    {
     "name": "stdout",
     "output_type": "stream",
     "text": [
      "Scrapped qn: Given an array of integers nums and an integer target, return indices of the two numbers such that they add up to target.You may assume that each input would have exactly one solution, and you may not use the same element twice.You can return the answer in any order.\n",
      "Scrapped input output: Input: nums = [2,7,11,15], target = 9\n",
      "Output: [0,1]\n",
      "\n",
      "Scrapped tags: ['array', 'hash-table']\n"
     ]
    }
   ],
   "source": [
    "sample_link = \"https://leetcode.com/problems/two-sum/\"\n",
    "driver = webdriver.Chrome(\"/home/sathya/Desktop/chromedriver\")\n",
    "driver.get(sample_link)\n",
    "time.sleep(10)\n",
    "main_content = driver.find_element_by_xpath(\"/html/body/div[1]/div/div/div/div/div/div[1]/div/div/div/div[2]/div/div/div[3]/div\")\n",
    "qn = \"\"\n",
    "for p in main_content.find_elements_by_tag_name(\"p\"):\n",
    "    p_content = BeautifulSoup(p.text, \"lxml\")\n",
    "    if \"Example\" in p_content.text:\n",
    "        break\n",
    "    qn += p_content.text\n",
    "\n",
    "print(f\"Scrapped qn: {qn}\")\n",
    "\n",
    "\n",
    "sample_input_output = BeautifulSoup(main_content.find_element_by_tag_name(\"pre\").text, \"lxml\").text\n",
    "\n",
    "if \"Explanation\" in sample_input_output:\n",
    "    idx = sample_input_output.find(\"Explanation\")\n",
    "\n",
    "sample_input_output = sample_input_output[:idx]\n",
    "\n",
    "print(f\"Scrapped input output: {sample_input_output}\")\n",
    "\n",
    "tags = []\n",
    "\n",
    "a_divs = driver.find_element_by_xpath(\"/html/body/div[1]/div/div/div/div/div/div[1]/div/div/div/div[2]/div/div/div[7]/div/div[2]\")\n",
    "\n",
    "for a_div in a_divs.find_elements_by_tag_name(\"a\"):\n",
    "    tags.append(a_div.get_attribute(\"href\").split(\"/\")[-2])\n",
    "\n",
    "print(f\"Scrapped tags: {tags}\")"
   ]
  },
  {
   "cell_type": "code",
   "execution_count": 4,
   "metadata": {
    "collapsed": true,
    "jupyter": {
     "outputs_hidden": true
    },
    "tags": []
   },
   "outputs": [
    {
     "data": {
      "application/vnd.jupyter.widget-view+json": {
       "model_id": "1befd4eea6f34911baf4aff55df7c92d",
       "version_major": 2,
       "version_minor": 0
      },
      "text/plain": [
       "  0%|          | 0/55 [00:00<?, ?it/s]"
      ]
     },
     "metadata": {},
     "output_type": "display_data"
    },
    {
     "name": "stdout",
     "output_type": "stream",
     "text": [
      "52\n",
      "102\n",
      "152\n",
      "202\n",
      "252\n",
      "302\n",
      "352\n",
      "402\n",
      "452\n",
      "502\n",
      "552\n",
      "602\n",
      "652\n",
      "702\n",
      "752\n",
      "802\n",
      "852\n",
      "902\n",
      "954\n",
      "1004\n",
      "1054\n",
      "1104\n",
      "1154\n",
      "1204\n",
      "1253\n",
      "1303\n",
      "1353\n",
      "1403\n",
      "1453\n",
      "1503\n",
      "1555\n",
      "1605\n",
      "1655\n",
      "1705\n",
      "1755\n",
      "1805\n",
      "1855\n",
      "1905\n",
      "1955\n",
      "2005\n",
      "2055\n",
      "2105\n",
      "2157\n",
      "2207\n",
      "2257\n",
      "2309\n",
      "2359\n",
      "2409\n",
      "2459\n",
      "2509\n",
      "2559\n",
      "2609\n",
      "2659\n",
      "2709\n",
      "2747\n"
     ]
    }
   ],
   "source": [
    "num_pages = 55\n",
    "\n",
    "page_link = \"https://leetcode.com/problemset/all/?page=\"\n",
    "problem_links = []\n",
    "\n",
    "for page_num in tqdm(range(1, num_pages+1)):\n",
    "    driver = webdriver.Chrome(\"/home/sathya/Desktop/chromedriver\")\n",
    "    driver.get(page_link+str(page_num))\n",
    "    time.sleep(10)\n",
    "    qn_list_table = driver.find_element_by_xpath(\"/html/body/div[1]/div/div[2]/div[1]/div[1]/div[5]/div[2]/div/div\")\n",
    "    \n",
    "    for link in qn_list_table.find_elements_by_tag_name(\"a\"):\n",
    "        href = link.get_attribute(\"href\")\n",
    "        if \"solution\" not in href:\n",
    "            problem_links.append(href)\n",
    "            # print(href)\n",
    "    print(len(problem_links))\n",
    "    driver.quit()"
   ]
  },
  {
   "cell_type": "code",
   "execution_count": 6,
   "metadata": {},
   "outputs": [
    {
     "name": "stdout",
     "output_type": "stream",
     "text": [
      "Scrapped links count: 2747\n",
      "Removed duplicates after count: 2537\n"
     ]
    }
   ],
   "source": [
    "print(f\"Scrapped links count: {len(problem_links)}\")\n",
    "problem_links = list(set(problem_links))\n",
    "print(f\"Removed duplicates after count: {len(problem_links)}\")"
   ]
  },
  {
   "cell_type": "code",
   "execution_count": 43,
   "metadata": {},
   "outputs": [],
   "source": [
    "question_texts = []\n",
    "input_outputs = []\n",
    "tags = []\n",
    "premium_count = 0"
   ]
  },
  {
   "cell_type": "code",
   "execution_count": 44,
   "metadata": {
    "collapsed": true,
    "jupyter": {
     "outputs_hidden": true
    },
    "tags": []
   },
   "outputs": [
    {
     "data": {
      "application/vnd.jupyter.widget-view+json": {
       "model_id": "638a4f39953943118a564088466113f0",
       "version_major": 2,
       "version_minor": 0
      },
      "text/plain": [
       "  0%|          | 0/2537 [00:00<?, ?it/s]"
      ]
     },
     "metadata": {},
     "output_type": "display_data"
    },
    {
     "name": "stdout",
     "output_type": "stream",
     "text": [
      "35 35 35 15\n",
      "79 79 79 21\n",
      "118 118 118 32\n",
      "161 161 161 39\n",
      "201 201 201 49\n",
      "243 243 243 57\n",
      "286 286 286 64\n",
      "324 324 324 76\n",
      "359 359 359 91\n",
      "400 400 400 100\n",
      "440 440 440 110\n",
      "481 481 481 119\n",
      "522 522 522 128\n",
      "561 561 561 139\n",
      "606 606 606 144\n",
      "645 645 645 155\n",
      "689 689 689 161\n",
      "732 732 732 168\n",
      "770 770 770 180\n",
      "811 811 811 189\n",
      "854 854 854 196\n",
      "892 892 892 208\n",
      "933 933 933 217\n",
      "975 975 975 225\n",
      "1019 1019 1019 231\n",
      "1054 1054 1054 246\n",
      "1091 1091 1091 259\n",
      "1131 1131 1131 269\n",
      "1168 1168 1168 282\n",
      "1206 1206 1206 294\n",
      "1246 1246 1246 304\n",
      "1287 1287 1287 313\n",
      "1330 1330 1330 320\n",
      "1368 1368 1368 332\n",
      "1405 1405 1405 345\n",
      "1443 1443 1443 357\n",
      "1485 1485 1485 365\n",
      "1528 1528 1528 372\n",
      "1571 1571 1571 379\n",
      "1614 1614 1614 386\n",
      "1651 1651 1651 399\n",
      "1692 1692 1692 408\n",
      "1728 1728 1728 422\n",
      "1772 1772 1772 428\n",
      "1810 1810 1810 440\n",
      "1852 1852 1852 448\n",
      "1889 1889 1889 461\n",
      "1931 1931 1931 469\n",
      "1970 1970 1970 480\n",
      "2006 2006 2006 494\n"
     ]
    }
   ],
   "source": [
    "for i in tqdm(range(len(problem_links))):\n",
    "    driver = webdriver.Chrome(\"/home/sathya/Desktop/chromedriver\")\n",
    "    driver.get(problem_links[i])\n",
    "    time.sleep(5)\n",
    "    \n",
    "    body_content = driver.find_element_by_tag_name(\"body\")\n",
    "    \n",
    "    try:\n",
    "        cp_content = body_content.find_element_by_class_name(\"_1l1MA\")\n",
    "        cp_text = cp_content.text\n",
    "\n",
    "        qn_end_index = cp_text.find(\"Example\") \n",
    "        io_start_index = cp_text.find(\"Input\")\n",
    "        io_end_index = cp_text.find(\"Explanation\")\n",
    "\n",
    "        question_texts.append(cp_text[:qn_end_index])\n",
    "        input_outputs.append(cp_text[io_start_index: io_end_index])\n",
    "\n",
    "        tags_a = body_content.find_elements_by_xpath('//a[contains(@href, \"tag\")]')\n",
    "        temp_tags = []\n",
    "        for a_ in tags_a:\n",
    "            temp_tags.append(a_.get_attribute(\"href\").split(\"/\")[-2])\n",
    "        tags.append(temp_tags)\n",
    "    except:\n",
    "        premium_count += 1\n",
    "    \n",
    "    if (i+1)%50==0:\n",
    "        print(len(question_texts), len(input_outputs), len(tags), premium_count)\n",
    "    \n",
    "    driver.quit()"
   ]
  },
  {
   "cell_type": "code",
   "execution_count": 45,
   "metadata": {},
   "outputs": [
    {
     "name": "stdout",
     "output_type": "stream",
     "text": [
      "Number of qts: 2035\n",
      "Number of ios: 2035\n",
      "Number of tags: 2035\n"
     ]
    }
   ],
   "source": [
    "print(f\"Number of qts: {len(question_texts)}\")\n",
    "print(f\"Number of ios: {len(input_outputs)}\")\n",
    "print(f\"Number of tags: {len(tags)}\")"
   ]
  },
  {
   "cell_type": "code",
   "execution_count": 50,
   "metadata": {},
   "outputs": [],
   "source": [
    "df = pd.DataFrame(data={\"question_text\": question_texts, \"input_outputs\": input_outputs, \"tags\": tags})\n",
    "df.to_csv(\"../datasets/leetcode.csv\")"
   ]
  }
 ],
 "metadata": {
  "kernelspec": {
   "display_name": "Python 3 (ipykernel)",
   "language": "python",
   "name": "python3"
  },
  "language_info": {
   "codemirror_mode": {
    "name": "ipython",
    "version": 3
   },
   "file_extension": ".py",
   "mimetype": "text/x-python",
   "name": "python",
   "nbconvert_exporter": "python",
   "pygments_lexer": "ipython3",
   "version": "3.9.13"
  },
  "vscode": {
   "interpreter": {
    "hash": "52743b0137570ebd28dcb0e6157a2cf8de8d8e7635dc5292ac8dc7433a44ebb7"
   }
  }
 },
 "nbformat": 4,
 "nbformat_minor": 4
}
