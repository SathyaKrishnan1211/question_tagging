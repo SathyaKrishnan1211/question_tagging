{
  "cells": [
    {
      "cell_type": "code",
      "execution_count": null,
      "metadata": {
        "id": "nG_651gMlXug"
      },
      "outputs": [],
      "source": [
        "import pandas as pd\n",
        "import numpy as np\n",
        "import matplotlib.pyplot as plt"
      ]
    },
    {
      "cell_type": "code",
      "execution_count": null,
      "metadata": {
        "id": "FHqxe9YOlXui",
        "outputId": "07f1713a-b5c9-4786-9103-408bd18dda3b"
      },
      "outputs": [
        {
          "data": {
            "text/html": [
              "<div>\n",
              "<style scoped>\n",
              "    .dataframe tbody tr th:only-of-type {\n",
              "        vertical-align: middle;\n",
              "    }\n",
              "\n",
              "    .dataframe tbody tr th {\n",
              "        vertical-align: top;\n",
              "    }\n",
              "\n",
              "    .dataframe thead th {\n",
              "        text-align: right;\n",
              "    }\n",
              "</style>\n",
              "<table border=\"1\" class=\"dataframe\">\n",
              "  <thead>\n",
              "    <tr style=\"text-align: right;\">\n",
              "      <th></th>\n",
              "      <th>question_text</th>\n",
              "      <th>input_outputs</th>\n",
              "      <th>website</th>\n",
              "      <th>num_words</th>\n",
              "      <th>tag_1</th>\n",
              "      <th>tag_2</th>\n",
              "      <th>tag_3</th>\n",
              "      <th>tag_4</th>\n",
              "      <th>tag_5</th>\n",
              "      <th>tag_6</th>\n",
              "      <th>tag_7</th>\n",
              "      <th>num_tags</th>\n",
              "    </tr>\n",
              "  </thead>\n",
              "  <tbody>\n",
              "    <tr>\n",
              "      <th>0</th>\n",
              "      <td>This is the hard version of the problem. The o...</td>\n",
              "      <td>Input: ['18+ 1 -1? 1 1 2? 1 2 1+ 1 1? 1 3 -1? ...</td>\n",
              "      <td>codeforces</td>\n",
              "      <td>319</td>\n",
              "      <td>data structures</td>\n",
              "      <td>dfs and similar</td>\n",
              "      <td>divide and conquer</td>\n",
              "      <td>dp</td>\n",
              "      <td>math</td>\n",
              "      <td>trees</td>\n",
              "      <td>NaN</td>\n",
              "      <td>6</td>\n",
              "    </tr>\n",
              "    <tr>\n",
              "      <th>1</th>\n",
              "      <td>This is the simple version of the problem. The...</td>\n",
              "      <td>Input: ['18+ 1 -1? 1 1 2? 1 2 1+ 1 1? 1 3 -1? ...</td>\n",
              "      <td>codeforces</td>\n",
              "      <td>316</td>\n",
              "      <td>data structures</td>\n",
              "      <td>dfs and similar</td>\n",
              "      <td>dp</td>\n",
              "      <td>graphs</td>\n",
              "      <td>greedy</td>\n",
              "      <td>math</td>\n",
              "      <td>trees</td>\n",
              "      <td>7</td>\n",
              "    </tr>\n",
              "    <tr>\n",
              "      <th>2</th>\n",
              "      <td>You are given an array a consisting of n zeros...</td>\n",
              "      <td>Input: ['65 51 24 51 51 32 45531244 21 14 4223...</td>\n",
              "      <td>codeforces</td>\n",
              "      <td>182</td>\n",
              "      <td>binary search</td>\n",
              "      <td>brute force</td>\n",
              "      <td>data structures</td>\n",
              "      <td>two pointers</td>\n",
              "      <td>NaN</td>\n",
              "      <td>NaN</td>\n",
              "      <td>NaN</td>\n",
              "      <td>4</td>\n",
              "    </tr>\n",
              "    <tr>\n",
              "      <th>3</th>\n",
              "      <td>Timofey has an apple tree growing in his garde...</td>\n",
              "      <td>Input: ['251 23 45 33 243 45 14 41 331 21 331 ...</td>\n",
              "      <td>codeforces</td>\n",
              "      <td>243</td>\n",
              "      <td>combinatorics</td>\n",
              "      <td>dfs and similar</td>\n",
              "      <td>dp</td>\n",
              "      <td>math</td>\n",
              "      <td>trees</td>\n",
              "      <td>NaN</td>\n",
              "      <td>NaN</td>\n",
              "      <td>5</td>\n",
              "    </tr>\n",
              "    <tr>\n",
              "      <th>4</th>\n",
              "      <td>Vanya really likes math. One day when he was s...</td>\n",
              "      <td>Input: ['63103711000000000000000015'] Output:[...</td>\n",
              "      <td>codeforces</td>\n",
              "      <td>167</td>\n",
              "      <td>bitmasks</td>\n",
              "      <td>combinatorics</td>\n",
              "      <td>math</td>\n",
              "      <td>trees</td>\n",
              "      <td>NaN</td>\n",
              "      <td>NaN</td>\n",
              "      <td>NaN</td>\n",
              "      <td>4</td>\n",
              "    </tr>\n",
              "    <tr>\n",
              "      <th>...</th>\n",
              "      <td>...</td>\n",
              "      <td>...</td>\n",
              "      <td>...</td>\n",
              "      <td>...</td>\n",
              "      <td>...</td>\n",
              "      <td>...</td>\n",
              "      <td>...</td>\n",
              "      <td>...</td>\n",
              "      <td>...</td>\n",
              "      <td>...</td>\n",
              "      <td>...</td>\n",
              "      <td>...</td>\n",
              "    </tr>\n",
              "    <tr>\n",
              "      <th>10594</th>\n",
              "      <td>You are given a string of length 5 called time...</td>\n",
              "      <td>Input: time = \"?5:00\"\\nOutput: 2\\n</td>\n",
              "      <td>leetcode</td>\n",
              "      <td>84</td>\n",
              "      <td>string</td>\n",
              "      <td>enumeration</td>\n",
              "      <td>NaN</td>\n",
              "      <td>NaN</td>\n",
              "      <td>NaN</td>\n",
              "      <td>NaN</td>\n",
              "      <td>NaN</td>\n",
              "      <td>2</td>\n",
              "    </tr>\n",
              "    <tr>\n",
              "      <th>10595</th>\n",
              "      <td>Given the heads of two singly linked-lists hea...</td>\n",
              "      <td>Input: intersectVal = 8, listA = [4,1,8,4,5], ...</td>\n",
              "      <td>leetcode</td>\n",
              "      <td>194</td>\n",
              "      <td>hash-table</td>\n",
              "      <td>linked-list</td>\n",
              "      <td>two-pointers</td>\n",
              "      <td>NaN</td>\n",
              "      <td>NaN</td>\n",
              "      <td>NaN</td>\n",
              "      <td>NaN</td>\n",
              "      <td>3</td>\n",
              "    </tr>\n",
              "    <tr>\n",
              "      <th>10596</th>\n",
              "      <td>Given a string of digits s, return the number ...</td>\n",
              "      <td>Input: s = \"103301\"\\nOutput: 2\\n</td>\n",
              "      <td>leetcode</td>\n",
              "      <td>68</td>\n",
              "      <td>string</td>\n",
              "      <td>dynamic-programming</td>\n",
              "      <td>NaN</td>\n",
              "      <td>NaN</td>\n",
              "      <td>NaN</td>\n",
              "      <td>NaN</td>\n",
              "      <td>NaN</td>\n",
              "      <td>2</td>\n",
              "    </tr>\n",
              "    <tr>\n",
              "      <th>10597</th>\n",
              "      <td>You are given a series of video clips from a s...</td>\n",
              "      <td>Input: clips = [[0,2],[4,6],[8,10],[1,9],[1,5]...</td>\n",
              "      <td>leetcode</td>\n",
              "      <td>111</td>\n",
              "      <td>array</td>\n",
              "      <td>dynamic-programming</td>\n",
              "      <td>greedy</td>\n",
              "      <td>NaN</td>\n",
              "      <td>NaN</td>\n",
              "      <td>NaN</td>\n",
              "      <td>NaN</td>\n",
              "      <td>3</td>\n",
              "    </tr>\n",
              "    <tr>\n",
              "      <th>10598</th>\n",
              "      <td>You are given a 0-indexed m x n integer matrix...</td>\n",
              "      <td>Input: grid = [[5,3],[4,0],[2,1]], moveCost = ...</td>\n",
              "      <td>leetcode</td>\n",
              "      <td>202</td>\n",
              "      <td>array</td>\n",
              "      <td>dynamic-programming</td>\n",
              "      <td>matrix</td>\n",
              "      <td>NaN</td>\n",
              "      <td>NaN</td>\n",
              "      <td>NaN</td>\n",
              "      <td>NaN</td>\n",
              "      <td>3</td>\n",
              "    </tr>\n",
              "  </tbody>\n",
              "</table>\n",
              "<p>10599 rows × 12 columns</p>\n",
              "</div>"
            ],
            "text/plain": [
              "                                           question_text  \\\n",
              "0      This is the hard version of the problem. The o...   \n",
              "1      This is the simple version of the problem. The...   \n",
              "2      You are given an array a consisting of n zeros...   \n",
              "3      Timofey has an apple tree growing in his garde...   \n",
              "4      Vanya really likes math. One day when he was s...   \n",
              "...                                                  ...   \n",
              "10594  You are given a string of length 5 called time...   \n",
              "10595  Given the heads of two singly linked-lists hea...   \n",
              "10596  Given a string of digits s, return the number ...   \n",
              "10597  You are given a series of video clips from a s...   \n",
              "10598  You are given a 0-indexed m x n integer matrix...   \n",
              "\n",
              "                                           input_outputs     website  \\\n",
              "0      Input: ['18+ 1 -1? 1 1 2? 1 2 1+ 1 1? 1 3 -1? ...  codeforces   \n",
              "1      Input: ['18+ 1 -1? 1 1 2? 1 2 1+ 1 1? 1 3 -1? ...  codeforces   \n",
              "2      Input: ['65 51 24 51 51 32 45531244 21 14 4223...  codeforces   \n",
              "3      Input: ['251 23 45 33 243 45 14 41 331 21 331 ...  codeforces   \n",
              "4      Input: ['63103711000000000000000015'] Output:[...  codeforces   \n",
              "...                                                  ...         ...   \n",
              "10594                 Input: time = \"?5:00\"\\nOutput: 2\\n    leetcode   \n",
              "10595  Input: intersectVal = 8, listA = [4,1,8,4,5], ...    leetcode   \n",
              "10596                   Input: s = \"103301\"\\nOutput: 2\\n    leetcode   \n",
              "10597  Input: clips = [[0,2],[4,6],[8,10],[1,9],[1,5]...    leetcode   \n",
              "10598  Input: grid = [[5,3],[4,0],[2,1]], moveCost = ...    leetcode   \n",
              "\n",
              "       num_words            tag_1                tag_2               tag_3  \\\n",
              "0            319  data structures      dfs and similar  divide and conquer   \n",
              "1            316  data structures      dfs and similar                  dp   \n",
              "2            182    binary search          brute force     data structures   \n",
              "3            243    combinatorics      dfs and similar                  dp   \n",
              "4            167         bitmasks        combinatorics                math   \n",
              "...          ...              ...                  ...                 ...   \n",
              "10594         84           string          enumeration                 NaN   \n",
              "10595        194       hash-table          linked-list        two-pointers   \n",
              "10596         68           string  dynamic-programming                 NaN   \n",
              "10597        111            array  dynamic-programming              greedy   \n",
              "10598        202            array  dynamic-programming              matrix   \n",
              "\n",
              "              tag_4   tag_5  tag_6  tag_7  num_tags  \n",
              "0                dp    math  trees    NaN         6  \n",
              "1            graphs  greedy   math  trees         7  \n",
              "2      two pointers     NaN    NaN    NaN         4  \n",
              "3              math   trees    NaN    NaN         5  \n",
              "4             trees     NaN    NaN    NaN         4  \n",
              "...             ...     ...    ...    ...       ...  \n",
              "10594           NaN     NaN    NaN    NaN         2  \n",
              "10595           NaN     NaN    NaN    NaN         3  \n",
              "10596           NaN     NaN    NaN    NaN         2  \n",
              "10597           NaN     NaN    NaN    NaN         3  \n",
              "10598           NaN     NaN    NaN    NaN         3  \n",
              "\n",
              "[10599 rows x 12 columns]"
            ]
          },
          "execution_count": 11,
          "metadata": {},
          "output_type": "execute_result"
        }
      ],
      "source": [
        "df = pd.read_csv(\"../datasets/CPT.csv\")\n",
        "df"
      ]
    },
    {
      "cell_type": "markdown",
      "metadata": {
        "id": "WgjID5l2lXuj"
      },
      "source": [
        "## Extract Algorithm Tags"
      ]
    },
    {
      "cell_type": "code",
      "execution_count": null,
      "metadata": {
        "id": "arWFiJmllXuj"
      },
      "outputs": [],
      "source": [
        "algorithms = {\n",
        "    \"brute force\" : [],\n",
        "    \"search\" : [\"binary search\", \"dfs and similar\", \"bfs\"],\n",
        "    \"greedy\" : [],\n",
        "    \"dynamic programming\" : [\"dp\"],\n",
        "    \"math\" : [\"combinatorics\", \"geometry\", \"number theory\"]\n",
        "}"
      ]
    },
    {
      "cell_type": "code",
      "execution_count": null,
      "metadata": {
        "id": "F4OMD4c2lXuk"
      },
      "outputs": [],
      "source": [
        "for idx in range(1, 8):\n",
        "    df[f\"tag_{idx}\"] = df[f\"tag_{idx}\"].str.replace(\"-\", \" \")"
      ]
    },
    {
      "cell_type": "code",
      "execution_count": null,
      "metadata": {
        "id": "CBF7RcOJlXuk",
        "outputId": "9fa4df58-66ff-40c3-acaa-5d9d7bb45a31"
      },
      "outputs": [
        {
          "data": {
            "text/plain": [
              "Counter({'search': 2321,\n",
              "         'dynamic programming': 2178,\n",
              "         'math': 4413,\n",
              "         'greedy': 2646,\n",
              "         'brute force': 1418})"
            ]
          },
          "execution_count": 15,
          "metadata": {},
          "output_type": "execute_result"
        }
      ],
      "source": [
        "from collections import Counter\n",
        "\n",
        "freq = Counter()\n",
        "set_of_tags = set()\n",
        "for i in range(df.shape[0]):\n",
        "    for j in range(4, 4+7):\n",
        "        tag = df.iloc[i, j]\n",
        "        if not pd.isna(tag):\n",
        "            for k in algorithms:\n",
        "                if k in tag:\n",
        "                    set_of_tags.add(tag)\n",
        "                    freq[k] += 1\n",
        "                else:\n",
        "                    for v in algorithms[k]:\n",
        "                        if v in tag:\n",
        "                            set_of_tags.add(tag)\n",
        "                            freq[k] += 1\n",
        "                            break\n",
        "\n",
        "freq"
      ]
    },
    {
      "cell_type": "code",
      "execution_count": null,
      "metadata": {
        "id": "K1iUKeL8lXuk"
      },
      "outputs": [],
      "source": [
        "idx_tags = dict()\n",
        "\n",
        "for i in range(df.shape[0]):\n",
        "    tags = []\n",
        "    for j in range(4, 4+7):\n",
        "        tag = df.iloc[i, j]\n",
        "        if not pd.isna(tag):\n",
        "            for k in freq:\n",
        "                if k in tag:\n",
        "                    tags.append(k)\n",
        "                    break\n",
        "    if len(tags)>0:\n",
        "        idx_tags[i] = sorted(tags)"
      ]
    },
    {
      "cell_type": "code",
      "execution_count": null,
      "metadata": {
        "id": "A0UPYu_MlXuk",
        "outputId": "33059e9a-7320-452e-9919-59c9b1d0c24d"
      },
      "outputs": [
        {
          "data": {
            "text/plain": [
              "6477"
            ]
          },
          "execution_count": 17,
          "metadata": {},
          "output_type": "execute_result"
        }
      ],
      "source": [
        "len(idx_tags)"
      ]
    },
    {
      "cell_type": "code",
      "execution_count": null,
      "metadata": {
        "id": "NIL5hb4QlXul"
      },
      "outputs": [],
      "source": [
        "df_sub = df.iloc[list(idx_tags.keys()),:]\n",
        "df_sub.reset_index(drop=True, inplace=True)"
      ]
    },
    {
      "cell_type": "code",
      "execution_count": null,
      "metadata": {
        "id": "iFBBic1VlXul",
        "outputId": "92cb0c17-0532-4d1d-9809-d0584cfd332b"
      },
      "outputs": [
        {
          "name": "stderr",
          "output_type": "stream",
          "text": [
            "/var/folders/04/6hgq7ygs5lg5504qv8g2mjt80000gn/T/ipykernel_1024/3554728771.py:1: SettingWithCopyWarning: \n",
            "A value is trying to be set on a copy of a slice from a DataFrame.\n",
            "Try using .loc[row_indexer,col_indexer] = value instead\n",
            "\n",
            "See the caveats in the documentation: https://pandas.pydata.org/pandas-docs/stable/user_guide/indexing.html#returning-a-view-versus-a-copy\n",
            "  df_sub[\"algo_tags\"] = list(idx_tags.values())\n"
          ]
        }
      ],
      "source": [
        "df_sub[\"algo_tags\"] = list(idx_tags.values())"
      ]
    },
    {
      "cell_type": "code",
      "execution_count": null,
      "metadata": {
        "id": "8HfgKj1llXul",
        "outputId": "cb05b9ed-dfc6-4565-920a-963c515432c0"
      },
      "outputs": [
        {
          "data": {
            "text/plain": [
              "Index(['question_text', 'input_outputs', 'website', 'num_words', 'tag_1',\n",
              "       'tag_2', 'tag_3', 'tag_4', 'tag_5', 'tag_6', 'tag_7', 'num_tags',\n",
              "       'algo_tags'],\n",
              "      dtype='object')"
            ]
          },
          "execution_count": 20,
          "metadata": {},
          "output_type": "execute_result"
        }
      ],
      "source": [
        "df_sub.columns"
      ]
    },
    {
      "cell_type": "code",
      "execution_count": null,
      "metadata": {
        "id": "enkYRAiIlXul",
        "outputId": "735a559d-e5d7-412e-d382-9e1f1a300d09"
      },
      "outputs": [
        {
          "name": "stderr",
          "output_type": "stream",
          "text": [
            "/var/folders/04/6hgq7ygs5lg5504qv8g2mjt80000gn/T/ipykernel_1024/3361210961.py:1: SettingWithCopyWarning: \n",
            "A value is trying to be set on a copy of a slice from a DataFrame\n",
            "\n",
            "See the caveats in the documentation: https://pandas.pydata.org/pandas-docs/stable/user_guide/indexing.html#returning-a-view-versus-a-copy\n",
            "  df_sub.drop([f\"tag_{i}\" for i in range(1, 8)], axis=1, inplace=True)\n",
            "/var/folders/04/6hgq7ygs5lg5504qv8g2mjt80000gn/T/ipykernel_1024/3361210961.py:2: SettingWithCopyWarning: \n",
            "A value is trying to be set on a copy of a slice from a DataFrame\n",
            "\n",
            "See the caveats in the documentation: https://pandas.pydata.org/pandas-docs/stable/user_guide/indexing.html#returning-a-view-versus-a-copy\n",
            "  df_sub.drop([\"website\", \"num_words\", \"num_tags\"], axis=1, inplace=True)\n"
          ]
        }
      ],
      "source": [
        "df_sub.drop([f\"tag_{i}\" for i in range(1, 8)], axis=1, inplace=True)\n",
        "df_sub.drop([\"website\", \"num_words\", \"num_tags\"], axis=1, inplace=True)"
      ]
    },
    {
      "cell_type": "code",
      "execution_count": null,
      "metadata": {
        "id": "OLlAAYhYlXul",
        "outputId": "f4729679-ab2c-4406-8fa5-c0e71cf4c895"
      },
      "outputs": [
        {
          "data": {
            "text/html": [
              "<div>\n",
              "<style scoped>\n",
              "    .dataframe tbody tr th:only-of-type {\n",
              "        vertical-align: middle;\n",
              "    }\n",
              "\n",
              "    .dataframe tbody tr th {\n",
              "        vertical-align: top;\n",
              "    }\n",
              "\n",
              "    .dataframe thead th {\n",
              "        text-align: right;\n",
              "    }\n",
              "</style>\n",
              "<table border=\"1\" class=\"dataframe\">\n",
              "  <thead>\n",
              "    <tr style=\"text-align: right;\">\n",
              "      <th></th>\n",
              "      <th>question_text</th>\n",
              "      <th>input_outputs</th>\n",
              "      <th>algo_tags</th>\n",
              "    </tr>\n",
              "  </thead>\n",
              "  <tbody>\n",
              "    <tr>\n",
              "      <th>0</th>\n",
              "      <td>This is the hard version of the problem. The o...</td>\n",
              "      <td>Input: ['18+ 1 -1? 1 1 2? 1 2 1+ 1 1? 1 3 -1? ...</td>\n",
              "      <td>[math]</td>\n",
              "    </tr>\n",
              "    <tr>\n",
              "      <th>1</th>\n",
              "      <td>This is the simple version of the problem. The...</td>\n",
              "      <td>Input: ['18+ 1 -1? 1 1 2? 1 2 1+ 1 1? 1 3 -1? ...</td>\n",
              "      <td>[greedy, math]</td>\n",
              "    </tr>\n",
              "    <tr>\n",
              "      <th>2</th>\n",
              "      <td>You are given an array a consisting of n zeros...</td>\n",
              "      <td>Input: ['65 51 24 51 51 32 45531244 21 14 4223...</td>\n",
              "      <td>[brute force, search]</td>\n",
              "    </tr>\n",
              "    <tr>\n",
              "      <th>3</th>\n",
              "      <td>Timofey has an apple tree growing in his garde...</td>\n",
              "      <td>Input: ['251 23 45 33 243 45 14 41 331 21 331 ...</td>\n",
              "      <td>[math]</td>\n",
              "    </tr>\n",
              "    <tr>\n",
              "      <th>4</th>\n",
              "      <td>Vanya really likes math. One day when he was s...</td>\n",
              "      <td>Input: ['63103711000000000000000015'] Output:[...</td>\n",
              "      <td>[math]</td>\n",
              "    </tr>\n",
              "    <tr>\n",
              "      <th>...</th>\n",
              "      <td>...</td>\n",
              "      <td>...</td>\n",
              "      <td>...</td>\n",
              "    </tr>\n",
              "    <tr>\n",
              "      <th>6472</th>\n",
              "      <td>There is a forest with an unknown number of ra...</td>\n",
              "      <td>Input: answers = [1,1,2]\\nOutput: 5\\n</td>\n",
              "      <td>[greedy, math]</td>\n",
              "    </tr>\n",
              "    <tr>\n",
              "      <th>6473</th>\n",
              "      <td>We run a preorder depth-first search (DFS) on ...</td>\n",
              "      <td>Input: traversal = \"1-2--3--4-5--6--7\"\\nOutput...</td>\n",
              "      <td>[search]</td>\n",
              "    </tr>\n",
              "    <tr>\n",
              "      <th>6474</th>\n",
              "      <td>Given a string of digits s, return the number ...</td>\n",
              "      <td>Input: s = \"103301\"\\nOutput: 2\\n</td>\n",
              "      <td>[dynamic programming]</td>\n",
              "    </tr>\n",
              "    <tr>\n",
              "      <th>6475</th>\n",
              "      <td>You are given a series of video clips from a s...</td>\n",
              "      <td>Input: clips = [[0,2],[4,6],[8,10],[1,9],[1,5]...</td>\n",
              "      <td>[dynamic programming, greedy]</td>\n",
              "    </tr>\n",
              "    <tr>\n",
              "      <th>6476</th>\n",
              "      <td>You are given a 0-indexed m x n integer matrix...</td>\n",
              "      <td>Input: grid = [[5,3],[4,0],[2,1]], moveCost = ...</td>\n",
              "      <td>[dynamic programming]</td>\n",
              "    </tr>\n",
              "  </tbody>\n",
              "</table>\n",
              "<p>6477 rows × 3 columns</p>\n",
              "</div>"
            ],
            "text/plain": [
              "                                          question_text  \\\n",
              "0     This is the hard version of the problem. The o...   \n",
              "1     This is the simple version of the problem. The...   \n",
              "2     You are given an array a consisting of n zeros...   \n",
              "3     Timofey has an apple tree growing in his garde...   \n",
              "4     Vanya really likes math. One day when he was s...   \n",
              "...                                                 ...   \n",
              "6472  There is a forest with an unknown number of ra...   \n",
              "6473  We run a preorder depth-first search (DFS) on ...   \n",
              "6474  Given a string of digits s, return the number ...   \n",
              "6475  You are given a series of video clips from a s...   \n",
              "6476  You are given a 0-indexed m x n integer matrix...   \n",
              "\n",
              "                                          input_outputs  \\\n",
              "0     Input: ['18+ 1 -1? 1 1 2? 1 2 1+ 1 1? 1 3 -1? ...   \n",
              "1     Input: ['18+ 1 -1? 1 1 2? 1 2 1+ 1 1? 1 3 -1? ...   \n",
              "2     Input: ['65 51 24 51 51 32 45531244 21 14 4223...   \n",
              "3     Input: ['251 23 45 33 243 45 14 41 331 21 331 ...   \n",
              "4     Input: ['63103711000000000000000015'] Output:[...   \n",
              "...                                                 ...   \n",
              "6472              Input: answers = [1,1,2]\\nOutput: 5\\n   \n",
              "6473  Input: traversal = \"1-2--3--4-5--6--7\"\\nOutput...   \n",
              "6474                   Input: s = \"103301\"\\nOutput: 2\\n   \n",
              "6475  Input: clips = [[0,2],[4,6],[8,10],[1,9],[1,5]...   \n",
              "6476  Input: grid = [[5,3],[4,0],[2,1]], moveCost = ...   \n",
              "\n",
              "                          algo_tags  \n",
              "0                            [math]  \n",
              "1                    [greedy, math]  \n",
              "2             [brute force, search]  \n",
              "3                            [math]  \n",
              "4                            [math]  \n",
              "...                             ...  \n",
              "6472                 [greedy, math]  \n",
              "6473                       [search]  \n",
              "6474          [dynamic programming]  \n",
              "6475  [dynamic programming, greedy]  \n",
              "6476          [dynamic programming]  \n",
              "\n",
              "[6477 rows x 3 columns]"
            ]
          },
          "execution_count": 22,
          "metadata": {},
          "output_type": "execute_result"
        }
      ],
      "source": [
        "df_sub"
      ]
    },
    {
      "cell_type": "code",
      "execution_count": null,
      "metadata": {
        "id": "fM9Td5mnlXul"
      },
      "outputs": [],
      "source": [
        "df_sub.to_csv(\"../datasets/CPTALGOML.csv\", index=False)"
      ]
    },
    {
      "cell_type": "markdown",
      "metadata": {
        "id": "5XqxNfSklXum"
      },
      "source": [
        "# Multiclass Algorithm Classification"
      ]
    },
    {
      "cell_type": "code",
      "execution_count": 47,
      "metadata": {
        "id": "S1RgBmyBlXum"
      },
      "outputs": [],
      "source": [
        "import pandas as pd\n",
        "import numpy as np\n",
        "import matplotlib.pyplot as plt\n",
        "\n",
        "import torch\n",
        "from torch import nn\n",
        "from torch.nn import functional as F\n",
        "from torch.utils.data import Dataset, DataLoader\n",
        "from torch.nn.utils.rnn import pad_sequence\n",
        "from torchtext.vocab import build_vocab_from_iterator\n",
        "from torchtext.data.utils import get_tokenizer\n",
        "\n",
        "import random\n",
        "from typing import Union, List, Tuple, Dict\n",
        "from tqdm import tqdm\n",
        "\n",
        "from collections import defaultdict, Counter\n",
        "from sklearn import model_selection, ensemble, metrics, base\n",
        "from sklearn.feature_extraction.text import TfidfVectorizer\n",
        "\n",
        "import xgboost as xgb\n",
        "import lightgbm as lgb"
      ]
    },
    {
      "cell_type": "code",
      "execution_count": 3,
      "metadata": {
        "id": "u_XdMDfZlXum"
      },
      "outputs": [],
      "source": [
        "import warnings\n",
        "warnings.filterwarnings(\"ignore\")"
      ]
    },
    {
      "cell_type": "code",
      "execution_count": 13,
      "metadata": {
        "id": "OlzjUxDnlXum"
      },
      "outputs": [],
      "source": [
        "df = pd.read_csv(\"./CPTALGOML.csv\")"
      ]
    },
    {
      "cell_type": "code",
      "execution_count": 14,
      "metadata": {
        "colab": {
          "base_uri": "https://localhost:8080/",
          "height": 206
        },
        "id": "wofWZp5GlXum",
        "outputId": "d6bf2093-190c-45a9-f397-821fdb6d04a6"
      },
      "outputs": [
        {
          "output_type": "execute_result",
          "data": {
            "text/plain": [
              "                                       question_text  \\\n",
              "0  This is the hard version of the problem. The o...   \n",
              "1  This is the simple version of the problem. The...   \n",
              "2  You are given an array a consisting of n zeros...   \n",
              "3  Timofey has an apple tree growing in his garde...   \n",
              "4  Vanya really likes math. One day when he was s...   \n",
              "\n",
              "                                       input_outputs  \\\n",
              "0  Input: ['18+ 1 -1? 1 1 2? 1 2 1+ 1 1? 1 3 -1? ...   \n",
              "1  Input: ['18+ 1 -1? 1 1 2? 1 2 1+ 1 1? 1 3 -1? ...   \n",
              "2  Input: ['65 51 24 51 51 32 45531244 21 14 4223...   \n",
              "3  Input: ['251 23 45 33 243 45 14 41 331 21 331 ...   \n",
              "4  Input: ['63103711000000000000000015'] Output:[...   \n",
              "\n",
              "                   algo_tags        label  \n",
              "0                   ['math']         math  \n",
              "1         ['greedy', 'math']       greedy  \n",
              "2  ['brute force', 'search']  brute force  \n",
              "3                   ['math']         math  \n",
              "4                   ['math']         math  "
            ],
            "text/html": [
              "\n",
              "\n",
              "  <div id=\"df-baf08bc9-20cd-4fb9-be4f-300e3347296e\">\n",
              "    <div class=\"colab-df-container\">\n",
              "      <div>\n",
              "<style scoped>\n",
              "    .dataframe tbody tr th:only-of-type {\n",
              "        vertical-align: middle;\n",
              "    }\n",
              "\n",
              "    .dataframe tbody tr th {\n",
              "        vertical-align: top;\n",
              "    }\n",
              "\n",
              "    .dataframe thead th {\n",
              "        text-align: right;\n",
              "    }\n",
              "</style>\n",
              "<table border=\"1\" class=\"dataframe\">\n",
              "  <thead>\n",
              "    <tr style=\"text-align: right;\">\n",
              "      <th></th>\n",
              "      <th>question_text</th>\n",
              "      <th>input_outputs</th>\n",
              "      <th>algo_tags</th>\n",
              "      <th>label</th>\n",
              "    </tr>\n",
              "  </thead>\n",
              "  <tbody>\n",
              "    <tr>\n",
              "      <th>0</th>\n",
              "      <td>This is the hard version of the problem. The o...</td>\n",
              "      <td>Input: ['18+ 1 -1? 1 1 2? 1 2 1+ 1 1? 1 3 -1? ...</td>\n",
              "      <td>['math']</td>\n",
              "      <td>math</td>\n",
              "    </tr>\n",
              "    <tr>\n",
              "      <th>1</th>\n",
              "      <td>This is the simple version of the problem. The...</td>\n",
              "      <td>Input: ['18+ 1 -1? 1 1 2? 1 2 1+ 1 1? 1 3 -1? ...</td>\n",
              "      <td>['greedy', 'math']</td>\n",
              "      <td>greedy</td>\n",
              "    </tr>\n",
              "    <tr>\n",
              "      <th>2</th>\n",
              "      <td>You are given an array a consisting of n zeros...</td>\n",
              "      <td>Input: ['65 51 24 51 51 32 45531244 21 14 4223...</td>\n",
              "      <td>['brute force', 'search']</td>\n",
              "      <td>brute force</td>\n",
              "    </tr>\n",
              "    <tr>\n",
              "      <th>3</th>\n",
              "      <td>Timofey has an apple tree growing in his garde...</td>\n",
              "      <td>Input: ['251 23 45 33 243 45 14 41 331 21 331 ...</td>\n",
              "      <td>['math']</td>\n",
              "      <td>math</td>\n",
              "    </tr>\n",
              "    <tr>\n",
              "      <th>4</th>\n",
              "      <td>Vanya really likes math. One day when he was s...</td>\n",
              "      <td>Input: ['63103711000000000000000015'] Output:[...</td>\n",
              "      <td>['math']</td>\n",
              "      <td>math</td>\n",
              "    </tr>\n",
              "  </tbody>\n",
              "</table>\n",
              "</div>\n",
              "      <button class=\"colab-df-convert\" onclick=\"convertToInteractive('df-baf08bc9-20cd-4fb9-be4f-300e3347296e')\"\n",
              "              title=\"Convert this dataframe to an interactive table.\"\n",
              "              style=\"display:none;\">\n",
              "\n",
              "  <svg xmlns=\"http://www.w3.org/2000/svg\" height=\"24px\"viewBox=\"0 0 24 24\"\n",
              "       width=\"24px\">\n",
              "    <path d=\"M0 0h24v24H0V0z\" fill=\"none\"/>\n",
              "    <path d=\"M18.56 5.44l.94 2.06.94-2.06 2.06-.94-2.06-.94-.94-2.06-.94 2.06-2.06.94zm-11 1L8.5 8.5l.94-2.06 2.06-.94-2.06-.94L8.5 2.5l-.94 2.06-2.06.94zm10 10l.94 2.06.94-2.06 2.06-.94-2.06-.94-.94-2.06-.94 2.06-2.06.94z\"/><path d=\"M17.41 7.96l-1.37-1.37c-.4-.4-.92-.59-1.43-.59-.52 0-1.04.2-1.43.59L10.3 9.45l-7.72 7.72c-.78.78-.78 2.05 0 2.83L4 21.41c.39.39.9.59 1.41.59.51 0 1.02-.2 1.41-.59l7.78-7.78 2.81-2.81c.8-.78.8-2.07 0-2.86zM5.41 20L4 18.59l7.72-7.72 1.47 1.35L5.41 20z\"/>\n",
              "  </svg>\n",
              "      </button>\n",
              "\n",
              "\n",
              "\n",
              "    <div id=\"df-32669ac3-df7e-4c93-857a-f0ed17a2515c\">\n",
              "      <button class=\"colab-df-quickchart\" onclick=\"quickchart('df-32669ac3-df7e-4c93-857a-f0ed17a2515c')\"\n",
              "              title=\"Suggest charts.\"\n",
              "              style=\"display:none;\">\n",
              "\n",
              "<svg xmlns=\"http://www.w3.org/2000/svg\" height=\"24px\"viewBox=\"0 0 24 24\"\n",
              "     width=\"24px\">\n",
              "    <g>\n",
              "        <path d=\"M19 3H5c-1.1 0-2 .9-2 2v14c0 1.1.9 2 2 2h14c1.1 0 2-.9 2-2V5c0-1.1-.9-2-2-2zM9 17H7v-7h2v7zm4 0h-2V7h2v10zm4 0h-2v-4h2v4z\"/>\n",
              "    </g>\n",
              "</svg>\n",
              "      </button>\n",
              "    </div>\n",
              "\n",
              "<style>\n",
              "  .colab-df-quickchart {\n",
              "    background-color: #E8F0FE;\n",
              "    border: none;\n",
              "    border-radius: 50%;\n",
              "    cursor: pointer;\n",
              "    display: none;\n",
              "    fill: #1967D2;\n",
              "    height: 32px;\n",
              "    padding: 0 0 0 0;\n",
              "    width: 32px;\n",
              "  }\n",
              "\n",
              "  .colab-df-quickchart:hover {\n",
              "    background-color: #E2EBFA;\n",
              "    box-shadow: 0px 1px 2px rgba(60, 64, 67, 0.3), 0px 1px 3px 1px rgba(60, 64, 67, 0.15);\n",
              "    fill: #174EA6;\n",
              "  }\n",
              "\n",
              "  [theme=dark] .colab-df-quickchart {\n",
              "    background-color: #3B4455;\n",
              "    fill: #D2E3FC;\n",
              "  }\n",
              "\n",
              "  [theme=dark] .colab-df-quickchart:hover {\n",
              "    background-color: #434B5C;\n",
              "    box-shadow: 0px 1px 3px 1px rgba(0, 0, 0, 0.15);\n",
              "    filter: drop-shadow(0px 1px 2px rgba(0, 0, 0, 0.3));\n",
              "    fill: #FFFFFF;\n",
              "  }\n",
              "</style>\n",
              "\n",
              "    <script>\n",
              "      async function quickchart(key) {\n",
              "        const containerElement = document.querySelector('#' + key);\n",
              "        const charts = await google.colab.kernel.invokeFunction(\n",
              "            'suggestCharts', [key], {});\n",
              "      }\n",
              "    </script>\n",
              "\n",
              "\n",
              "      <script>\n",
              "\n",
              "function displayQuickchartButton(domScope) {\n",
              "  let quickchartButtonEl =\n",
              "    domScope.querySelector('#df-32669ac3-df7e-4c93-857a-f0ed17a2515c button.colab-df-quickchart');\n",
              "  quickchartButtonEl.style.display =\n",
              "    google.colab.kernel.accessAllowed ? 'block' : 'none';\n",
              "}\n",
              "\n",
              "        displayQuickchartButton(document);\n",
              "      </script>\n",
              "      <style>\n",
              "    .colab-df-container {\n",
              "      display:flex;\n",
              "      flex-wrap:wrap;\n",
              "      gap: 12px;\n",
              "    }\n",
              "\n",
              "    .colab-df-convert {\n",
              "      background-color: #E8F0FE;\n",
              "      border: none;\n",
              "      border-radius: 50%;\n",
              "      cursor: pointer;\n",
              "      display: none;\n",
              "      fill: #1967D2;\n",
              "      height: 32px;\n",
              "      padding: 0 0 0 0;\n",
              "      width: 32px;\n",
              "    }\n",
              "\n",
              "    .colab-df-convert:hover {\n",
              "      background-color: #E2EBFA;\n",
              "      box-shadow: 0px 1px 2px rgba(60, 64, 67, 0.3), 0px 1px 3px 1px rgba(60, 64, 67, 0.15);\n",
              "      fill: #174EA6;\n",
              "    }\n",
              "\n",
              "    [theme=dark] .colab-df-convert {\n",
              "      background-color: #3B4455;\n",
              "      fill: #D2E3FC;\n",
              "    }\n",
              "\n",
              "    [theme=dark] .colab-df-convert:hover {\n",
              "      background-color: #434B5C;\n",
              "      box-shadow: 0px 1px 3px 1px rgba(0, 0, 0, 0.15);\n",
              "      filter: drop-shadow(0px 1px 2px rgba(0, 0, 0, 0.3));\n",
              "      fill: #FFFFFF;\n",
              "    }\n",
              "  </style>\n",
              "\n",
              "      <script>\n",
              "        const buttonEl =\n",
              "          document.querySelector('#df-baf08bc9-20cd-4fb9-be4f-300e3347296e button.colab-df-convert');\n",
              "        buttonEl.style.display =\n",
              "          google.colab.kernel.accessAllowed ? 'block' : 'none';\n",
              "\n",
              "        async function convertToInteractive(key) {\n",
              "          const element = document.querySelector('#df-baf08bc9-20cd-4fb9-be4f-300e3347296e');\n",
              "          const dataTable =\n",
              "            await google.colab.kernel.invokeFunction('convertToInteractive',\n",
              "                                                     [key], {});\n",
              "          if (!dataTable) return;\n",
              "\n",
              "          const docLinkHtml = 'Like what you see? Visit the ' +\n",
              "            '<a target=\"_blank\" href=https://colab.research.google.com/notebooks/data_table.ipynb>data table notebook</a>'\n",
              "            + ' to learn more about interactive tables.';\n",
              "          element.innerHTML = '';\n",
              "          dataTable['output_type'] = 'display_data';\n",
              "          await google.colab.output.renderOutput(dataTable, element);\n",
              "          const docLink = document.createElement('div');\n",
              "          docLink.innerHTML = docLinkHtml;\n",
              "          element.appendChild(docLink);\n",
              "        }\n",
              "      </script>\n",
              "    </div>\n",
              "  </div>\n"
            ]
          },
          "metadata": {},
          "execution_count": 14
        }
      ],
      "source": [
        "df['label'] = df[\"algo_tags\"].apply(lambda tags: tags.split(\"'\")[1])\n",
        "df.head()"
      ]
    },
    {
      "cell_type": "code",
      "execution_count": 15,
      "metadata": {
        "colab": {
          "base_uri": "https://localhost:8080/",
          "height": 206
        },
        "id": "I9sCXuTYlXum",
        "outputId": "67bb0ae4-5b6f-430f-b295-e1adeb9bc5f7"
      },
      "outputs": [
        {
          "output_type": "execute_result",
          "data": {
            "text/plain": [
              "         label                                                qns\n",
              "0         math  This is the hard version of the problem. The o...\n",
              "1       greedy  This is the simple version of the problem. The...\n",
              "2  brute force  You are given an array a consisting of n zeros...\n",
              "3         math  Timofey has an apple tree growing in his garde...\n",
              "4         math  Vanya really likes math. One day when he was s..."
            ],
            "text/html": [
              "\n",
              "\n",
              "  <div id=\"df-6954021a-6789-40ad-9412-ad900879cb91\">\n",
              "    <div class=\"colab-df-container\">\n",
              "      <div>\n",
              "<style scoped>\n",
              "    .dataframe tbody tr th:only-of-type {\n",
              "        vertical-align: middle;\n",
              "    }\n",
              "\n",
              "    .dataframe tbody tr th {\n",
              "        vertical-align: top;\n",
              "    }\n",
              "\n",
              "    .dataframe thead th {\n",
              "        text-align: right;\n",
              "    }\n",
              "</style>\n",
              "<table border=\"1\" class=\"dataframe\">\n",
              "  <thead>\n",
              "    <tr style=\"text-align: right;\">\n",
              "      <th></th>\n",
              "      <th>label</th>\n",
              "      <th>qns</th>\n",
              "    </tr>\n",
              "  </thead>\n",
              "  <tbody>\n",
              "    <tr>\n",
              "      <th>0</th>\n",
              "      <td>math</td>\n",
              "      <td>This is the hard version of the problem. The o...</td>\n",
              "    </tr>\n",
              "    <tr>\n",
              "      <th>1</th>\n",
              "      <td>greedy</td>\n",
              "      <td>This is the simple version of the problem. The...</td>\n",
              "    </tr>\n",
              "    <tr>\n",
              "      <th>2</th>\n",
              "      <td>brute force</td>\n",
              "      <td>You are given an array a consisting of n zeros...</td>\n",
              "    </tr>\n",
              "    <tr>\n",
              "      <th>3</th>\n",
              "      <td>math</td>\n",
              "      <td>Timofey has an apple tree growing in his garde...</td>\n",
              "    </tr>\n",
              "    <tr>\n",
              "      <th>4</th>\n",
              "      <td>math</td>\n",
              "      <td>Vanya really likes math. One day when he was s...</td>\n",
              "    </tr>\n",
              "  </tbody>\n",
              "</table>\n",
              "</div>\n",
              "      <button class=\"colab-df-convert\" onclick=\"convertToInteractive('df-6954021a-6789-40ad-9412-ad900879cb91')\"\n",
              "              title=\"Convert this dataframe to an interactive table.\"\n",
              "              style=\"display:none;\">\n",
              "\n",
              "  <svg xmlns=\"http://www.w3.org/2000/svg\" height=\"24px\"viewBox=\"0 0 24 24\"\n",
              "       width=\"24px\">\n",
              "    <path d=\"M0 0h24v24H0V0z\" fill=\"none\"/>\n",
              "    <path d=\"M18.56 5.44l.94 2.06.94-2.06 2.06-.94-2.06-.94-.94-2.06-.94 2.06-2.06.94zm-11 1L8.5 8.5l.94-2.06 2.06-.94-2.06-.94L8.5 2.5l-.94 2.06-2.06.94zm10 10l.94 2.06.94-2.06 2.06-.94-2.06-.94-.94-2.06-.94 2.06-2.06.94z\"/><path d=\"M17.41 7.96l-1.37-1.37c-.4-.4-.92-.59-1.43-.59-.52 0-1.04.2-1.43.59L10.3 9.45l-7.72 7.72c-.78.78-.78 2.05 0 2.83L4 21.41c.39.39.9.59 1.41.59.51 0 1.02-.2 1.41-.59l7.78-7.78 2.81-2.81c.8-.78.8-2.07 0-2.86zM5.41 20L4 18.59l7.72-7.72 1.47 1.35L5.41 20z\"/>\n",
              "  </svg>\n",
              "      </button>\n",
              "\n",
              "\n",
              "\n",
              "    <div id=\"df-b1ea16b3-d48a-41e0-8edb-21dbf445ff73\">\n",
              "      <button class=\"colab-df-quickchart\" onclick=\"quickchart('df-b1ea16b3-d48a-41e0-8edb-21dbf445ff73')\"\n",
              "              title=\"Suggest charts.\"\n",
              "              style=\"display:none;\">\n",
              "\n",
              "<svg xmlns=\"http://www.w3.org/2000/svg\" height=\"24px\"viewBox=\"0 0 24 24\"\n",
              "     width=\"24px\">\n",
              "    <g>\n",
              "        <path d=\"M19 3H5c-1.1 0-2 .9-2 2v14c0 1.1.9 2 2 2h14c1.1 0 2-.9 2-2V5c0-1.1-.9-2-2-2zM9 17H7v-7h2v7zm4 0h-2V7h2v10zm4 0h-2v-4h2v4z\"/>\n",
              "    </g>\n",
              "</svg>\n",
              "      </button>\n",
              "    </div>\n",
              "\n",
              "<style>\n",
              "  .colab-df-quickchart {\n",
              "    background-color: #E8F0FE;\n",
              "    border: none;\n",
              "    border-radius: 50%;\n",
              "    cursor: pointer;\n",
              "    display: none;\n",
              "    fill: #1967D2;\n",
              "    height: 32px;\n",
              "    padding: 0 0 0 0;\n",
              "    width: 32px;\n",
              "  }\n",
              "\n",
              "  .colab-df-quickchart:hover {\n",
              "    background-color: #E2EBFA;\n",
              "    box-shadow: 0px 1px 2px rgba(60, 64, 67, 0.3), 0px 1px 3px 1px rgba(60, 64, 67, 0.15);\n",
              "    fill: #174EA6;\n",
              "  }\n",
              "\n",
              "  [theme=dark] .colab-df-quickchart {\n",
              "    background-color: #3B4455;\n",
              "    fill: #D2E3FC;\n",
              "  }\n",
              "\n",
              "  [theme=dark] .colab-df-quickchart:hover {\n",
              "    background-color: #434B5C;\n",
              "    box-shadow: 0px 1px 3px 1px rgba(0, 0, 0, 0.15);\n",
              "    filter: drop-shadow(0px 1px 2px rgba(0, 0, 0, 0.3));\n",
              "    fill: #FFFFFF;\n",
              "  }\n",
              "</style>\n",
              "\n",
              "    <script>\n",
              "      async function quickchart(key) {\n",
              "        const containerElement = document.querySelector('#' + key);\n",
              "        const charts = await google.colab.kernel.invokeFunction(\n",
              "            'suggestCharts', [key], {});\n",
              "      }\n",
              "    </script>\n",
              "\n",
              "\n",
              "      <script>\n",
              "\n",
              "function displayQuickchartButton(domScope) {\n",
              "  let quickchartButtonEl =\n",
              "    domScope.querySelector('#df-b1ea16b3-d48a-41e0-8edb-21dbf445ff73 button.colab-df-quickchart');\n",
              "  quickchartButtonEl.style.display =\n",
              "    google.colab.kernel.accessAllowed ? 'block' : 'none';\n",
              "}\n",
              "\n",
              "        displayQuickchartButton(document);\n",
              "      </script>\n",
              "      <style>\n",
              "    .colab-df-container {\n",
              "      display:flex;\n",
              "      flex-wrap:wrap;\n",
              "      gap: 12px;\n",
              "    }\n",
              "\n",
              "    .colab-df-convert {\n",
              "      background-color: #E8F0FE;\n",
              "      border: none;\n",
              "      border-radius: 50%;\n",
              "      cursor: pointer;\n",
              "      display: none;\n",
              "      fill: #1967D2;\n",
              "      height: 32px;\n",
              "      padding: 0 0 0 0;\n",
              "      width: 32px;\n",
              "    }\n",
              "\n",
              "    .colab-df-convert:hover {\n",
              "      background-color: #E2EBFA;\n",
              "      box-shadow: 0px 1px 2px rgba(60, 64, 67, 0.3), 0px 1px 3px 1px rgba(60, 64, 67, 0.15);\n",
              "      fill: #174EA6;\n",
              "    }\n",
              "\n",
              "    [theme=dark] .colab-df-convert {\n",
              "      background-color: #3B4455;\n",
              "      fill: #D2E3FC;\n",
              "    }\n",
              "\n",
              "    [theme=dark] .colab-df-convert:hover {\n",
              "      background-color: #434B5C;\n",
              "      box-shadow: 0px 1px 3px 1px rgba(0, 0, 0, 0.15);\n",
              "      filter: drop-shadow(0px 1px 2px rgba(0, 0, 0, 0.3));\n",
              "      fill: #FFFFFF;\n",
              "    }\n",
              "  </style>\n",
              "\n",
              "      <script>\n",
              "        const buttonEl =\n",
              "          document.querySelector('#df-6954021a-6789-40ad-9412-ad900879cb91 button.colab-df-convert');\n",
              "        buttonEl.style.display =\n",
              "          google.colab.kernel.accessAllowed ? 'block' : 'none';\n",
              "\n",
              "        async function convertToInteractive(key) {\n",
              "          const element = document.querySelector('#df-6954021a-6789-40ad-9412-ad900879cb91');\n",
              "          const dataTable =\n",
              "            await google.colab.kernel.invokeFunction('convertToInteractive',\n",
              "                                                     [key], {});\n",
              "          if (!dataTable) return;\n",
              "\n",
              "          const docLinkHtml = 'Like what you see? Visit the ' +\n",
              "            '<a target=\"_blank\" href=https://colab.research.google.com/notebooks/data_table.ipynb>data table notebook</a>'\n",
              "            + ' to learn more about interactive tables.';\n",
              "          element.innerHTML = '';\n",
              "          dataTable['output_type'] = 'display_data';\n",
              "          await google.colab.output.renderOutput(dataTable, element);\n",
              "          const docLink = document.createElement('div');\n",
              "          docLink.innerHTML = docLinkHtml;\n",
              "          element.appendChild(docLink);\n",
              "        }\n",
              "      </script>\n",
              "    </div>\n",
              "  </div>\n"
            ]
          },
          "metadata": {},
          "execution_count": 15
        }
      ],
      "source": [
        "df_qns = df[[\"question_text\", \"input_outputs\", \"label\"]]\n",
        "df_qns[\"qns\"] = df[\"question_text\"] + \"\\n\\n\" + df[\"input_outputs\"]\n",
        "df_qns.drop(columns=[\"question_text\", \"input_outputs\"], axis=1, inplace=True)\n",
        "df_qns.head()"
      ]
    },
    {
      "cell_type": "code",
      "execution_count": 16,
      "metadata": {
        "colab": {
          "base_uri": "https://localhost:8080/"
        },
        "id": "m_HY4kTelXun",
        "outputId": "7fa7a9c2-8d59-4693-e5e7-4050eb694d61"
      },
      "outputs": [
        {
          "output_type": "execute_result",
          "data": {
            "text/plain": [
              "{'brute force': 0,\n",
              " 'dynamic programming': 1,\n",
              " 'greedy': 2,\n",
              " 'math': 3,\n",
              " 'search': 4}"
            ]
          },
          "metadata": {},
          "execution_count": 16
        }
      ],
      "source": [
        "import json\n",
        "with open(\"./algo_classes.json\", \"r\") as f:\n",
        "    CLASS_MAPPING = json.load(f)\n",
        "CLASS_MAPPING"
      ]
    },
    {
      "cell_type": "markdown",
      "metadata": {
        "id": "qejenoYv53sE"
      },
      "source": [
        "## ML Models"
      ]
    },
    {
      "cell_type": "code",
      "source": [
        "def cross_val_and_eval(model, X_train, y_train,\n",
        "                       X_test, y_test):\n",
        "\n",
        "    skf = model_selection.StratifiedKFold(n_splits=10, shuffle=True,\n",
        "                                      random_state=2406)\n",
        "\n",
        "    for fold, (train_idx, val_idx) in enumerate(skf.split(X_train, y_train)):\n",
        "\n",
        "        x_tr, y_tr = X_train[train_idx, :], y_train[train_idx]\n",
        "        x_val, y_val = X_train[val_idx, :], y_train[val_idx]\n",
        "\n",
        "        clf = base.clone(model)\n",
        "        clf = clf.fit(x_tr, y_tr)\n",
        "\n",
        "        tr_pred = clf.predict(x_tr)\n",
        "        val_pred = clf.predict(x_val)\n",
        "\n",
        "        print(f\"fold {fold+1} train_acc {metrics.accuracy_score(y_tr, tr_pred)*100:.2f}% val_acc {metrics.accuracy_score(y_val, val_pred)*100:.2f}%\")\n",
        "\n",
        "\n",
        "    clf = clf.fit(X_train, y_train)\n",
        "    pred = clf.predict(X_test)\n",
        "    print(f\"test_acc {metrics.accuracy_score(y_test, pred)*100:.2f}%\")"
      ],
      "metadata": {
        "id": "lWE3LOeGIVU2"
      },
      "execution_count": 48,
      "outputs": []
    },
    {
      "cell_type": "markdown",
      "metadata": {
        "id": "lT6JknyF53sE"
      },
      "source": [
        "### Random Forest"
      ]
    },
    {
      "cell_type": "code",
      "execution_count": 17,
      "metadata": {
        "id": "qw_rM37Q53sE"
      },
      "outputs": [],
      "source": [
        "X, y = df_qns.iloc[:, 1], df_qns.iloc[:, 0]"
      ]
    },
    {
      "cell_type": "code",
      "execution_count": 18,
      "metadata": {
        "id": "qrVuyMN-53sE"
      },
      "outputs": [],
      "source": [
        "y = y.map(lambda tag: CLASS_MAPPING[tag])"
      ]
    },
    {
      "cell_type": "code",
      "execution_count": 19,
      "metadata": {
        "colab": {
          "base_uri": "https://localhost:8080/"
        },
        "id": "ki62TTtG53sE",
        "outputId": "088ba66c-b27e-47ee-d13e-c282cfb08ce1"
      },
      "outputs": [
        {
          "output_type": "execute_result",
          "data": {
            "text/plain": [
              "((5829,), (648,))"
            ]
          },
          "metadata": {},
          "execution_count": 19
        }
      ],
      "source": [
        "X_train, X_test, y_train, y_test = model_selection.train_test_split(X, y,\n",
        "                                                                    test_size=0.1,\n",
        "                                                                    random_state=2406,\n",
        "                                                                    shuffle=True,\n",
        "                                                                    stratify=y)\n",
        "X_train.shape, X_test.shape"
      ]
    },
    {
      "cell_type": "code",
      "execution_count": 20,
      "metadata": {
        "id": "DAZq7KeZ53sF"
      },
      "outputs": [],
      "source": [
        "vectorizer = TfidfVectorizer(max_features=700)\n",
        "vectorizer = vectorizer.fit(X_train)"
      ]
    },
    {
      "cell_type": "code",
      "execution_count": 21,
      "metadata": {
        "colab": {
          "base_uri": "https://localhost:8080/"
        },
        "id": "RqQMLIhx53sF",
        "outputId": "4158ef3c-aa18-4227-ce5a-d10535f04d81"
      },
      "outputs": [
        {
          "output_type": "execute_result",
          "data": {
            "text/plain": [
              "((5829, 700), (648, 700))"
            ]
          },
          "metadata": {},
          "execution_count": 21
        }
      ],
      "source": [
        "X_train_vec = vectorizer.transform(X_train)\n",
        "X_test_vec = vectorizer.transform(X_test)\n",
        "\n",
        "X_train_vec.shape, X_test_vec.shape"
      ]
    },
    {
      "cell_type": "code",
      "source": [
        "cross_val_and_eval(model=ensemble.RandomForestClassifier(n_estimators=700, max_depth=12, random_state=2406),\n",
        "                   X_train=X_train_vec, y_train=y_train.values, X_test=X_test_vec, y_test=y_test.values)"
      ],
      "metadata": {
        "colab": {
          "base_uri": "https://localhost:8080/"
        },
        "id": "Vx18HWIPKoem",
        "outputId": "19b992be-263f-4ebd-b4d1-1ef8d6a27c80"
      },
      "execution_count": 49,
      "outputs": [
        {
          "output_type": "stream",
          "name": "stdout",
          "text": [
            "fold 1 train_acc 70.24% val_acc 47.51%\n",
            "fold 2 train_acc 69.73% val_acc 46.48%\n",
            "fold 3 train_acc 70.61% val_acc 48.03%\n",
            "fold 4 train_acc 71.18% val_acc 48.37%\n",
            "fold 5 train_acc 71.04% val_acc 48.54%\n",
            "fold 6 train_acc 70.42% val_acc 48.20%\n",
            "fold 7 train_acc 71.16% val_acc 48.03%\n",
            "fold 8 train_acc 71.06% val_acc 50.43%\n",
            "fold 9 train_acc 70.47% val_acc 46.83%\n",
            "fold 10 train_acc 70.73% val_acc 48.11%\n",
            "test_acc 47.38%\n"
          ]
        }
      ]
    },
    {
      "cell_type": "markdown",
      "source": [
        "## DL Models"
      ],
      "metadata": {
        "id": "cf1BkCSp65mW"
      }
    },
    {
      "cell_type": "markdown",
      "source": [
        "### LSTM Model 1"
      ],
      "metadata": {
        "id": "g6PPdAQZ68uv"
      }
    },
    {
      "cell_type": "markdown",
      "metadata": {
        "id": "xjTeIq2elXum"
      },
      "source": [
        "#### Building vocab"
      ]
    },
    {
      "cell_type": "code",
      "source": [
        "!python -m spacy download en_core_web_sm"
      ],
      "metadata": {
        "id": "72zwCuYK7P0o"
      },
      "execution_count": null,
      "outputs": []
    },
    {
      "cell_type": "code",
      "execution_count": 25,
      "metadata": {
        "id": "i0lbON81lXum"
      },
      "outputs": [],
      "source": [
        "PAD_TOKEN = 0\n",
        "UNK_TOKEN = 1"
      ]
    },
    {
      "cell_type": "code",
      "execution_count": 26,
      "metadata": {
        "id": "BPxa8smFlXum"
      },
      "outputs": [],
      "source": [
        "tokenizer = get_tokenizer(tokenizer=\"spacy\",\n",
        "                          language=\"en_core_web_sm\")\n",
        "\n",
        "def build_vocab(data_iter):\n",
        "    for data in data_iter:\n",
        "        yield tokenizer(data)\n",
        "\n",
        "vocab = build_vocab_from_iterator(iterator=build_vocab(df_qns[\"qns\"].to_list()),\n",
        "                                  min_freq=2,\n",
        "                                  specials=['[PAD]', '[UNK]'],\n",
        "                                  special_first=True)\n",
        "vocab.set_default_index(UNK_TOKEN)"
      ]
    },
    {
      "cell_type": "code",
      "execution_count": 27,
      "metadata": {
        "id": "iqbfMvl-lXun"
      },
      "outputs": [],
      "source": [
        "VOCAB_SIZE = len(vocab)\n",
        "SEED = 2406\n",
        "BATCH_SIZE = 32\n",
        "DEVICE = \"cuda\" if torch.cuda.is_available() else \"cpu\""
      ]
    },
    {
      "cell_type": "code",
      "execution_count": 28,
      "metadata": {
        "colab": {
          "base_uri": "https://localhost:8080/",
          "height": 35
        },
        "id": "S1ptDTjwmAPO",
        "outputId": "8e20d73b-eccf-49a5-887c-c46998e38ee3"
      },
      "outputs": [
        {
          "output_type": "execute_result",
          "data": {
            "text/plain": [
              "'cuda'"
            ],
            "application/vnd.google.colaboratory.intrinsic+json": {
              "type": "string"
            }
          },
          "metadata": {},
          "execution_count": 28
        }
      ],
      "source": [
        "DEVICE"
      ]
    },
    {
      "cell_type": "markdown",
      "metadata": {
        "id": "KxrZYx9slXun"
      },
      "source": [
        "#### Dataset"
      ]
    },
    {
      "cell_type": "code",
      "execution_count": 29,
      "metadata": {
        "id": "NrJm-t0MlXun"
      },
      "outputs": [],
      "source": [
        "class QTDataset(Dataset):\n",
        "\n",
        "    def __init__(self,\n",
        "                 data: Union[str, pd.DataFrame],\n",
        "                 class_mapping: Dict[str, int]=None) -> None:\n",
        "        super().__init__()\n",
        "\n",
        "        if isinstance(data, str):\n",
        "            self.df = pd.read_csv(data)\n",
        "        elif isinstance(data, pd.DataFrame):\n",
        "            self.df = data\n",
        "        else:\n",
        "            raise TypeError(\"Wrong data type\")\n",
        "\n",
        "        self.df = self.df[[\"qns\", \"label\"]]\n",
        "        self.class_mapping = class_mapping\n",
        "\n",
        "    def __len__(self) -> int:\n",
        "        return self.df.shape[0]\n",
        "\n",
        "    def __getitem__(self, idx) -> Tuple[str, int]:\n",
        "        qn, label = self.df.iloc[idx, 0], self.df.iloc[idx, 1]\n",
        "        label = self.class_mapping[label]\n",
        "        return qn, label"
      ]
    },
    {
      "cell_type": "code",
      "execution_count": 30,
      "metadata": {
        "id": "OqWtsUdMlXun"
      },
      "outputs": [],
      "source": [
        "idxs, labels = list(range(df_qns.shape[0])), df_qns[\"label\"]\n",
        "\n",
        "train_idx, test_idx, _, _ = model_selection.train_test_split(idxs, labels,\n",
        "                                                             test_size=0.15,\n",
        "                                                             random_state=SEED,\n",
        "                                                             shuffle=True,\n",
        "                                                             stratify=labels)"
      ]
    },
    {
      "cell_type": "code",
      "execution_count": 31,
      "metadata": {
        "colab": {
          "base_uri": "https://localhost:8080/"
        },
        "id": "bb5s21jRlXun",
        "outputId": "ef5ca802-e75d-473a-ef10-0242434fb0e3"
      },
      "outputs": [
        {
          "output_type": "execute_result",
          "data": {
            "text/plain": [
              "(5505, 972)"
            ]
          },
          "metadata": {},
          "execution_count": 31
        }
      ],
      "source": [
        "len(train_idx), len(test_idx)"
      ]
    },
    {
      "cell_type": "code",
      "execution_count": 32,
      "metadata": {
        "id": "sswtzJjHlXun"
      },
      "outputs": [],
      "source": [
        "train_ds = QTDataset(data=df_qns.iloc[train_idx].reset_index(drop=True),\n",
        "                     class_mapping=CLASS_MAPPING)\n",
        "test_ds = QTDataset(data=df_qns.iloc[test_idx].reset_index(drop=True),\n",
        "                    class_mapping=CLASS_MAPPING)"
      ]
    },
    {
      "cell_type": "code",
      "execution_count": 33,
      "metadata": {
        "id": "8yFbpQT5lXun"
      },
      "outputs": [],
      "source": [
        "train_dl = DataLoader(dataset=train_ds,\n",
        "                      batch_size=BATCH_SIZE,\n",
        "                      shuffle=True)\n",
        "test_dl = DataLoader(dataset=test_ds,\n",
        "                     batch_size=BATCH_SIZE)"
      ]
    },
    {
      "cell_type": "markdown",
      "metadata": {
        "id": "Ncxgs2LzlXun"
      },
      "source": [
        "#### Model"
      ]
    },
    {
      "cell_type": "code",
      "execution_count": 34,
      "metadata": {
        "id": "EKCzLLUHlXun"
      },
      "outputs": [],
      "source": [
        "class QTAlgoModelV1(nn.Module):\n",
        "\n",
        "    def __init__(self,\n",
        "                 vocab_size: int=10000,\n",
        "                 embedding_dim: int=128,\n",
        "                 hidden_size: int=64,\n",
        "                 dropout: float=0.1,\n",
        "                 num_layers=1,\n",
        "                 output_dim: int=5):\n",
        "\n",
        "        super().__init__()\n",
        "\n",
        "        self.num_layers = num_layers\n",
        "        self.hidden_size = hidden_size\n",
        "\n",
        "        self.embedding = nn.Embedding(num_embeddings=vocab_size,\n",
        "                                      embedding_dim=embedding_dim,\n",
        "                                      padding_idx=PAD_TOKEN)\n",
        "        self.dropout = nn.Dropout(p=dropout)\n",
        "        self.lstm1 = nn.LSTM(input_size=embedding_dim,\n",
        "                            hidden_size=hidden_size,\n",
        "                            num_layers=num_layers,\n",
        "                            batch_first=True)\n",
        "        self.lstm2 = nn.LSTM(input_size=hidden_size,\n",
        "                             hidden_size=hidden_size//2,\n",
        "                             num_layers=num_layers,\n",
        "                             batch_first=True,\n",
        "                             dropout=dropout)\n",
        "        self.classifier_block = nn.Sequential(\n",
        "            nn.Linear(in_features=hidden_size//2,\n",
        "                      out_features=output_dim)\n",
        "        )\n",
        "\n",
        "    def forward(self,\n",
        "                x: torch.Tensor) -> torch.Tensor:\n",
        "\n",
        "        x_emb = self.embedding(x)\n",
        "        x_emb = F.relu(self.dropout(x_emb))\n",
        "        x_out, _ = self.lstm1(x_emb)\n",
        "        x_out, _ = self.lstm2(F.relu(x_out))\n",
        "        x_out = self.classifier_block(F.relu(x_out[:, -1]))\n",
        "        return x_out"
      ]
    },
    {
      "cell_type": "markdown",
      "metadata": {
        "id": "rWZJtw0glXuo"
      },
      "source": [
        "#### Training"
      ]
    },
    {
      "cell_type": "code",
      "execution_count": 46,
      "metadata": {
        "id": "enO1ww7PlXuo"
      },
      "outputs": [],
      "source": [
        "def train_step(model: torch.nn.Module,\n",
        "               dataloader: DataLoader,\n",
        "               loss_fn: torch.nn.Module,\n",
        "               optimizer: torch.optim.Optimizer,\n",
        "               device: torch.device=\"cpu\") -> Tuple[float, float]:\n",
        "\n",
        "    model.train()\n",
        "    accs, losses = 0, 0\n",
        "\n",
        "    for X, y in dataloader:\n",
        "        X_tok = []\n",
        "        for x in X:\n",
        "            X_tok.append(torch.tensor(vocab(tokenizer(x))))\n",
        "        X = pad_sequence(X_tok, batch_first=True, padding_value=PAD_TOKEN)\n",
        "        X, y = X.to(device), y.to(device)\n",
        "\n",
        "        preds = model(X)\n",
        "        loss = loss_fn(preds, y)\n",
        "\n",
        "        optimizer.zero_grad()\n",
        "        loss.backward()\n",
        "        optimizer.step()\n",
        "\n",
        "        pred_labels = torch.argmax(preds, dim=-1).squeeze()\n",
        "\n",
        "        accs += (pred_labels==y).sum()/BATCH_SIZE\n",
        "        losses += loss.item()\n",
        "\n",
        "    accs /= len(dataloader)\n",
        "    losses /= len(dataloader)\n",
        "\n",
        "    return accs, losses\n",
        "\n",
        "def eval_step(model: torch.nn.Module,\n",
        "              dataloader: DataLoader,\n",
        "              loss_fn: torch.nn.Module,\n",
        "              device: torch.device=\"cpu\") -> Tuple[float, float]:\n",
        "\n",
        "    model.eval()\n",
        "    accs, losses = 0, 0\n",
        "\n",
        "    with torch.inference_mode():\n",
        "        for X, y in dataloader:\n",
        "            X_tok = []\n",
        "            for x in X:\n",
        "                X_tok.append(torch.tensor(vocab(tokenizer(x))))\n",
        "            X = pad_sequence(X_tok, batch_first=True, padding_value=PAD_TOKEN)\n",
        "            X, y = X.to(device), y.to(device)\n",
        "\n",
        "            preds = model(X)\n",
        "            loss = loss_fn(preds, y)\n",
        "\n",
        "            pred_labels = torch.argmax(preds, dim=-1).squeeze()\n",
        "\n",
        "            accs += (pred_labels==y).sum()/BATCH_SIZE\n",
        "            losses += loss.item()\n",
        "\n",
        "        accs /= len(dataloader)\n",
        "        losses /= len(dataloader)\n",
        "\n",
        "    return accs, losses\n",
        "\n",
        "def train(model: torch.nn.Module,\n",
        "         train_dl: DataLoader,\n",
        "         test_dl: DataLoader,\n",
        "         loss_fn: torch.nn.Module,\n",
        "         optimizer: torch.optim.Optimizer,\n",
        "         epochs: int=10,\n",
        "         device: torch.device=\"cpu\") -> Dict[str, List[float]]:\n",
        "\n",
        "    model = model.to(device)\n",
        "\n",
        "    result_dict = {\n",
        "        \"train_acc\" : [],\n",
        "        \"train_loss\" : [],\n",
        "        \"test_acc\" : [],\n",
        "        \"test_loss\" : []\n",
        "    }\n",
        "\n",
        "    for epoch in range(1, epochs+1):\n",
        "\n",
        "        train_acc, train_loss = train_step(model, train_dl, loss_fn, optimizer, device)\n",
        "        test_acc, test_loss = eval_step(model, test_dl, loss_fn, device)\n",
        "\n",
        "        if epoch%10==0:\n",
        "          print(f\"epoch {epoch} ({int(epoch*100/epochs)}%) train_acc {train_acc*100:.2f}% train_loss {train_loss: .3f} test_acc {test_acc*100:.2f}% test_loss {test_loss:.3f}\")\n",
        "\n",
        "        result_dict[\"train_acc\"].append(train_acc)\n",
        "        result_dict[\"train_loss\"].append(train_loss)\n",
        "        result_dict[\"test_acc\"].append(test_acc)\n",
        "        result_dict[\"test_loss\"].append(test_loss)\n",
        "\n",
        "    return result_dict\n"
      ]
    },
    {
      "cell_type": "code",
      "execution_count": 37,
      "metadata": {
        "id": "SMd2WQnR2ESk"
      },
      "outputs": [],
      "source": [
        "epochs = 100"
      ]
    },
    {
      "cell_type": "markdown",
      "source": [
        "##### Dropout - 0.2"
      ],
      "metadata": {
        "id": "AJPuJmMK_Oc8"
      }
    },
    {
      "cell_type": "code",
      "execution_count": 38,
      "metadata": {
        "colab": {
          "base_uri": "https://localhost:8080/"
        },
        "id": "DF7Xf9-flXup",
        "outputId": "f9b8b131-397d-41ff-afb0-bd31de0bc547"
      },
      "outputs": [
        {
          "output_type": "stream",
          "name": "stdout",
          "text": [
            "epoch 10 train_acc 34.00% train_loss:  1.454 test_acc: 33.87% test_loss 1.438\n",
            "epoch 20 train_acc 36.42% train_loss:  1.324 test_acc: 35.99% test_loss 1.299\n",
            "epoch 30 train_acc 38.06% train_loss:  1.278 test_acc: 37.80% test_loss 1.295\n",
            "epoch 40 train_acc 37.90% train_loss:  1.264 test_acc: 36.79% test_loss 1.298\n",
            "epoch 50 train_acc 39.34% train_loss:  1.261 test_acc: 37.70% test_loss 1.293\n",
            "epoch 60 train_acc 37.32% train_loss:  1.277 test_acc: 36.79% test_loss 1.298\n",
            "epoch 70 train_acc 37.01% train_loss:  1.274 test_acc: 36.49% test_loss 1.296\n",
            "epoch 80 train_acc 45.79% train_loss:  1.192 test_acc: 38.91% test_loss 1.304\n",
            "epoch 90 train_acc 50.11% train_loss:  1.115 test_acc: 38.00% test_loss 1.358\n",
            "epoch 100 train_acc 54.52% train_loss:  1.047 test_acc: 38.81% test_loss 1.434\n"
          ]
        }
      ],
      "source": [
        "model_1 = QTAlgoModelV1(vocab_size=VOCAB_SIZE,\n",
        "                        num_layers=1,\n",
        "                        embedding_dim=512,\n",
        "                        hidden_size=256,\n",
        "                        dropout=0.2,\n",
        "                        output_dim=len(CLASS_MAPPING)).to(DEVICE)\n",
        "loss_fn = torch.nn.CrossEntropyLoss()\n",
        "optimizer = torch.optim.Adam(params=model_1.parameters(),\n",
        "                             lr=1e-3)\n",
        "\n",
        "result_dict = train(model=model_1,\n",
        "                    train_dl=train_dl,\n",
        "                    test_dl=test_dl,\n",
        "                    loss_fn=loss_fn,\n",
        "                    optimizer=optimizer,\n",
        "                    epochs=epochs,\n",
        "                    device=DEVICE)"
      ]
    },
    {
      "cell_type": "code",
      "execution_count": 40,
      "metadata": {
        "colab": {
          "base_uri": "https://localhost:8080/",
          "height": 430
        },
        "id": "YGNfAS7ilXup",
        "outputId": "bc67fbba-8bae-431f-a531-b27ef7e353e7"
      },
      "outputs": [
        {
          "output_type": "display_data",
          "data": {
            "text/plain": [
              "<Figure size 640x480 with 1 Axes>"
            ],
            "image/png": "[encoded data removed]"
          },
          "metadata": {}
        }
      ],
      "source": [
        "plt.plot(range(epochs), result_dict[\"train_loss\"], label=\"train_loss\")\n",
        "plt.plot(range(epochs), result_dict[\"test_loss\"], label=\"test_loss\")\n",
        "plt.legend();"
      ]
    },
    {
      "cell_type": "code",
      "source": [
        "model_results = {\"model_1_dropout_0.2\" : result_dict}"
      ],
      "metadata": {
        "id": "Eo2qxJE8_7nS"
      },
      "execution_count": 41,
      "outputs": []
    },
    {
      "cell_type": "markdown",
      "source": [
        "##### L2 Regularization"
      ],
      "metadata": {
        "id": "F2lgNE1sAzEC"
      }
    },
    {
      "cell_type": "code",
      "source": [
        "model_1_reg = QTAlgoModelV1(vocab_size=VOCAB_SIZE,\n",
        "                            num_layers=1,\n",
        "                            embedding_dim=512,\n",
        "                            hidden_size=256,\n",
        "                            dropout=0.1,\n",
        "                            output_dim=len(CLASS_MAPPING)).to(DEVICE)\n",
        "loss_fn = torch.nn.CrossEntropyLoss()\n",
        "optimizer = torch.optim.Adam(params=model_1_reg.parameters(),\n",
        "                             lr=1e-3,\n",
        "                             weight_decay=1e-5)\n",
        "\n",
        "result_dict = train(model=model_1_reg,\n",
        "                    train_dl=train_dl,\n",
        "                    test_dl=test_dl,\n",
        "                    loss_fn=loss_fn,\n",
        "                    optimizer=optimizer,\n",
        "                    epochs=epochs,\n",
        "                    device=DEVICE)\n",
        "\n",
        "\n",
        "model_results[\"model_1_l2_reg\"] = result_dict\n",
        "\n",
        "plt.plot(range(epochs), result_dict[\"train_loss\"], label=\"train_loss\")\n",
        "plt.plot(range(epochs), result_dict[\"test_loss\"], label=\"test_loss\")\n",
        "plt.legend();"
      ],
      "metadata": {
        "colab": {
          "base_uri": "https://localhost:8080/",
          "height": 609
        },
        "id": "RiF0Y0NGAS9h",
        "outputId": "3c5a935c-69b7-4f1b-d82d-7073eba2049c"
      },
      "execution_count": 45,
      "outputs": [
        {
          "output_type": "stream",
          "name": "stdout",
          "text": [
            "epoch 10(10)% train_acc 36.38% train_loss  1.291 test_acc 35.18% test_loss 1.303\n",
            "epoch 20(20)% train_acc 34.27% train_loss  1.455 test_acc 33.87% test_loss 1.459\n",
            "epoch 30(30)% train_acc 34.32% train_loss  1.457 test_acc 33.87% test_loss 1.456\n",
            "epoch 40(40)% train_acc 34.30% train_loss  1.452 test_acc 33.97% test_loss 1.451\n",
            "epoch 50(50)% train_acc 36.25% train_loss  1.293 test_acc 35.48% test_loss 1.297\n",
            "epoch 60(60)% train_acc 36.00% train_loss  1.338 test_acc 33.87% test_loss 1.461\n",
            "epoch 70(70)% train_acc 36.54% train_loss  1.288 test_acc 35.99% test_loss 1.299\n",
            "epoch 80(80)% train_acc 36.02% train_loss  1.290 test_acc 35.58% test_loss 1.297\n",
            "epoch 90(90)% train_acc 36.36% train_loss  1.290 test_acc 35.08% test_loss 1.311\n",
            "epoch 100(100)% train_acc 35.82% train_loss  1.278 test_acc 34.98% test_loss 1.301\n"
          ]
        },
        {
          "output_type": "display_data",
          "data": {
            "text/plain": [
              "<Figure size 640x480 with 1 Axes>"
            ],
            "image/png": "[encoded data removed]"
          },
          "metadata": {}
        }
      ]
    }
  ],
  "metadata": {
    "accelerator": "GPU",
    "colab": {
      "gpuType": "T4",
      "provenance": []
    },
    "kernelspec": {
      "display_name": "Python 3",
      "name": "python3"
    },
    "language_info": {
      "codemirror_mode": {
        "name": "ipython",
        "version": 3
      },
      "file_extension": ".py",
      "mimetype": "text/x-python",
      "name": "python",
      "nbconvert_exporter": "python",
      "pygments_lexer": "ipython3",
      "version": "3.11.0"
    },
    "orig_nbformat": 4
  },
  "nbformat": 4,
  "nbformat_minor": 0
}