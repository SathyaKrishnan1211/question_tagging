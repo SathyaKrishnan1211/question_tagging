{
 "cells": [
  {
   "cell_type": "code",
   "execution_count": 10,
   "metadata": {},
   "outputs": [],
   "source": [
    "import pandas as pd\n",
    "import numpy as np\n",
    "import matplotlib.pyplot as plt"
   ]
  },
  {
   "cell_type": "code",
   "execution_count": 11,
   "metadata": {},
   "outputs": [
    {
     "data": {
      "text/html": [
       "<div>\n",
       "<style scoped>\n",
       "    .dataframe tbody tr th:only-of-type {\n",
       "        vertical-align: middle;\n",
       "    }\n",
       "\n",
       "    .dataframe tbody tr th {\n",
       "        vertical-align: top;\n",
       "    }\n",
       "\n",
       "    .dataframe thead th {\n",
       "        text-align: right;\n",
       "    }\n",
       "</style>\n",
       "<table border=\"1\" class=\"dataframe\">\n",
       "  <thead>\n",
       "    <tr style=\"text-align: right;\">\n",
       "      <th></th>\n",
       "      <th>question_text</th>\n",
       "      <th>input_outputs</th>\n",
       "      <th>website</th>\n",
       "      <th>num_words</th>\n",
       "      <th>tag_1</th>\n",
       "      <th>tag_2</th>\n",
       "      <th>tag_3</th>\n",
       "      <th>tag_4</th>\n",
       "      <th>tag_5</th>\n",
       "      <th>tag_6</th>\n",
       "      <th>tag_7</th>\n",
       "      <th>num_tags</th>\n",
       "    </tr>\n",
       "  </thead>\n",
       "  <tbody>\n",
       "    <tr>\n",
       "      <th>0</th>\n",
       "      <td>This is the hard version of the problem. The o...</td>\n",
       "      <td>Input: ['18+ 1 -1? 1 1 2? 1 2 1+ 1 1? 1 3 -1? ...</td>\n",
       "      <td>codeforces</td>\n",
       "      <td>319</td>\n",
       "      <td>data structures</td>\n",
       "      <td>dfs and similar</td>\n",
       "      <td>divide and conquer</td>\n",
       "      <td>dp</td>\n",
       "      <td>math</td>\n",
       "      <td>trees</td>\n",
       "      <td>NaN</td>\n",
       "      <td>6</td>\n",
       "    </tr>\n",
       "    <tr>\n",
       "      <th>1</th>\n",
       "      <td>This is the simple version of the problem. The...</td>\n",
       "      <td>Input: ['18+ 1 -1? 1 1 2? 1 2 1+ 1 1? 1 3 -1? ...</td>\n",
       "      <td>codeforces</td>\n",
       "      <td>316</td>\n",
       "      <td>data structures</td>\n",
       "      <td>dfs and similar</td>\n",
       "      <td>dp</td>\n",
       "      <td>graphs</td>\n",
       "      <td>greedy</td>\n",
       "      <td>math</td>\n",
       "      <td>trees</td>\n",
       "      <td>7</td>\n",
       "    </tr>\n",
       "    <tr>\n",
       "      <th>2</th>\n",
       "      <td>You are given an array a consisting of n zeros...</td>\n",
       "      <td>Input: ['65 51 24 51 51 32 45531244 21 14 4223...</td>\n",
       "      <td>codeforces</td>\n",
       "      <td>182</td>\n",
       "      <td>binary search</td>\n",
       "      <td>brute force</td>\n",
       "      <td>data structures</td>\n",
       "      <td>two pointers</td>\n",
       "      <td>NaN</td>\n",
       "      <td>NaN</td>\n",
       "      <td>NaN</td>\n",
       "      <td>4</td>\n",
       "    </tr>\n",
       "    <tr>\n",
       "      <th>3</th>\n",
       "      <td>Timofey has an apple tree growing in his garde...</td>\n",
       "      <td>Input: ['251 23 45 33 243 45 14 41 331 21 331 ...</td>\n",
       "      <td>codeforces</td>\n",
       "      <td>243</td>\n",
       "      <td>combinatorics</td>\n",
       "      <td>dfs and similar</td>\n",
       "      <td>dp</td>\n",
       "      <td>math</td>\n",
       "      <td>trees</td>\n",
       "      <td>NaN</td>\n",
       "      <td>NaN</td>\n",
       "      <td>5</td>\n",
       "    </tr>\n",
       "    <tr>\n",
       "      <th>4</th>\n",
       "      <td>Vanya really likes math. One day when he was s...</td>\n",
       "      <td>Input: ['63103711000000000000000015'] Output:[...</td>\n",
       "      <td>codeforces</td>\n",
       "      <td>167</td>\n",
       "      <td>bitmasks</td>\n",
       "      <td>combinatorics</td>\n",
       "      <td>math</td>\n",
       "      <td>trees</td>\n",
       "      <td>NaN</td>\n",
       "      <td>NaN</td>\n",
       "      <td>NaN</td>\n",
       "      <td>4</td>\n",
       "    </tr>\n",
       "    <tr>\n",
       "      <th>...</th>\n",
       "      <td>...</td>\n",
       "      <td>...</td>\n",
       "      <td>...</td>\n",
       "      <td>...</td>\n",
       "      <td>...</td>\n",
       "      <td>...</td>\n",
       "      <td>...</td>\n",
       "      <td>...</td>\n",
       "      <td>...</td>\n",
       "      <td>...</td>\n",
       "      <td>...</td>\n",
       "      <td>...</td>\n",
       "    </tr>\n",
       "    <tr>\n",
       "      <th>10594</th>\n",
       "      <td>You are given a string of length 5 called time...</td>\n",
       "      <td>Input: time = \"?5:00\"\\nOutput: 2\\n</td>\n",
       "      <td>leetcode</td>\n",
       "      <td>84</td>\n",
       "      <td>string</td>\n",
       "      <td>enumeration</td>\n",
       "      <td>NaN</td>\n",
       "      <td>NaN</td>\n",
       "      <td>NaN</td>\n",
       "      <td>NaN</td>\n",
       "      <td>NaN</td>\n",
       "      <td>2</td>\n",
       "    </tr>\n",
       "    <tr>\n",
       "      <th>10595</th>\n",
       "      <td>Given the heads of two singly linked-lists hea...</td>\n",
       "      <td>Input: intersectVal = 8, listA = [4,1,8,4,5], ...</td>\n",
       "      <td>leetcode</td>\n",
       "      <td>194</td>\n",
       "      <td>hash-table</td>\n",
       "      <td>linked-list</td>\n",
       "      <td>two-pointers</td>\n",
       "      <td>NaN</td>\n",
       "      <td>NaN</td>\n",
       "      <td>NaN</td>\n",
       "      <td>NaN</td>\n",
       "      <td>3</td>\n",
       "    </tr>\n",
       "    <tr>\n",
       "      <th>10596</th>\n",
       "      <td>Given a string of digits s, return the number ...</td>\n",
       "      <td>Input: s = \"103301\"\\nOutput: 2\\n</td>\n",
       "      <td>leetcode</td>\n",
       "      <td>68</td>\n",
       "      <td>string</td>\n",
       "      <td>dynamic-programming</td>\n",
       "      <td>NaN</td>\n",
       "      <td>NaN</td>\n",
       "      <td>NaN</td>\n",
       "      <td>NaN</td>\n",
       "      <td>NaN</td>\n",
       "      <td>2</td>\n",
       "    </tr>\n",
       "    <tr>\n",
       "      <th>10597</th>\n",
       "      <td>You are given a series of video clips from a s...</td>\n",
       "      <td>Input: clips = [[0,2],[4,6],[8,10],[1,9],[1,5]...</td>\n",
       "      <td>leetcode</td>\n",
       "      <td>111</td>\n",
       "      <td>array</td>\n",
       "      <td>dynamic-programming</td>\n",
       "      <td>greedy</td>\n",
       "      <td>NaN</td>\n",
       "      <td>NaN</td>\n",
       "      <td>NaN</td>\n",
       "      <td>NaN</td>\n",
       "      <td>3</td>\n",
       "    </tr>\n",
       "    <tr>\n",
       "      <th>10598</th>\n",
       "      <td>You are given a 0-indexed m x n integer matrix...</td>\n",
       "      <td>Input: grid = [[5,3],[4,0],[2,1]], moveCost = ...</td>\n",
       "      <td>leetcode</td>\n",
       "      <td>202</td>\n",
       "      <td>array</td>\n",
       "      <td>dynamic-programming</td>\n",
       "      <td>matrix</td>\n",
       "      <td>NaN</td>\n",
       "      <td>NaN</td>\n",
       "      <td>NaN</td>\n",
       "      <td>NaN</td>\n",
       "      <td>3</td>\n",
       "    </tr>\n",
       "  </tbody>\n",
       "</table>\n",
       "<p>10599 rows × 12 columns</p>\n",
       "</div>"
      ],
      "text/plain": [
       "                                           question_text  \\\n",
       "0      This is the hard version of the problem. The o...   \n",
       "1      This is the simple version of the problem. The...   \n",
       "2      You are given an array a consisting of n zeros...   \n",
       "3      Timofey has an apple tree growing in his garde...   \n",
       "4      Vanya really likes math. One day when he was s...   \n",
       "...                                                  ...   \n",
       "10594  You are given a string of length 5 called time...   \n",
       "10595  Given the heads of two singly linked-lists hea...   \n",
       "10596  Given a string of digits s, return the number ...   \n",
       "10597  You are given a series of video clips from a s...   \n",
       "10598  You are given a 0-indexed m x n integer matrix...   \n",
       "\n",
       "                                           input_outputs     website  \\\n",
       "0      Input: ['18+ 1 -1? 1 1 2? 1 2 1+ 1 1? 1 3 -1? ...  codeforces   \n",
       "1      Input: ['18+ 1 -1? 1 1 2? 1 2 1+ 1 1? 1 3 -1? ...  codeforces   \n",
       "2      Input: ['65 51 24 51 51 32 45531244 21 14 4223...  codeforces   \n",
       "3      Input: ['251 23 45 33 243 45 14 41 331 21 331 ...  codeforces   \n",
       "4      Input: ['63103711000000000000000015'] Output:[...  codeforces   \n",
       "...                                                  ...         ...   \n",
       "10594                 Input: time = \"?5:00\"\\nOutput: 2\\n    leetcode   \n",
       "10595  Input: intersectVal = 8, listA = [4,1,8,4,5], ...    leetcode   \n",
       "10596                   Input: s = \"103301\"\\nOutput: 2\\n    leetcode   \n",
       "10597  Input: clips = [[0,2],[4,6],[8,10],[1,9],[1,5]...    leetcode   \n",
       "10598  Input: grid = [[5,3],[4,0],[2,1]], moveCost = ...    leetcode   \n",
       "\n",
       "       num_words            tag_1                tag_2               tag_3  \\\n",
       "0            319  data structures      dfs and similar  divide and conquer   \n",
       "1            316  data structures      dfs and similar                  dp   \n",
       "2            182    binary search          brute force     data structures   \n",
       "3            243    combinatorics      dfs and similar                  dp   \n",
       "4            167         bitmasks        combinatorics                math   \n",
       "...          ...              ...                  ...                 ...   \n",
       "10594         84           string          enumeration                 NaN   \n",
       "10595        194       hash-table          linked-list        two-pointers   \n",
       "10596         68           string  dynamic-programming                 NaN   \n",
       "10597        111            array  dynamic-programming              greedy   \n",
       "10598        202            array  dynamic-programming              matrix   \n",
       "\n",
       "              tag_4   tag_5  tag_6  tag_7  num_tags  \n",
       "0                dp    math  trees    NaN         6  \n",
       "1            graphs  greedy   math  trees         7  \n",
       "2      two pointers     NaN    NaN    NaN         4  \n",
       "3              math   trees    NaN    NaN         5  \n",
       "4             trees     NaN    NaN    NaN         4  \n",
       "...             ...     ...    ...    ...       ...  \n",
       "10594           NaN     NaN    NaN    NaN         2  \n",
       "10595           NaN     NaN    NaN    NaN         3  \n",
       "10596           NaN     NaN    NaN    NaN         2  \n",
       "10597           NaN     NaN    NaN    NaN         3  \n",
       "10598           NaN     NaN    NaN    NaN         3  \n",
       "\n",
       "[10599 rows x 12 columns]"
      ]
     },
     "execution_count": 11,
     "metadata": {},
     "output_type": "execute_result"
    }
   ],
   "source": [
    "df = pd.read_csv(\"../datasets/CPT.csv\")\n",
    "df"
   ]
  },
  {
   "cell_type": "markdown",
   "metadata": {},
   "source": [
    "## Extract Algorithm Tags"
   ]
  },
  {
   "cell_type": "code",
   "execution_count": 12,
   "metadata": {},
   "outputs": [],
   "source": [
    "algorithms = {\n",
    "    \"brute force\" : [],\n",
    "    \"search\" : [\"binary search\", \"dfs and similar\", \"bfs\"],\n",
    "    \"greedy\" : [],\n",
    "    \"dynamic programming\" : [\"dp\"],\n",
    "    \"math\" : [\"combinatorics\", \"geometry\", \"number theory\"]\n",
    "}"
   ]
  },
  {
   "cell_type": "code",
   "execution_count": 13,
   "metadata": {},
   "outputs": [],
   "source": [
    "for idx in range(1, 8):\n",
    "    df[f\"tag_{idx}\"] = df[f\"tag_{idx}\"].str.replace(\"-\", \" \")"
   ]
  },
  {
   "cell_type": "code",
   "execution_count": 15,
   "metadata": {},
   "outputs": [
    {
     "data": {
      "text/plain": [
       "Counter({'search': 2321,\n",
       "         'dynamic programming': 2178,\n",
       "         'math': 4413,\n",
       "         'greedy': 2646,\n",
       "         'brute force': 1418})"
      ]
     },
     "execution_count": 15,
     "metadata": {},
     "output_type": "execute_result"
    }
   ],
   "source": [
    "from collections import Counter\n",
    "\n",
    "freq = Counter()\n",
    "set_of_tags = set()\n",
    "for i in range(df.shape[0]):\n",
    "    for j in range(4, 4+7):\n",
    "        tag = df.iloc[i, j]\n",
    "        if not pd.isna(tag):\n",
    "            for k in algorithms:\n",
    "                if k in tag:\n",
    "                    set_of_tags.add(tag)\n",
    "                    freq[k] += 1\n",
    "                else:\n",
    "                    for v in algorithms[k]:\n",
    "                        if v in tag:\n",
    "                            set_of_tags.add(tag)\n",
    "                            freq[k] += 1\n",
    "                            break\n",
    "\n",
    "freq"
   ]
  },
  {
   "cell_type": "code",
   "execution_count": 16,
   "metadata": {},
   "outputs": [],
   "source": [
    "idx_tags = dict()\n",
    "\n",
    "for i in range(df.shape[0]):\n",
    "    tags = []\n",
    "    for j in range(4, 4+7):\n",
    "        tag = df.iloc[i, j]\n",
    "        if not pd.isna(tag):\n",
    "            for k in freq:\n",
    "                if k in tag:\n",
    "                    tags.append(k)\n",
    "                    break\n",
    "    if len(tags)>0:\n",
    "        idx_tags[i] = sorted(tags)"
   ]
  },
  {
   "cell_type": "code",
   "execution_count": 17,
   "metadata": {},
   "outputs": [
    {
     "data": {
      "text/plain": [
       "6477"
      ]
     },
     "execution_count": 17,
     "metadata": {},
     "output_type": "execute_result"
    }
   ],
   "source": [
    "len(idx_tags)"
   ]
  },
  {
   "cell_type": "code",
   "execution_count": 18,
   "metadata": {},
   "outputs": [],
   "source": [
    "df_sub = df.iloc[list(idx_tags.keys()),:]\n",
    "df_sub.reset_index(drop=True, inplace=True)"
   ]
  },
  {
   "cell_type": "code",
   "execution_count": 19,
   "metadata": {},
   "outputs": [
    {
     "name": "stderr",
     "output_type": "stream",
     "text": [
      "/var/folders/04/6hgq7ygs5lg5504qv8g2mjt80000gn/T/ipykernel_1024/3554728771.py:1: SettingWithCopyWarning: \n",
      "A value is trying to be set on a copy of a slice from a DataFrame.\n",
      "Try using .loc[row_indexer,col_indexer] = value instead\n",
      "\n",
      "See the caveats in the documentation: https://pandas.pydata.org/pandas-docs/stable/user_guide/indexing.html#returning-a-view-versus-a-copy\n",
      "  df_sub[\"algo_tags\"] = list(idx_tags.values())\n"
     ]
    }
   ],
   "source": [
    "df_sub[\"algo_tags\"] = list(idx_tags.values())"
   ]
  },
  {
   "cell_type": "code",
   "execution_count": 20,
   "metadata": {},
   "outputs": [
    {
     "data": {
      "text/plain": [
       "Index(['question_text', 'input_outputs', 'website', 'num_words', 'tag_1',\n",
       "       'tag_2', 'tag_3', 'tag_4', 'tag_5', 'tag_6', 'tag_7', 'num_tags',\n",
       "       'algo_tags'],\n",
       "      dtype='object')"
      ]
     },
     "execution_count": 20,
     "metadata": {},
     "output_type": "execute_result"
    }
   ],
   "source": [
    "df_sub.columns"
   ]
  },
  {
   "cell_type": "code",
   "execution_count": 21,
   "metadata": {},
   "outputs": [
    {
     "name": "stderr",
     "output_type": "stream",
     "text": [
      "/var/folders/04/6hgq7ygs5lg5504qv8g2mjt80000gn/T/ipykernel_1024/3361210961.py:1: SettingWithCopyWarning: \n",
      "A value is trying to be set on a copy of a slice from a DataFrame\n",
      "\n",
      "See the caveats in the documentation: https://pandas.pydata.org/pandas-docs/stable/user_guide/indexing.html#returning-a-view-versus-a-copy\n",
      "  df_sub.drop([f\"tag_{i}\" for i in range(1, 8)], axis=1, inplace=True)\n",
      "/var/folders/04/6hgq7ygs5lg5504qv8g2mjt80000gn/T/ipykernel_1024/3361210961.py:2: SettingWithCopyWarning: \n",
      "A value is trying to be set on a copy of a slice from a DataFrame\n",
      "\n",
      "See the caveats in the documentation: https://pandas.pydata.org/pandas-docs/stable/user_guide/indexing.html#returning-a-view-versus-a-copy\n",
      "  df_sub.drop([\"website\", \"num_words\", \"num_tags\"], axis=1, inplace=True)\n"
     ]
    }
   ],
   "source": [
    "df_sub.drop([f\"tag_{i}\" for i in range(1, 8)], axis=1, inplace=True)\n",
    "df_sub.drop([\"website\", \"num_words\", \"num_tags\"], axis=1, inplace=True)"
   ]
  },
  {
   "cell_type": "code",
   "execution_count": 22,
   "metadata": {},
   "outputs": [
    {
     "data": {
      "text/html": [
       "<div>\n",
       "<style scoped>\n",
       "    .dataframe tbody tr th:only-of-type {\n",
       "        vertical-align: middle;\n",
       "    }\n",
       "\n",
       "    .dataframe tbody tr th {\n",
       "        vertical-align: top;\n",
       "    }\n",
       "\n",
       "    .dataframe thead th {\n",
       "        text-align: right;\n",
       "    }\n",
       "</style>\n",
       "<table border=\"1\" class=\"dataframe\">\n",
       "  <thead>\n",
       "    <tr style=\"text-align: right;\">\n",
       "      <th></th>\n",
       "      <th>question_text</th>\n",
       "      <th>input_outputs</th>\n",
       "      <th>algo_tags</th>\n",
       "    </tr>\n",
       "  </thead>\n",
       "  <tbody>\n",
       "    <tr>\n",
       "      <th>0</th>\n",
       "      <td>This is the hard version of the problem. The o...</td>\n",
       "      <td>Input: ['18+ 1 -1? 1 1 2? 1 2 1+ 1 1? 1 3 -1? ...</td>\n",
       "      <td>[math]</td>\n",
       "    </tr>\n",
       "    <tr>\n",
       "      <th>1</th>\n",
       "      <td>This is the simple version of the problem. The...</td>\n",
       "      <td>Input: ['18+ 1 -1? 1 1 2? 1 2 1+ 1 1? 1 3 -1? ...</td>\n",
       "      <td>[greedy, math]</td>\n",
       "    </tr>\n",
       "    <tr>\n",
       "      <th>2</th>\n",
       "      <td>You are given an array a consisting of n zeros...</td>\n",
       "      <td>Input: ['65 51 24 51 51 32 45531244 21 14 4223...</td>\n",
       "      <td>[brute force, search]</td>\n",
       "    </tr>\n",
       "    <tr>\n",
       "      <th>3</th>\n",
       "      <td>Timofey has an apple tree growing in his garde...</td>\n",
       "      <td>Input: ['251 23 45 33 243 45 14 41 331 21 331 ...</td>\n",
       "      <td>[math]</td>\n",
       "    </tr>\n",
       "    <tr>\n",
       "      <th>4</th>\n",
       "      <td>Vanya really likes math. One day when he was s...</td>\n",
       "      <td>Input: ['63103711000000000000000015'] Output:[...</td>\n",
       "      <td>[math]</td>\n",
       "    </tr>\n",
       "    <tr>\n",
       "      <th>...</th>\n",
       "      <td>...</td>\n",
       "      <td>...</td>\n",
       "      <td>...</td>\n",
       "    </tr>\n",
       "    <tr>\n",
       "      <th>6472</th>\n",
       "      <td>There is a forest with an unknown number of ra...</td>\n",
       "      <td>Input: answers = [1,1,2]\\nOutput: 5\\n</td>\n",
       "      <td>[greedy, math]</td>\n",
       "    </tr>\n",
       "    <tr>\n",
       "      <th>6473</th>\n",
       "      <td>We run a preorder depth-first search (DFS) on ...</td>\n",
       "      <td>Input: traversal = \"1-2--3--4-5--6--7\"\\nOutput...</td>\n",
       "      <td>[search]</td>\n",
       "    </tr>\n",
       "    <tr>\n",
       "      <th>6474</th>\n",
       "      <td>Given a string of digits s, return the number ...</td>\n",
       "      <td>Input: s = \"103301\"\\nOutput: 2\\n</td>\n",
       "      <td>[dynamic programming]</td>\n",
       "    </tr>\n",
       "    <tr>\n",
       "      <th>6475</th>\n",
       "      <td>You are given a series of video clips from a s...</td>\n",
       "      <td>Input: clips = [[0,2],[4,6],[8,10],[1,9],[1,5]...</td>\n",
       "      <td>[dynamic programming, greedy]</td>\n",
       "    </tr>\n",
       "    <tr>\n",
       "      <th>6476</th>\n",
       "      <td>You are given a 0-indexed m x n integer matrix...</td>\n",
       "      <td>Input: grid = [[5,3],[4,0],[2,1]], moveCost = ...</td>\n",
       "      <td>[dynamic programming]</td>\n",
       "    </tr>\n",
       "  </tbody>\n",
       "</table>\n",
       "<p>6477 rows × 3 columns</p>\n",
       "</div>"
      ],
      "text/plain": [
       "                                          question_text  \\\n",
       "0     This is the hard version of the problem. The o...   \n",
       "1     This is the simple version of the problem. The...   \n",
       "2     You are given an array a consisting of n zeros...   \n",
       "3     Timofey has an apple tree growing in his garde...   \n",
       "4     Vanya really likes math. One day when he was s...   \n",
       "...                                                 ...   \n",
       "6472  There is a forest with an unknown number of ra...   \n",
       "6473  We run a preorder depth-first search (DFS) on ...   \n",
       "6474  Given a string of digits s, return the number ...   \n",
       "6475  You are given a series of video clips from a s...   \n",
       "6476  You are given a 0-indexed m x n integer matrix...   \n",
       "\n",
       "                                          input_outputs  \\\n",
       "0     Input: ['18+ 1 -1? 1 1 2? 1 2 1+ 1 1? 1 3 -1? ...   \n",
       "1     Input: ['18+ 1 -1? 1 1 2? 1 2 1+ 1 1? 1 3 -1? ...   \n",
       "2     Input: ['65 51 24 51 51 32 45531244 21 14 4223...   \n",
       "3     Input: ['251 23 45 33 243 45 14 41 331 21 331 ...   \n",
       "4     Input: ['63103711000000000000000015'] Output:[...   \n",
       "...                                                 ...   \n",
       "6472              Input: answers = [1,1,2]\\nOutput: 5\\n   \n",
       "6473  Input: traversal = \"1-2--3--4-5--6--7\"\\nOutput...   \n",
       "6474                   Input: s = \"103301\"\\nOutput: 2\\n   \n",
       "6475  Input: clips = [[0,2],[4,6],[8,10],[1,9],[1,5]...   \n",
       "6476  Input: grid = [[5,3],[4,0],[2,1]], moveCost = ...   \n",
       "\n",
       "                          algo_tags  \n",
       "0                            [math]  \n",
       "1                    [greedy, math]  \n",
       "2             [brute force, search]  \n",
       "3                            [math]  \n",
       "4                            [math]  \n",
       "...                             ...  \n",
       "6472                 [greedy, math]  \n",
       "6473                       [search]  \n",
       "6474          [dynamic programming]  \n",
       "6475  [dynamic programming, greedy]  \n",
       "6476          [dynamic programming]  \n",
       "\n",
       "[6477 rows x 3 columns]"
      ]
     },
     "execution_count": 22,
     "metadata": {},
     "output_type": "execute_result"
    }
   ],
   "source": [
    "df_sub"
   ]
  },
  {
   "cell_type": "code",
   "execution_count": 23,
   "metadata": {},
   "outputs": [],
   "source": [
    "df_sub.to_csv(\"../datasets/CPTALGOML.csv\", index=False)"
   ]
  },
  {
   "cell_type": "markdown",
   "metadata": {},
   "source": [
    "## Multiclass approach"
   ]
  },
  {
   "cell_type": "code",
   "execution_count": 20,
   "metadata": {},
   "outputs": [],
   "source": [
    "import pandas as pd\n",
    "import numpy as np\n",
    "import matplotlib.pyplot as plt\n",
    "\n",
    "import torch\n",
    "from torch import nn\n",
    "from torch.nn import functional as F\n",
    "from torchtext.vocab import build_vocab_from_iterator\n",
    "from torchtext.data.utils import get_tokenizer\n",
    "\n",
    "import spacy_transformers\n",
    "import random\n",
    "\n",
    "from collections import defaultdict, Counter\n",
    "from sklearn import model_selection"
   ]
  },
  {
   "cell_type": "code",
   "execution_count": 8,
   "metadata": {},
   "outputs": [
    {
     "data": {
      "text/html": [
       "<div>\n",
       "<style scoped>\n",
       "    .dataframe tbody tr th:only-of-type {\n",
       "        vertical-align: middle;\n",
       "    }\n",
       "\n",
       "    .dataframe tbody tr th {\n",
       "        vertical-align: top;\n",
       "    }\n",
       "\n",
       "    .dataframe thead th {\n",
       "        text-align: right;\n",
       "    }\n",
       "</style>\n",
       "<table border=\"1\" class=\"dataframe\">\n",
       "  <thead>\n",
       "    <tr style=\"text-align: right;\">\n",
       "      <th></th>\n",
       "      <th>question_text</th>\n",
       "      <th>input_outputs</th>\n",
       "      <th>algo_tags</th>\n",
       "    </tr>\n",
       "  </thead>\n",
       "  <tbody>\n",
       "    <tr>\n",
       "      <th>0</th>\n",
       "      <td>This is the hard version of the problem. The o...</td>\n",
       "      <td>Input: ['18+ 1 -1? 1 1 2? 1 2 1+ 1 1? 1 3 -1? ...</td>\n",
       "      <td>['math']</td>\n",
       "    </tr>\n",
       "    <tr>\n",
       "      <th>1</th>\n",
       "      <td>This is the simple version of the problem. The...</td>\n",
       "      <td>Input: ['18+ 1 -1? 1 1 2? 1 2 1+ 1 1? 1 3 -1? ...</td>\n",
       "      <td>['greedy', 'math']</td>\n",
       "    </tr>\n",
       "    <tr>\n",
       "      <th>2</th>\n",
       "      <td>You are given an array a consisting of n zeros...</td>\n",
       "      <td>Input: ['65 51 24 51 51 32 45531244 21 14 4223...</td>\n",
       "      <td>['brute force', 'search']</td>\n",
       "    </tr>\n",
       "    <tr>\n",
       "      <th>3</th>\n",
       "      <td>Timofey has an apple tree growing in his garde...</td>\n",
       "      <td>Input: ['251 23 45 33 243 45 14 41 331 21 331 ...</td>\n",
       "      <td>['math']</td>\n",
       "    </tr>\n",
       "    <tr>\n",
       "      <th>4</th>\n",
       "      <td>Vanya really likes math. One day when he was s...</td>\n",
       "      <td>Input: ['63103711000000000000000015'] Output:[...</td>\n",
       "      <td>['math']</td>\n",
       "    </tr>\n",
       "    <tr>\n",
       "      <th>...</th>\n",
       "      <td>...</td>\n",
       "      <td>...</td>\n",
       "      <td>...</td>\n",
       "    </tr>\n",
       "    <tr>\n",
       "      <th>6472</th>\n",
       "      <td>There is a forest with an unknown number of ra...</td>\n",
       "      <td>Input: answers = [1,1,2]\\nOutput: 5\\n</td>\n",
       "      <td>['greedy', 'math']</td>\n",
       "    </tr>\n",
       "    <tr>\n",
       "      <th>6473</th>\n",
       "      <td>We run a preorder depth-first search (DFS) on ...</td>\n",
       "      <td>Input: traversal = \"1-2--3--4-5--6--7\"\\nOutput...</td>\n",
       "      <td>['search']</td>\n",
       "    </tr>\n",
       "    <tr>\n",
       "      <th>6474</th>\n",
       "      <td>Given a string of digits s, return the number ...</td>\n",
       "      <td>Input: s = \"103301\"\\nOutput: 2\\n</td>\n",
       "      <td>['dynamic programming']</td>\n",
       "    </tr>\n",
       "    <tr>\n",
       "      <th>6475</th>\n",
       "      <td>You are given a series of video clips from a s...</td>\n",
       "      <td>Input: clips = [[0,2],[4,6],[8,10],[1,9],[1,5]...</td>\n",
       "      <td>['dynamic programming', 'greedy']</td>\n",
       "    </tr>\n",
       "    <tr>\n",
       "      <th>6476</th>\n",
       "      <td>You are given a 0-indexed m x n integer matrix...</td>\n",
       "      <td>Input: grid = [[5,3],[4,0],[2,1]], moveCost = ...</td>\n",
       "      <td>['dynamic programming']</td>\n",
       "    </tr>\n",
       "  </tbody>\n",
       "</table>\n",
       "<p>6477 rows × 3 columns</p>\n",
       "</div>"
      ],
      "text/plain": [
       "                                          question_text  \\\n",
       "0     This is the hard version of the problem. The o...   \n",
       "1     This is the simple version of the problem. The...   \n",
       "2     You are given an array a consisting of n zeros...   \n",
       "3     Timofey has an apple tree growing in his garde...   \n",
       "4     Vanya really likes math. One day when he was s...   \n",
       "...                                                 ...   \n",
       "6472  There is a forest with an unknown number of ra...   \n",
       "6473  We run a preorder depth-first search (DFS) on ...   \n",
       "6474  Given a string of digits s, return the number ...   \n",
       "6475  You are given a series of video clips from a s...   \n",
       "6476  You are given a 0-indexed m x n integer matrix...   \n",
       "\n",
       "                                          input_outputs  \\\n",
       "0     Input: ['18+ 1 -1? 1 1 2? 1 2 1+ 1 1? 1 3 -1? ...   \n",
       "1     Input: ['18+ 1 -1? 1 1 2? 1 2 1+ 1 1? 1 3 -1? ...   \n",
       "2     Input: ['65 51 24 51 51 32 45531244 21 14 4223...   \n",
       "3     Input: ['251 23 45 33 243 45 14 41 331 21 331 ...   \n",
       "4     Input: ['63103711000000000000000015'] Output:[...   \n",
       "...                                                 ...   \n",
       "6472              Input: answers = [1,1,2]\\nOutput: 5\\n   \n",
       "6473  Input: traversal = \"1-2--3--4-5--6--7\"\\nOutput...   \n",
       "6474                   Input: s = \"103301\"\\nOutput: 2\\n   \n",
       "6475  Input: clips = [[0,2],[4,6],[8,10],[1,9],[1,5]...   \n",
       "6476  Input: grid = [[5,3],[4,0],[2,1]], moveCost = ...   \n",
       "\n",
       "                              algo_tags  \n",
       "0                              ['math']  \n",
       "1                    ['greedy', 'math']  \n",
       "2             ['brute force', 'search']  \n",
       "3                              ['math']  \n",
       "4                              ['math']  \n",
       "...                                 ...  \n",
       "6472                 ['greedy', 'math']  \n",
       "6473                         ['search']  \n",
       "6474            ['dynamic programming']  \n",
       "6475  ['dynamic programming', 'greedy']  \n",
       "6476            ['dynamic programming']  \n",
       "\n",
       "[6477 rows x 3 columns]"
      ]
     },
     "execution_count": 8,
     "metadata": {},
     "output_type": "execute_result"
    }
   ],
   "source": [
    "df = pd.read_csv(\"../datasets/CPTALGOML.csv\")\n",
    "df"
   ]
  },
  {
   "cell_type": "code",
   "execution_count": 9,
   "metadata": {},
   "outputs": [
    {
     "data": {
      "text/plain": [
       "['[', 'greedy', ', ', 'math', ']']"
      ]
     },
     "execution_count": 9,
     "metadata": {},
     "output_type": "execute_result"
    }
   ],
   "source": [
    "df.iloc[1, 2].split(\"'\")"
   ]
  },
  {
   "cell_type": "code",
   "execution_count": 10,
   "metadata": {},
   "outputs": [
    {
     "data": {
      "text/plain": [
       "defaultdict(int,\n",
       "            {'math': 1752,\n",
       "             'greedy': 2236,\n",
       "             'brute force': 1416,\n",
       "             'search': 726,\n",
       "             'dynamic programming': 347})"
      ]
     },
     "execution_count": 10,
     "metadata": {},
     "output_type": "execute_result"
    }
   ],
   "source": [
    "freq = defaultdict(int)\n",
    "for i in range(df.shape[0]):\n",
    "    freq[df.iloc[i, 2].split(\"'\")[1]] += 1\n",
    "\n",
    "freq"
   ]
  },
  {
   "cell_type": "code",
   "execution_count": 11,
   "metadata": {},
   "outputs": [],
   "source": [
    "df[\"first_tag\"] = df[\"algo_tags\"].str.split(\"'\", expand=True).iloc[:, 1]"
   ]
  },
  {
   "cell_type": "code",
   "execution_count": 12,
   "metadata": {},
   "outputs": [],
   "source": [
    "df[\"questions\"] = df[\"question_text\"] + \" \" + df[\"input_outputs\"]"
   ]
  },
  {
   "cell_type": "code",
   "execution_count": 13,
   "metadata": {},
   "outputs": [
    {
     "data": {
      "text/html": [
       "<div>\n",
       "<style scoped>\n",
       "    .dataframe tbody tr th:only-of-type {\n",
       "        vertical-align: middle;\n",
       "    }\n",
       "\n",
       "    .dataframe tbody tr th {\n",
       "        vertical-align: top;\n",
       "    }\n",
       "\n",
       "    .dataframe thead th {\n",
       "        text-align: right;\n",
       "    }\n",
       "</style>\n",
       "<table border=\"1\" class=\"dataframe\">\n",
       "  <thead>\n",
       "    <tr style=\"text-align: right;\">\n",
       "      <th></th>\n",
       "      <th>question_text</th>\n",
       "      <th>input_outputs</th>\n",
       "      <th>algo_tags</th>\n",
       "      <th>first_tag</th>\n",
       "      <th>questions</th>\n",
       "    </tr>\n",
       "  </thead>\n",
       "  <tbody>\n",
       "    <tr>\n",
       "      <th>0</th>\n",
       "      <td>This is the hard version of the problem. The o...</td>\n",
       "      <td>Input: ['18+ 1 -1? 1 1 2? 1 2 1+ 1 1? 1 3 -1? ...</td>\n",
       "      <td>['math']</td>\n",
       "      <td>math</td>\n",
       "      <td>This is the hard version of the problem. The o...</td>\n",
       "    </tr>\n",
       "    <tr>\n",
       "      <th>1</th>\n",
       "      <td>This is the simple version of the problem. The...</td>\n",
       "      <td>Input: ['18+ 1 -1? 1 1 2? 1 2 1+ 1 1? 1 3 -1? ...</td>\n",
       "      <td>['greedy', 'math']</td>\n",
       "      <td>greedy</td>\n",
       "      <td>This is the simple version of the problem. The...</td>\n",
       "    </tr>\n",
       "    <tr>\n",
       "      <th>2</th>\n",
       "      <td>You are given an array a consisting of n zeros...</td>\n",
       "      <td>Input: ['65 51 24 51 51 32 45531244 21 14 4223...</td>\n",
       "      <td>['brute force', 'search']</td>\n",
       "      <td>brute force</td>\n",
       "      <td>You are given an array a consisting of n zeros...</td>\n",
       "    </tr>\n",
       "    <tr>\n",
       "      <th>3</th>\n",
       "      <td>Timofey has an apple tree growing in his garde...</td>\n",
       "      <td>Input: ['251 23 45 33 243 45 14 41 331 21 331 ...</td>\n",
       "      <td>['math']</td>\n",
       "      <td>math</td>\n",
       "      <td>Timofey has an apple tree growing in his garde...</td>\n",
       "    </tr>\n",
       "    <tr>\n",
       "      <th>4</th>\n",
       "      <td>Vanya really likes math. One day when he was s...</td>\n",
       "      <td>Input: ['63103711000000000000000015'] Output:[...</td>\n",
       "      <td>['math']</td>\n",
       "      <td>math</td>\n",
       "      <td>Vanya really likes math. One day when he was s...</td>\n",
       "    </tr>\n",
       "  </tbody>\n",
       "</table>\n",
       "</div>"
      ],
      "text/plain": [
       "                                       question_text  \\\n",
       "0  This is the hard version of the problem. The o...   \n",
       "1  This is the simple version of the problem. The...   \n",
       "2  You are given an array a consisting of n zeros...   \n",
       "3  Timofey has an apple tree growing in his garde...   \n",
       "4  Vanya really likes math. One day when he was s...   \n",
       "\n",
       "                                       input_outputs  \\\n",
       "0  Input: ['18+ 1 -1? 1 1 2? 1 2 1+ 1 1? 1 3 -1? ...   \n",
       "1  Input: ['18+ 1 -1? 1 1 2? 1 2 1+ 1 1? 1 3 -1? ...   \n",
       "2  Input: ['65 51 24 51 51 32 45531244 21 14 4223...   \n",
       "3  Input: ['251 23 45 33 243 45 14 41 331 21 331 ...   \n",
       "4  Input: ['63103711000000000000000015'] Output:[...   \n",
       "\n",
       "                   algo_tags    first_tag  \\\n",
       "0                   ['math']         math   \n",
       "1         ['greedy', 'math']       greedy   \n",
       "2  ['brute force', 'search']  brute force   \n",
       "3                   ['math']         math   \n",
       "4                   ['math']         math   \n",
       "\n",
       "                                           questions  \n",
       "0  This is the hard version of the problem. The o...  \n",
       "1  This is the simple version of the problem. The...  \n",
       "2  You are given an array a consisting of n zeros...  \n",
       "3  Timofey has an apple tree growing in his garde...  \n",
       "4  Vanya really likes math. One day when he was s...  "
      ]
     },
     "execution_count": 13,
     "metadata": {},
     "output_type": "execute_result"
    }
   ],
   "source": [
    "df.head()"
   ]
  },
  {
   "cell_type": "code",
   "execution_count": 14,
   "metadata": {},
   "outputs": [],
   "source": [
    "TEST_SIZE = 0.1\n",
    "SEED = 2406\n",
    "CLASSES = {class_: i for i, class_ in enumerate(sorted(list(df[\"first_tag\"].unique())))}"
   ]
  },
  {
   "cell_type": "code",
   "execution_count": 17,
   "metadata": {},
   "outputs": [],
   "source": [
    "import json\n",
    "with open(\"../datasets/algo_classes.json\", \"w\") as f:\n",
    "    json.dump(CLASSES, f)"
   ]
  },
  {
   "cell_type": "code",
   "execution_count": 18,
   "metadata": {},
   "outputs": [],
   "source": [
    "df[\"tag\"] = df[\"first_tag\"].map(CLASSES)"
   ]
  },
  {
   "cell_type": "code",
   "execution_count": 19,
   "metadata": {},
   "outputs": [],
   "source": [
    "df.drop([\"question_text\", \"input_outputs\", \"algo_tags\", \"first_tag\"],axis=1, inplace=True)"
   ]
  },
  {
   "cell_type": "code",
   "execution_count": 21,
   "metadata": {},
   "outputs": [
    {
     "data": {
      "text/plain": [
       "(5246, 583, 648)"
      ]
     },
     "execution_count": 21,
     "metadata": {},
     "output_type": "execute_result"
    }
   ],
   "source": [
    "idxs = list(range(df.shape[0]))\n",
    "targets = df[\"tag\"]\n",
    "train_idx, test_idx, train_targets, test_targets = model_selection.train_test_split(idxs, targets,\n",
    "                                                                                    test_size=TEST_SIZE,\n",
    "                                                                                    shuffle=True,\n",
    "                                                                                    random_state=SEED,\n",
    "                                                                                    stratify=targets)\n",
    "\n",
    "train_idx, val_idx, train_targets, test_targets = model_selection.train_test_split(train_idx, train_targets,\n",
    "                                                                                   test_size=TEST_SIZE,\n",
    "                                                                                   random_state=SEED,\n",
    "                                                                                   shuffle=True,\n",
    "                                                                                   stratify=train_targets)\n",
    "len(train_idx), len(val_idx), len(test_idx)"
   ]
  },
  {
   "cell_type": "code",
   "execution_count": 23,
   "metadata": {},
   "outputs": [],
   "source": [
    "df.iloc[train_idx, :].to_csv(\"../datasets/train_algo.csv\", index=False)\n",
    "df.iloc[test_idx, :].to_csv(\"../datasets/test_algo.csv\", index=False)\n",
    "df.iloc[val_idx, :].to_csv(\"../datasets/val_algo.csv\", index=False)"
   ]
  },
  {
   "cell_type": "markdown",
   "metadata": {},
   "source": [
    "## HF Training"
   ]
  },
  {
   "cell_type": "code",
   "execution_count": 26,
   "metadata": {},
   "outputs": [],
   "source": [
    "import datasets as D\n",
    "import transformers as T\n",
    "\n",
    "import pandas as pd\n",
    "import torch\n",
    "import json"
   ]
  },
  {
   "cell_type": "code",
   "execution_count": 27,
   "metadata": {},
   "outputs": [
    {
     "data": {
      "text/plain": [
       "{'brute force': 0,\n",
       " 'dynamic programming': 1,\n",
       " 'greedy': 2,\n",
       " 'math': 3,\n",
       " 'search': 4}"
      ]
     },
     "execution_count": 27,
     "metadata": {},
     "output_type": "execute_result"
    }
   ],
   "source": [
    "with open(\"../datasets/algo_classes.json\") as f:\n",
    "    CLASSES = json.load(f)\n",
    "CLASSES"
   ]
  },
  {
   "cell_type": "code",
   "execution_count": 3,
   "metadata": {},
   "outputs": [],
   "source": [
    "dataset_url = \"../datasets/\""
   ]
  },
  {
   "cell_type": "code",
   "execution_count": 31,
   "metadata": {},
   "outputs": [
    {
     "data": {
      "text/plain": [
       "{'questions': Value(dtype='string', id=None),\n",
       " 'tag': ClassLabel(names=['brute force', 'dynamic programming', 'greedy', 'math', 'search'], id=None)}"
      ]
     },
     "execution_count": 31,
     "metadata": {},
     "output_type": "execute_result"
    }
   ],
   "source": [
    "features = D.Features({\n",
    "    \"questions\" : D.Value(dtype=\"string\"),\n",
    "    \"tag\" : D.ClassLabel(num_classes=len(CLASSES), names=list(CLASSES.keys()))\n",
    "})\n",
    "features"
   ]
  },
  {
   "cell_type": "code",
   "execution_count": 32,
   "metadata": {},
   "outputs": [
    {
     "name": "stdout",
     "output_type": "stream",
     "text": [
      "Downloading and preparing dataset csv/datasets to /Users/sathyakrishnansuresh/.cache/huggingface/datasets/csv/datasets-af7e7e405af0445d/0.0.0/eea64c71ca8b46dd3f537ed218fc9bf495d5707789152eb2764f5c78fa66d59d...\n"
     ]
    },
    {
     "data": {
      "application/vnd.jupyter.widget-view+json": {
       "model_id": "89e2a95ff44d4e7eb847dc0c11314772",
       "version_major": 2,
       "version_minor": 0
      },
      "text/plain": [
       "Downloading data files:   0%|          | 0/3 [00:00<?, ?it/s]"
      ]
     },
     "metadata": {},
     "output_type": "display_data"
    },
    {
     "data": {
      "application/vnd.jupyter.widget-view+json": {
       "model_id": "84c3e7ab4ce245b38420a78644c0ac3b",
       "version_major": 2,
       "version_minor": 0
      },
      "text/plain": [
       "Extracting data files:   0%|          | 0/3 [00:00<?, ?it/s]"
      ]
     },
     "metadata": {},
     "output_type": "display_data"
    },
    {
     "data": {
      "application/vnd.jupyter.widget-view+json": {
       "model_id": "a0b865491dc840f3b2491c7f2dbd7dea",
       "version_major": 2,
       "version_minor": 0
      },
      "text/plain": [
       "Generating train split: 0 examples [00:00, ? examples/s]"
      ]
     },
     "metadata": {},
     "output_type": "display_data"
    },
    {
     "data": {
      "application/vnd.jupyter.widget-view+json": {
       "model_id": "12706129cbff4a6faace0a53d8768faa",
       "version_major": 2,
       "version_minor": 0
      },
      "text/plain": [
       "Generating validation split: 0 examples [00:00, ? examples/s]"
      ]
     },
     "metadata": {},
     "output_type": "display_data"
    },
    {
     "data": {
      "application/vnd.jupyter.widget-view+json": {
       "model_id": "af1d93e4b0e94806875786161e04747b",
       "version_major": 2,
       "version_minor": 0
      },
      "text/plain": [
       "Generating test split: 0 examples [00:00, ? examples/s]"
      ]
     },
     "metadata": {},
     "output_type": "display_data"
    },
    {
     "name": "stdout",
     "output_type": "stream",
     "text": [
      "Dataset csv downloaded and prepared to /Users/sathyakrishnansuresh/.cache/huggingface/datasets/csv/datasets-af7e7e405af0445d/0.0.0/eea64c71ca8b46dd3f537ed218fc9bf495d5707789152eb2764f5c78fa66d59d. Subsequent calls will reuse this data.\n"
     ]
    },
    {
     "data": {
      "application/vnd.jupyter.widget-view+json": {
       "model_id": "f0cbff7dbd424b319a64c1ed39dc5aa2",
       "version_major": 2,
       "version_minor": 0
      },
      "text/plain": [
       "  0%|          | 0/3 [00:00<?, ?it/s]"
      ]
     },
     "metadata": {},
     "output_type": "display_data"
    }
   ],
   "source": [
    "questions_ds = D.load_dataset(name=\"csv\",\n",
    "                              path=dataset_url,\n",
    "                              data_files={\"train\" : \"train_algo.csv\",\n",
    "                                          \"validation\" : \"val_algo.csv\",\n",
    "                                          \"test\" : \"test_algo.csv\"},\n",
    "                              features=features)"
   ]
  },
  {
   "cell_type": "code",
   "execution_count": 33,
   "metadata": {},
   "outputs": [
    {
     "data": {
      "text/plain": [
       "DatasetDict({\n",
       "    train: Dataset({\n",
       "        features: ['questions', 'tag'],\n",
       "        num_rows: 5246\n",
       "    })\n",
       "    validation: Dataset({\n",
       "        features: ['questions', 'tag'],\n",
       "        num_rows: 583\n",
       "    })\n",
       "    test: Dataset({\n",
       "        features: ['questions', 'tag'],\n",
       "        num_rows: 648\n",
       "    })\n",
       "})"
      ]
     },
     "execution_count": 33,
     "metadata": {},
     "output_type": "execute_result"
    }
   ],
   "source": [
    "questions_ds"
   ]
  }
 ],
 "metadata": {
  "kernelspec": {
   "display_name": "tf",
   "language": "python",
   "name": "python3"
  },
  "language_info": {
   "codemirror_mode": {
    "name": "ipython",
    "version": 3
   },
   "file_extension": ".py",
   "mimetype": "text/x-python",
   "name": "python",
   "nbconvert_exporter": "python",
   "pygments_lexer": "ipython3",
   "version": "3.11.0"
  },
  "orig_nbformat": 4
 },
 "nbformat": 4,
 "nbformat_minor": 2
}
