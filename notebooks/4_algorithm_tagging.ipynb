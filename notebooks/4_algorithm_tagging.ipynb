{
  "cells": [
    {
      "cell_type": "code",
      "execution_count": null,
      "metadata": {
        "id": "nG_651gMlXug"
      },
      "outputs": [],
      "source": [
        "import pandas as pd\n",
        "import numpy as np\n",
        "import matplotlib.pyplot as plt"
      ]
    },
    {
      "cell_type": "code",
      "execution_count": null,
      "metadata": {
        "id": "FHqxe9YOlXui",
        "outputId": "07f1713a-b5c9-4786-9103-408bd18dda3b"
      },
      "outputs": [
        {
          "data": {
            "text/html": [
              "<div>\n",
              "<style scoped>\n",
              "    .dataframe tbody tr th:only-of-type {\n",
              "        vertical-align: middle;\n",
              "    }\n",
              "\n",
              "    .dataframe tbody tr th {\n",
              "        vertical-align: top;\n",
              "    }\n",
              "\n",
              "    .dataframe thead th {\n",
              "        text-align: right;\n",
              "    }\n",
              "</style>\n",
              "<table border=\"1\" class=\"dataframe\">\n",
              "  <thead>\n",
              "    <tr style=\"text-align: right;\">\n",
              "      <th></th>\n",
              "      <th>question_text</th>\n",
              "      <th>input_outputs</th>\n",
              "      <th>website</th>\n",
              "      <th>num_words</th>\n",
              "      <th>tag_1</th>\n",
              "      <th>tag_2</th>\n",
              "      <th>tag_3</th>\n",
              "      <th>tag_4</th>\n",
              "      <th>tag_5</th>\n",
              "      <th>tag_6</th>\n",
              "      <th>tag_7</th>\n",
              "      <th>num_tags</th>\n",
              "    </tr>\n",
              "  </thead>\n",
              "  <tbody>\n",
              "    <tr>\n",
              "      <th>0</th>\n",
              "      <td>This is the hard version of the problem. The o...</td>\n",
              "      <td>Input: ['18+ 1 -1? 1 1 2? 1 2 1+ 1 1? 1 3 -1? ...</td>\n",
              "      <td>codeforces</td>\n",
              "      <td>319</td>\n",
              "      <td>data structures</td>\n",
              "      <td>dfs and similar</td>\n",
              "      <td>divide and conquer</td>\n",
              "      <td>dp</td>\n",
              "      <td>math</td>\n",
              "      <td>trees</td>\n",
              "      <td>NaN</td>\n",
              "      <td>6</td>\n",
              "    </tr>\n",
              "    <tr>\n",
              "      <th>1</th>\n",
              "      <td>This is the simple version of the problem. The...</td>\n",
              "      <td>Input: ['18+ 1 -1? 1 1 2? 1 2 1+ 1 1? 1 3 -1? ...</td>\n",
              "      <td>codeforces</td>\n",
              "      <td>316</td>\n",
              "      <td>data structures</td>\n",
              "      <td>dfs and similar</td>\n",
              "      <td>dp</td>\n",
              "      <td>graphs</td>\n",
              "      <td>greedy</td>\n",
              "      <td>math</td>\n",
              "      <td>trees</td>\n",
              "      <td>7</td>\n",
              "    </tr>\n",
              "    <tr>\n",
              "      <th>2</th>\n",
              "      <td>You are given an array a consisting of n zeros...</td>\n",
              "      <td>Input: ['65 51 24 51 51 32 45531244 21 14 4223...</td>\n",
              "      <td>codeforces</td>\n",
              "      <td>182</td>\n",
              "      <td>binary search</td>\n",
              "      <td>brute force</td>\n",
              "      <td>data structures</td>\n",
              "      <td>two pointers</td>\n",
              "      <td>NaN</td>\n",
              "      <td>NaN</td>\n",
              "      <td>NaN</td>\n",
              "      <td>4</td>\n",
              "    </tr>\n",
              "    <tr>\n",
              "      <th>3</th>\n",
              "      <td>Timofey has an apple tree growing in his garde...</td>\n",
              "      <td>Input: ['251 23 45 33 243 45 14 41 331 21 331 ...</td>\n",
              "      <td>codeforces</td>\n",
              "      <td>243</td>\n",
              "      <td>combinatorics</td>\n",
              "      <td>dfs and similar</td>\n",
              "      <td>dp</td>\n",
              "      <td>math</td>\n",
              "      <td>trees</td>\n",
              "      <td>NaN</td>\n",
              "      <td>NaN</td>\n",
              "      <td>5</td>\n",
              "    </tr>\n",
              "    <tr>\n",
              "      <th>4</th>\n",
              "      <td>Vanya really likes math. One day when he was s...</td>\n",
              "      <td>Input: ['63103711000000000000000015'] Output:[...</td>\n",
              "      <td>codeforces</td>\n",
              "      <td>167</td>\n",
              "      <td>bitmasks</td>\n",
              "      <td>combinatorics</td>\n",
              "      <td>math</td>\n",
              "      <td>trees</td>\n",
              "      <td>NaN</td>\n",
              "      <td>NaN</td>\n",
              "      <td>NaN</td>\n",
              "      <td>4</td>\n",
              "    </tr>\n",
              "    <tr>\n",
              "      <th>...</th>\n",
              "      <td>...</td>\n",
              "      <td>...</td>\n",
              "      <td>...</td>\n",
              "      <td>...</td>\n",
              "      <td>...</td>\n",
              "      <td>...</td>\n",
              "      <td>...</td>\n",
              "      <td>...</td>\n",
              "      <td>...</td>\n",
              "      <td>...</td>\n",
              "      <td>...</td>\n",
              "      <td>...</td>\n",
              "    </tr>\n",
              "    <tr>\n",
              "      <th>10594</th>\n",
              "      <td>You are given a string of length 5 called time...</td>\n",
              "      <td>Input: time = \"?5:00\"\\nOutput: 2\\n</td>\n",
              "      <td>leetcode</td>\n",
              "      <td>84</td>\n",
              "      <td>string</td>\n",
              "      <td>enumeration</td>\n",
              "      <td>NaN</td>\n",
              "      <td>NaN</td>\n",
              "      <td>NaN</td>\n",
              "      <td>NaN</td>\n",
              "      <td>NaN</td>\n",
              "      <td>2</td>\n",
              "    </tr>\n",
              "    <tr>\n",
              "      <th>10595</th>\n",
              "      <td>Given the heads of two singly linked-lists hea...</td>\n",
              "      <td>Input: intersectVal = 8, listA = [4,1,8,4,5], ...</td>\n",
              "      <td>leetcode</td>\n",
              "      <td>194</td>\n",
              "      <td>hash-table</td>\n",
              "      <td>linked-list</td>\n",
              "      <td>two-pointers</td>\n",
              "      <td>NaN</td>\n",
              "      <td>NaN</td>\n",
              "      <td>NaN</td>\n",
              "      <td>NaN</td>\n",
              "      <td>3</td>\n",
              "    </tr>\n",
              "    <tr>\n",
              "      <th>10596</th>\n",
              "      <td>Given a string of digits s, return the number ...</td>\n",
              "      <td>Input: s = \"103301\"\\nOutput: 2\\n</td>\n",
              "      <td>leetcode</td>\n",
              "      <td>68</td>\n",
              "      <td>string</td>\n",
              "      <td>dynamic-programming</td>\n",
              "      <td>NaN</td>\n",
              "      <td>NaN</td>\n",
              "      <td>NaN</td>\n",
              "      <td>NaN</td>\n",
              "      <td>NaN</td>\n",
              "      <td>2</td>\n",
              "    </tr>\n",
              "    <tr>\n",
              "      <th>10597</th>\n",
              "      <td>You are given a series of video clips from a s...</td>\n",
              "      <td>Input: clips = [[0,2],[4,6],[8,10],[1,9],[1,5]...</td>\n",
              "      <td>leetcode</td>\n",
              "      <td>111</td>\n",
              "      <td>array</td>\n",
              "      <td>dynamic-programming</td>\n",
              "      <td>greedy</td>\n",
              "      <td>NaN</td>\n",
              "      <td>NaN</td>\n",
              "      <td>NaN</td>\n",
              "      <td>NaN</td>\n",
              "      <td>3</td>\n",
              "    </tr>\n",
              "    <tr>\n",
              "      <th>10598</th>\n",
              "      <td>You are given a 0-indexed m x n integer matrix...</td>\n",
              "      <td>Input: grid = [[5,3],[4,0],[2,1]], moveCost = ...</td>\n",
              "      <td>leetcode</td>\n",
              "      <td>202</td>\n",
              "      <td>array</td>\n",
              "      <td>dynamic-programming</td>\n",
              "      <td>matrix</td>\n",
              "      <td>NaN</td>\n",
              "      <td>NaN</td>\n",
              "      <td>NaN</td>\n",
              "      <td>NaN</td>\n",
              "      <td>3</td>\n",
              "    </tr>\n",
              "  </tbody>\n",
              "</table>\n",
              "<p>10599 rows × 12 columns</p>\n",
              "</div>"
            ],
            "text/plain": [
              "                                           question_text  \\\n",
              "0      This is the hard version of the problem. The o...   \n",
              "1      This is the simple version of the problem. The...   \n",
              "2      You are given an array a consisting of n zeros...   \n",
              "3      Timofey has an apple tree growing in his garde...   \n",
              "4      Vanya really likes math. One day when he was s...   \n",
              "...                                                  ...   \n",
              "10594  You are given a string of length 5 called time...   \n",
              "10595  Given the heads of two singly linked-lists hea...   \n",
              "10596  Given a string of digits s, return the number ...   \n",
              "10597  You are given a series of video clips from a s...   \n",
              "10598  You are given a 0-indexed m x n integer matrix...   \n",
              "\n",
              "                                           input_outputs     website  \\\n",
              "0      Input: ['18+ 1 -1? 1 1 2? 1 2 1+ 1 1? 1 3 -1? ...  codeforces   \n",
              "1      Input: ['18+ 1 -1? 1 1 2? 1 2 1+ 1 1? 1 3 -1? ...  codeforces   \n",
              "2      Input: ['65 51 24 51 51 32 45531244 21 14 4223...  codeforces   \n",
              "3      Input: ['251 23 45 33 243 45 14 41 331 21 331 ...  codeforces   \n",
              "4      Input: ['63103711000000000000000015'] Output:[...  codeforces   \n",
              "...                                                  ...         ...   \n",
              "10594                 Input: time = \"?5:00\"\\nOutput: 2\\n    leetcode   \n",
              "10595  Input: intersectVal = 8, listA = [4,1,8,4,5], ...    leetcode   \n",
              "10596                   Input: s = \"103301\"\\nOutput: 2\\n    leetcode   \n",
              "10597  Input: clips = [[0,2],[4,6],[8,10],[1,9],[1,5]...    leetcode   \n",
              "10598  Input: grid = [[5,3],[4,0],[2,1]], moveCost = ...    leetcode   \n",
              "\n",
              "       num_words            tag_1                tag_2               tag_3  \\\n",
              "0            319  data structures      dfs and similar  divide and conquer   \n",
              "1            316  data structures      dfs and similar                  dp   \n",
              "2            182    binary search          brute force     data structures   \n",
              "3            243    combinatorics      dfs and similar                  dp   \n",
              "4            167         bitmasks        combinatorics                math   \n",
              "...          ...              ...                  ...                 ...   \n",
              "10594         84           string          enumeration                 NaN   \n",
              "10595        194       hash-table          linked-list        two-pointers   \n",
              "10596         68           string  dynamic-programming                 NaN   \n",
              "10597        111            array  dynamic-programming              greedy   \n",
              "10598        202            array  dynamic-programming              matrix   \n",
              "\n",
              "              tag_4   tag_5  tag_6  tag_7  num_tags  \n",
              "0                dp    math  trees    NaN         6  \n",
              "1            graphs  greedy   math  trees         7  \n",
              "2      two pointers     NaN    NaN    NaN         4  \n",
              "3              math   trees    NaN    NaN         5  \n",
              "4             trees     NaN    NaN    NaN         4  \n",
              "...             ...     ...    ...    ...       ...  \n",
              "10594           NaN     NaN    NaN    NaN         2  \n",
              "10595           NaN     NaN    NaN    NaN         3  \n",
              "10596           NaN     NaN    NaN    NaN         2  \n",
              "10597           NaN     NaN    NaN    NaN         3  \n",
              "10598           NaN     NaN    NaN    NaN         3  \n",
              "\n",
              "[10599 rows x 12 columns]"
            ]
          },
          "execution_count": 11,
          "metadata": {},
          "output_type": "execute_result"
        }
      ],
      "source": [
        "df = pd.read_csv(\"../datasets/CPT.csv\")\n",
        "df"
      ]
    },
    {
      "cell_type": "markdown",
      "metadata": {
        "id": "WgjID5l2lXuj"
      },
      "source": [
        "## Extract Algorithm Tags"
      ]
    },
    {
      "cell_type": "code",
      "execution_count": null,
      "metadata": {
        "id": "arWFiJmllXuj"
      },
      "outputs": [],
      "source": [
        "algorithms = {\n",
        "    \"brute force\" : [],\n",
        "    \"search\" : [\"binary search\", \"dfs and similar\", \"bfs\"],\n",
        "    \"greedy\" : [],\n",
        "    \"dynamic programming\" : [\"dp\"],\n",
        "    \"math\" : [\"combinatorics\", \"geometry\", \"number theory\"]\n",
        "}"
      ]
    },
    {
      "cell_type": "code",
      "execution_count": null,
      "metadata": {
        "id": "F4OMD4c2lXuk"
      },
      "outputs": [],
      "source": [
        "for idx in range(1, 8):\n",
        "    df[f\"tag_{idx}\"] = df[f\"tag_{idx}\"].str.replace(\"-\", \" \")"
      ]
    },
    {
      "cell_type": "code",
      "execution_count": null,
      "metadata": {
        "id": "CBF7RcOJlXuk",
        "outputId": "9fa4df58-66ff-40c3-acaa-5d9d7bb45a31"
      },
      "outputs": [
        {
          "data": {
            "text/plain": [
              "Counter({'search': 2321,\n",
              "         'dynamic programming': 2178,\n",
              "         'math': 4413,\n",
              "         'greedy': 2646,\n",
              "         'brute force': 1418})"
            ]
          },
          "execution_count": 15,
          "metadata": {},
          "output_type": "execute_result"
        }
      ],
      "source": [
        "from collections import Counter\n",
        "\n",
        "freq = Counter()\n",
        "set_of_tags = set()\n",
        "for i in range(df.shape[0]):\n",
        "    for j in range(4, 4+7):\n",
        "        tag = df.iloc[i, j]\n",
        "        if not pd.isna(tag):\n",
        "            for k in algorithms:\n",
        "                if k in tag:\n",
        "                    set_of_tags.add(tag)\n",
        "                    freq[k] += 1\n",
        "                else:\n",
        "                    for v in algorithms[k]:\n",
        "                        if v in tag:\n",
        "                            set_of_tags.add(tag)\n",
        "                            freq[k] += 1\n",
        "                            break\n",
        "\n",
        "freq"
      ]
    },
    {
      "cell_type": "code",
      "execution_count": null,
      "metadata": {
        "id": "K1iUKeL8lXuk"
      },
      "outputs": [],
      "source": [
        "idx_tags = dict()\n",
        "\n",
        "for i in range(df.shape[0]):\n",
        "    tags = []\n",
        "    for j in range(4, 4+7):\n",
        "        tag = df.iloc[i, j]\n",
        "        if not pd.isna(tag):\n",
        "            for k in freq:\n",
        "                if k in tag:\n",
        "                    tags.append(k)\n",
        "                    break\n",
        "    if len(tags)>0:\n",
        "        idx_tags[i] = sorted(tags)"
      ]
    },
    {
      "cell_type": "code",
      "execution_count": null,
      "metadata": {
        "id": "A0UPYu_MlXuk",
        "outputId": "33059e9a-7320-452e-9919-59c9b1d0c24d"
      },
      "outputs": [
        {
          "data": {
            "text/plain": [
              "6477"
            ]
          },
          "execution_count": 17,
          "metadata": {},
          "output_type": "execute_result"
        }
      ],
      "source": [
        "len(idx_tags)"
      ]
    },
    {
      "cell_type": "code",
      "execution_count": null,
      "metadata": {
        "id": "NIL5hb4QlXul"
      },
      "outputs": [],
      "source": [
        "df_sub = df.iloc[list(idx_tags.keys()),:]\n",
        "df_sub.reset_index(drop=True, inplace=True)"
      ]
    },
    {
      "cell_type": "code",
      "execution_count": null,
      "metadata": {
        "id": "iFBBic1VlXul",
        "outputId": "92cb0c17-0532-4d1d-9809-d0584cfd332b"
      },
      "outputs": [
        {
          "name": "stderr",
          "output_type": "stream",
          "text": [
            "/var/folders/04/6hgq7ygs5lg5504qv8g2mjt80000gn/T/ipykernel_1024/3554728771.py:1: SettingWithCopyWarning: \n",
            "A value is trying to be set on a copy of a slice from a DataFrame.\n",
            "Try using .loc[row_indexer,col_indexer] = value instead\n",
            "\n",
            "See the caveats in the documentation: https://pandas.pydata.org/pandas-docs/stable/user_guide/indexing.html#returning-a-view-versus-a-copy\n",
            "  df_sub[\"algo_tags\"] = list(idx_tags.values())\n"
          ]
        }
      ],
      "source": [
        "df_sub[\"algo_tags\"] = list(idx_tags.values())"
      ]
    },
    {
      "cell_type": "code",
      "execution_count": null,
      "metadata": {
        "id": "8HfgKj1llXul",
        "outputId": "cb05b9ed-dfc6-4565-920a-963c515432c0"
      },
      "outputs": [
        {
          "data": {
            "text/plain": [
              "Index(['question_text', 'input_outputs', 'website', 'num_words', 'tag_1',\n",
              "       'tag_2', 'tag_3', 'tag_4', 'tag_5', 'tag_6', 'tag_7', 'num_tags',\n",
              "       'algo_tags'],\n",
              "      dtype='object')"
            ]
          },
          "execution_count": 20,
          "metadata": {},
          "output_type": "execute_result"
        }
      ],
      "source": [
        "df_sub.columns"
      ]
    },
    {
      "cell_type": "code",
      "execution_count": null,
      "metadata": {
        "id": "enkYRAiIlXul",
        "outputId": "735a559d-e5d7-412e-d382-9e1f1a300d09"
      },
      "outputs": [
        {
          "name": "stderr",
          "output_type": "stream",
          "text": [
            "/var/folders/04/6hgq7ygs5lg5504qv8g2mjt80000gn/T/ipykernel_1024/3361210961.py:1: SettingWithCopyWarning: \n",
            "A value is trying to be set on a copy of a slice from a DataFrame\n",
            "\n",
            "See the caveats in the documentation: https://pandas.pydata.org/pandas-docs/stable/user_guide/indexing.html#returning-a-view-versus-a-copy\n",
            "  df_sub.drop([f\"tag_{i}\" for i in range(1, 8)], axis=1, inplace=True)\n",
            "/var/folders/04/6hgq7ygs5lg5504qv8g2mjt80000gn/T/ipykernel_1024/3361210961.py:2: SettingWithCopyWarning: \n",
            "A value is trying to be set on a copy of a slice from a DataFrame\n",
            "\n",
            "See the caveats in the documentation: https://pandas.pydata.org/pandas-docs/stable/user_guide/indexing.html#returning-a-view-versus-a-copy\n",
            "  df_sub.drop([\"website\", \"num_words\", \"num_tags\"], axis=1, inplace=True)\n"
          ]
        }
      ],
      "source": [
        "df_sub.drop([f\"tag_{i}\" for i in range(1, 8)], axis=1, inplace=True)\n",
        "df_sub.drop([\"website\", \"num_words\", \"num_tags\"], axis=1, inplace=True)"
      ]
    },
    {
      "cell_type": "code",
      "execution_count": null,
      "metadata": {
        "id": "OLlAAYhYlXul",
        "outputId": "f4729679-ab2c-4406-8fa5-c0e71cf4c895"
      },
      "outputs": [
        {
          "data": {
            "text/html": [
              "<div>\n",
              "<style scoped>\n",
              "    .dataframe tbody tr th:only-of-type {\n",
              "        vertical-align: middle;\n",
              "    }\n",
              "\n",
              "    .dataframe tbody tr th {\n",
              "        vertical-align: top;\n",
              "    }\n",
              "\n",
              "    .dataframe thead th {\n",
              "        text-align: right;\n",
              "    }\n",
              "</style>\n",
              "<table border=\"1\" class=\"dataframe\">\n",
              "  <thead>\n",
              "    <tr style=\"text-align: right;\">\n",
              "      <th></th>\n",
              "      <th>question_text</th>\n",
              "      <th>input_outputs</th>\n",
              "      <th>algo_tags</th>\n",
              "    </tr>\n",
              "  </thead>\n",
              "  <tbody>\n",
              "    <tr>\n",
              "      <th>0</th>\n",
              "      <td>This is the hard version of the problem. The o...</td>\n",
              "      <td>Input: ['18+ 1 -1? 1 1 2? 1 2 1+ 1 1? 1 3 -1? ...</td>\n",
              "      <td>[math]</td>\n",
              "    </tr>\n",
              "    <tr>\n",
              "      <th>1</th>\n",
              "      <td>This is the simple version of the problem. The...</td>\n",
              "      <td>Input: ['18+ 1 -1? 1 1 2? 1 2 1+ 1 1? 1 3 -1? ...</td>\n",
              "      <td>[greedy, math]</td>\n",
              "    </tr>\n",
              "    <tr>\n",
              "      <th>2</th>\n",
              "      <td>You are given an array a consisting of n zeros...</td>\n",
              "      <td>Input: ['65 51 24 51 51 32 45531244 21 14 4223...</td>\n",
              "      <td>[brute force, search]</td>\n",
              "    </tr>\n",
              "    <tr>\n",
              "      <th>3</th>\n",
              "      <td>Timofey has an apple tree growing in his garde...</td>\n",
              "      <td>Input: ['251 23 45 33 243 45 14 41 331 21 331 ...</td>\n",
              "      <td>[math]</td>\n",
              "    </tr>\n",
              "    <tr>\n",
              "      <th>4</th>\n",
              "      <td>Vanya really likes math. One day when he was s...</td>\n",
              "      <td>Input: ['63103711000000000000000015'] Output:[...</td>\n",
              "      <td>[math]</td>\n",
              "    </tr>\n",
              "    <tr>\n",
              "      <th>...</th>\n",
              "      <td>...</td>\n",
              "      <td>...</td>\n",
              "      <td>...</td>\n",
              "    </tr>\n",
              "    <tr>\n",
              "      <th>6472</th>\n",
              "      <td>There is a forest with an unknown number of ra...</td>\n",
              "      <td>Input: answers = [1,1,2]\\nOutput: 5\\n</td>\n",
              "      <td>[greedy, math]</td>\n",
              "    </tr>\n",
              "    <tr>\n",
              "      <th>6473</th>\n",
              "      <td>We run a preorder depth-first search (DFS) on ...</td>\n",
              "      <td>Input: traversal = \"1-2--3--4-5--6--7\"\\nOutput...</td>\n",
              "      <td>[search]</td>\n",
              "    </tr>\n",
              "    <tr>\n",
              "      <th>6474</th>\n",
              "      <td>Given a string of digits s, return the number ...</td>\n",
              "      <td>Input: s = \"103301\"\\nOutput: 2\\n</td>\n",
              "      <td>[dynamic programming]</td>\n",
              "    </tr>\n",
              "    <tr>\n",
              "      <th>6475</th>\n",
              "      <td>You are given a series of video clips from a s...</td>\n",
              "      <td>Input: clips = [[0,2],[4,6],[8,10],[1,9],[1,5]...</td>\n",
              "      <td>[dynamic programming, greedy]</td>\n",
              "    </tr>\n",
              "    <tr>\n",
              "      <th>6476</th>\n",
              "      <td>You are given a 0-indexed m x n integer matrix...</td>\n",
              "      <td>Input: grid = [[5,3],[4,0],[2,1]], moveCost = ...</td>\n",
              "      <td>[dynamic programming]</td>\n",
              "    </tr>\n",
              "  </tbody>\n",
              "</table>\n",
              "<p>6477 rows × 3 columns</p>\n",
              "</div>"
            ],
            "text/plain": [
              "                                          question_text  \\\n",
              "0     This is the hard version of the problem. The o...   \n",
              "1     This is the simple version of the problem. The...   \n",
              "2     You are given an array a consisting of n zeros...   \n",
              "3     Timofey has an apple tree growing in his garde...   \n",
              "4     Vanya really likes math. One day when he was s...   \n",
              "...                                                 ...   \n",
              "6472  There is a forest with an unknown number of ra...   \n",
              "6473  We run a preorder depth-first search (DFS) on ...   \n",
              "6474  Given a string of digits s, return the number ...   \n",
              "6475  You are given a series of video clips from a s...   \n",
              "6476  You are given a 0-indexed m x n integer matrix...   \n",
              "\n",
              "                                          input_outputs  \\\n",
              "0     Input: ['18+ 1 -1? 1 1 2? 1 2 1+ 1 1? 1 3 -1? ...   \n",
              "1     Input: ['18+ 1 -1? 1 1 2? 1 2 1+ 1 1? 1 3 -1? ...   \n",
              "2     Input: ['65 51 24 51 51 32 45531244 21 14 4223...   \n",
              "3     Input: ['251 23 45 33 243 45 14 41 331 21 331 ...   \n",
              "4     Input: ['63103711000000000000000015'] Output:[...   \n",
              "...                                                 ...   \n",
              "6472              Input: answers = [1,1,2]\\nOutput: 5\\n   \n",
              "6473  Input: traversal = \"1-2--3--4-5--6--7\"\\nOutput...   \n",
              "6474                   Input: s = \"103301\"\\nOutput: 2\\n   \n",
              "6475  Input: clips = [[0,2],[4,6],[8,10],[1,9],[1,5]...   \n",
              "6476  Input: grid = [[5,3],[4,0],[2,1]], moveCost = ...   \n",
              "\n",
              "                          algo_tags  \n",
              "0                            [math]  \n",
              "1                    [greedy, math]  \n",
              "2             [brute force, search]  \n",
              "3                            [math]  \n",
              "4                            [math]  \n",
              "...                             ...  \n",
              "6472                 [greedy, math]  \n",
              "6473                       [search]  \n",
              "6474          [dynamic programming]  \n",
              "6475  [dynamic programming, greedy]  \n",
              "6476          [dynamic programming]  \n",
              "\n",
              "[6477 rows x 3 columns]"
            ]
          },
          "execution_count": 22,
          "metadata": {},
          "output_type": "execute_result"
        }
      ],
      "source": [
        "df_sub"
      ]
    },
    {
      "cell_type": "code",
      "execution_count": null,
      "metadata": {
        "id": "fM9Td5mnlXul"
      },
      "outputs": [],
      "source": [
        "df_sub.to_csv(\"../datasets/CPTALGOML.csv\", index=False)"
      ]
    },
    {
      "cell_type": "markdown",
      "metadata": {
        "id": "5XqxNfSklXum"
      },
      "source": [
        "# Multilabel Algorithm Classification"
      ]
    },
    {
      "cell_type": "code",
      "source": [
        "!pip install -q scikit-multilearn"
      ],
      "metadata": {
        "colab": {
          "base_uri": "https://localhost:8080/"
        },
        "id": "PVTOqOdgdaTv",
        "outputId": "76026807-6ef4-4e09-8d23-3045ebaed28c"
      },
      "execution_count": 2,
      "outputs": [
        {
          "output_type": "stream",
          "name": "stdout",
          "text": [
            "\u001b[?25l     \u001b[90m━━━━━━━━━━━━━━━━━━━━━━━━━━━━━━━━━━━━━━━━\u001b[0m \u001b[32m0.0/89.4 kB\u001b[0m \u001b[31m?\u001b[0m eta \u001b[36m-:--:--\u001b[0m\r\u001b[2K     \u001b[91m━━━━━━━━━━━━━━━━━━━━━━━━━━━\u001b[0m\u001b[91m╸\u001b[0m\u001b[90m━━━━━━━━━━━━\u001b[0m \u001b[32m61.4/89.4 kB\u001b[0m \u001b[31m1.7 MB/s\u001b[0m eta \u001b[36m0:00:01\u001b[0m\r\u001b[2K     \u001b[90m━━━━━━━━━━━━━━━━━━━━━━━━━━━━━━━━━━━━━━━━\u001b[0m \u001b[32m89.4/89.4 kB\u001b[0m \u001b[31m1.8 MB/s\u001b[0m eta \u001b[36m0:00:00\u001b[0m\n",
            "\u001b[?25h"
          ]
        }
      ]
    },
    {
      "cell_type": "code",
      "execution_count": 3,
      "metadata": {
        "id": "S1RgBmyBlXum"
      },
      "outputs": [],
      "source": [
        "import pandas as pd\n",
        "import numpy as np\n",
        "import matplotlib.pyplot as plt\n",
        "\n",
        "import torch\n",
        "from torch import nn\n",
        "from torch.nn import functional as F\n",
        "from torch.utils.data import Dataset, DataLoader\n",
        "from torch.nn.utils.rnn import pad_sequence\n",
        "from torchtext.vocab import build_vocab_from_iterator\n",
        "from torchtext.data.utils import get_tokenizer\n",
        "\n",
        "import random\n",
        "from typing import Union, List, Tuple, Dict\n",
        "from tqdm.auto import tqdm\n",
        "from collections import defaultdict\n",
        "\n",
        "from collections import defaultdict, Counter\n",
        "from sklearn import model_selection, ensemble, metrics, base\n",
        "from sklearn import linear_model\n",
        "from sklearn.feature_extraction.text import TfidfVectorizer\n",
        "\n",
        "from scipy import sparse\n",
        "from skmultilearn import problem_transform\n",
        "\n",
        "\n",
        "import xgboost as xgb\n",
        "import lightgbm as lgb"
      ]
    },
    {
      "cell_type": "code",
      "execution_count": 4,
      "metadata": {
        "id": "u_XdMDfZlXum"
      },
      "outputs": [],
      "source": [
        "import warnings\n",
        "warnings.filterwarnings(\"ignore\")"
      ]
    },
    {
      "cell_type": "code",
      "execution_count": 5,
      "metadata": {
        "id": "OlzjUxDnlXum"
      },
      "outputs": [],
      "source": [
        "df = pd.read_csv(\"./CPTALGOML.csv\")"
      ]
    },
    {
      "cell_type": "code",
      "execution_count": 6,
      "metadata": {
        "colab": {
          "base_uri": "https://localhost:8080/"
        },
        "id": "fGvYoGCxa13W",
        "outputId": "d503171f-9a50-4f15-b132-73b57ab6b075"
      },
      "outputs": [
        {
          "output_type": "execute_result",
          "data": {
            "text/plain": [
              "{'brute force': 0,\n",
              " 'dynamic programming': 1,\n",
              " 'greedy': 2,\n",
              " 'math': 3,\n",
              " 'search': 4}"
            ]
          },
          "metadata": {},
          "execution_count": 6
        }
      ],
      "source": [
        "import json\n",
        "with open(\"./algo_classes.json\", \"r\") as f:\n",
        "    CLASS_MAPPING = json.load(f)\n",
        "CLASS_MAPPING"
      ]
    },
    {
      "cell_type": "code",
      "execution_count": 7,
      "metadata": {
        "id": "hRVGJw26a13X"
      },
      "outputs": [],
      "source": [
        "labels = sparse.lil_matrix((df.shape[0], len(CLASS_MAPPING)))\n",
        "\n",
        "for i in range(df.shape[0]):\n",
        "    tags = df[\"algo_tags\"].iloc[i].split(\"[\")[-1].split(\"]\")[0].split(\"'\")\n",
        "    for tag in range(1, len(tags), 2):\n",
        "        labels[i, CLASS_MAPPING[tags[tag]]] = 1"
      ]
    },
    {
      "cell_type": "code",
      "execution_count": 8,
      "metadata": {
        "id": "I9sCXuTYlXum"
      },
      "outputs": [],
      "source": [
        "df[\"qns\"] = df[\"question_text\"] + \"\\n\\n\" + df[\"input_outputs\"]"
      ]
    },
    {
      "cell_type": "markdown",
      "metadata": {
        "id": "qejenoYv53sE"
      },
      "source": [
        "## ML Models"
      ]
    },
    {
      "cell_type": "code",
      "execution_count": 9,
      "metadata": {
        "id": "lWE3LOeGIVU2"
      },
      "outputs": [],
      "source": [
        "def cross_val_and_eval(model, X_train, y_train,\n",
        "                       X_test, y_test):\n",
        "\n",
        "    skf = model_selection.KFold(n_splits=10, shuffle=True,\n",
        "                                random_state=2406)\n",
        "\n",
        "    for fold, (train_idx, val_idx) in enumerate(skf.split(X_train, y_train)):\n",
        "\n",
        "        x_tr, y_tr = X_train[train_idx, :], y_train[train_idx]\n",
        "        x_val, y_val = X_train[val_idx, :], y_train[val_idx]\n",
        "\n",
        "        clf = base.clone(model)\n",
        "        clf = clf.fit(x_tr, y_tr)\n",
        "\n",
        "        val_pred = clf.predict(x_val)\n",
        "\n",
        "        val_acc = metrics.accuracy_score(y_val, val_pred)\n",
        "        val_loss = metrics.hamming_loss(y_val, val_pred)\n",
        "\n",
        "        print(f\"fold {fold+1} val_acc {val_acc*100:.2f}% val_loss {val_loss:.4f}\")\n",
        "\n",
        "\n",
        "    clf = clf.fit(X_train, y_train)\n",
        "    pred = clf.predict(X_test)\n",
        "\n",
        "    test_acc = metrics.accuracy_score(y_test, pred)\n",
        "    test_loss = metrics.hamming_loss(y_test, pred)\n",
        "    print(f\"test_acc {test_acc*100:.2f}% test_loss {test_loss:.4f}\")"
      ]
    },
    {
      "cell_type": "markdown",
      "metadata": {
        "id": "lT6JknyF53sE"
      },
      "source": [
        "### Random Forest"
      ]
    },
    {
      "cell_type": "code",
      "execution_count": 10,
      "metadata": {
        "id": "qw_rM37Q53sE"
      },
      "outputs": [],
      "source": [
        "X = df.loc[:, \"qns\"]\n",
        "y = labels"
      ]
    },
    {
      "cell_type": "code",
      "execution_count": 11,
      "metadata": {
        "colab": {
          "base_uri": "https://localhost:8080/"
        },
        "id": "ki62TTtG53sE",
        "outputId": "c0bb49ab-a090-4c83-998f-d9a0eb90f111"
      },
      "outputs": [
        {
          "output_type": "execute_result",
          "data": {
            "text/plain": [
              "((5829,), (648,))"
            ]
          },
          "metadata": {},
          "execution_count": 11
        }
      ],
      "source": [
        "X_train, X_test, y_train, y_test = model_selection.train_test_split(X, y.toarray().astype(int),\n",
        "                                                                    test_size=0.1,\n",
        "                                                                    random_state=2406,\n",
        "                                                                    shuffle=True)\n",
        "X_train.shape, X_test.shape"
      ]
    },
    {
      "cell_type": "code",
      "execution_count": 12,
      "metadata": {
        "id": "DAZq7KeZ53sF"
      },
      "outputs": [],
      "source": [
        "vectorizer = TfidfVectorizer(max_features=700)\n",
        "vectorizer = vectorizer.fit(X_train)"
      ]
    },
    {
      "cell_type": "code",
      "execution_count": 13,
      "metadata": {
        "colab": {
          "base_uri": "https://localhost:8080/"
        },
        "id": "RqQMLIhx53sF",
        "outputId": "1326669c-3bf4-42f6-f484-4a37b25e6d57"
      },
      "outputs": [
        {
          "output_type": "execute_result",
          "data": {
            "text/plain": [
              "((5829, 700), (648, 700))"
            ]
          },
          "metadata": {},
          "execution_count": 13
        }
      ],
      "source": [
        "X_train_vec = vectorizer.transform(X_train)\n",
        "X_test_vec = vectorizer.transform(X_test)\n",
        "\n",
        "X_train_vec.shape, X_test_vec.shape"
      ]
    },
    {
      "cell_type": "code",
      "execution_count": 14,
      "metadata": {
        "colab": {
          "base_uri": "https://localhost:8080/"
        },
        "id": "u1G1xg0ha13Y",
        "outputId": "02bf8e48-20d0-4ab0-9819-832be0075634"
      },
      "outputs": [
        {
          "output_type": "execute_result",
          "data": {
            "text/plain": [
              "array([0, 0, 0, 0, 1])"
            ]
          },
          "metadata": {},
          "execution_count": 14
        }
      ],
      "source": [
        "y_train[0]"
      ]
    },
    {
      "cell_type": "code",
      "execution_count": null,
      "metadata": {
        "colab": {
          "base_uri": "https://localhost:8080/"
        },
        "id": "Vx18HWIPKoem",
        "outputId": "724d4637-1ddb-4412-c586-d6677e77c726"
      },
      "outputs": [
        {
          "name": "stdout",
          "output_type": "stream",
          "text": [
            "fold 1 val_acc 23.67% val_loss 0.2165\n",
            "fold 2 val_acc 26.42% val_loss 0.2158\n",
            "fold 3 val_acc 27.62% val_loss 0.2089\n",
            "fold 4 val_acc 31.22% val_loss 0.2024\n",
            "fold 5 val_acc 26.42% val_loss 0.2110\n",
            "fold 6 val_acc 29.33% val_loss 0.2003\n",
            "fold 7 val_acc 28.99% val_loss 0.2010\n",
            "fold 8 val_acc 29.33% val_loss 0.2069\n",
            "fold 9 val_acc 27.79% val_loss 0.2062\n",
            "fold 10 val_acc 28.69% val_loss 0.2031\n",
            "test_acc 31.33% test_loss 0.1988\n"
          ]
        }
      ],
      "source": [
        "rfc_ml = problem_transform.BinaryRelevance(classifier=ensemble.RandomForestClassifier(n_estimators=700, random_state=2406),\n",
        "require_dense=[False, True])\n",
        "cross_val_and_eval(model=rfc_ml, X_train=X_train_vec, y_train=y_train,\n",
        "                   X_test=X_test_vec, y_test=y_test)"
      ]
    },
    {
      "cell_type": "markdown",
      "metadata": {
        "id": "CJPXX8XTa13Y"
      },
      "source": [
        "### XGBoost"
      ]
    },
    {
      "cell_type": "code",
      "execution_count": null,
      "metadata": {
        "id": "HDOy-Gvza13Y",
        "outputId": "b0d559cf-48d4-49e0-9aa4-e39fe7dd4a8d"
      },
      "outputs": [
        {
          "name": "stdout",
          "output_type": "stream",
          "text": [
            "fold 1 val_acc 26.93% val_loss 0.2209\n",
            "fold 2 val_acc 29.16% val_loss 0.2230\n",
            "fold 3 val_acc 29.50% val_loss 0.2199\n",
            "fold 4 val_acc 32.08% val_loss 0.2123\n",
            "fold 5 val_acc 28.64% val_loss 0.2244\n",
            "fold 6 val_acc 31.22% val_loss 0.2172\n",
            "fold 7 val_acc 30.53% val_loss 0.2123\n",
            "fold 8 val_acc 30.02% val_loss 0.2165\n",
            "fold 9 val_acc 29.85% val_loss 0.2175\n",
            "fold 10 val_acc 31.96% val_loss 0.2137\n",
            "test_acc 30.86% test_loss 0.2120\n"
          ]
        }
      ],
      "source": [
        "xgb_ml = problem_transform.BinaryRelevance(classifier=xgb.XGBClassifier(n_estimators=1000, random_state=2406),\n",
        "                                           require_dense=[False, True])\n",
        "cross_val_and_eval(model=xgb_ml, X_train=X_train_vec, y_train=y_train,\n",
        "                   X_test=X_test_vec, y_test=y_test)"
      ]
    },
    {
      "cell_type": "markdown",
      "metadata": {
        "id": "k0u1mWpJa13Y"
      },
      "source": [
        "### LGBM"
      ]
    },
    {
      "cell_type": "code",
      "execution_count": null,
      "metadata": {
        "id": "gX68Y2Xia13Y",
        "outputId": "0f4a90bc-622f-403d-fca2-ee0cb66308ec"
      },
      "outputs": [
        {
          "name": "stdout",
          "output_type": "stream",
          "text": [
            "fold 1 val_acc 28.82% val_loss 0.2264\n",
            "fold 2 val_acc 30.02% val_loss 0.2178\n",
            "fold 3 val_acc 30.70% val_loss 0.2089\n",
            "fold 4 val_acc 33.10% val_loss 0.2086\n",
            "fold 5 val_acc 29.50% val_loss 0.2196\n",
            "fold 6 val_acc 30.02% val_loss 0.2120\n",
            "fold 7 val_acc 31.05% val_loss 0.2110\n",
            "fold 8 val_acc 27.96% val_loss 0.2268\n",
            "fold 9 val_acc 31.56% val_loss 0.2065\n",
            "fold 10 val_acc 33.51% val_loss 0.2062\n",
            "test_acc 34.88% test_loss 0.2022\n"
          ]
        }
      ],
      "source": [
        "lgb_ml = problem_transform.BinaryRelevance(classifier=lgb.LGBMClassifier(n_estimators=1000, random_state=2406),\n",
        "                                           require_dense=[False, True])\n",
        "cross_val_and_eval(model=lgb_ml, X_train=X_train_vec, y_train=y_train,\n",
        "                   X_test=X_test_vec, y_test=y_test)"
      ]
    },
    {
      "cell_type": "markdown",
      "metadata": {
        "id": "pDk2Q_K1a13Y"
      },
      "source": [
        "### Logistic Regression"
      ]
    },
    {
      "cell_type": "code",
      "execution_count": null,
      "metadata": {
        "id": "8pzbtOOMa13Y",
        "outputId": "88650739-1501-4613-fe53-8f578e02cdc7"
      },
      "outputs": [
        {
          "name": "stdout",
          "output_type": "stream",
          "text": [
            "fold 1 val_acc 23.84% val_loss 0.2285\n",
            "fold 2 val_acc 27.62% val_loss 0.2209\n",
            "fold 3 val_acc 29.33% val_loss 0.2051\n",
            "fold 4 val_acc 29.85% val_loss 0.2148\n",
            "fold 5 val_acc 28.64% val_loss 0.2158\n",
            "fold 6 val_acc 28.64% val_loss 0.2065\n",
            "fold 7 val_acc 25.56% val_loss 0.2172\n",
            "fold 8 val_acc 28.30% val_loss 0.2172\n",
            "fold 9 val_acc 29.50% val_loss 0.2120\n",
            "fold 10 val_acc 30.07% val_loss 0.2079\n",
            "test_acc 32.87% test_loss 0.1988\n"
          ]
        }
      ],
      "source": [
        "log_reg_ml = problem_transform.BinaryRelevance(classifier=linear_model.LogisticRegression(max_iter=3000, random_state=2406),\n",
        "                                           require_dense=[False, True])\n",
        "cross_val_and_eval(model=log_reg_ml, X_train=X_train_vec, y_train=y_train,\n",
        "                   X_test=X_test_vec, y_test=y_test)"
      ]
    },
    {
      "cell_type": "markdown",
      "metadata": {
        "id": "cf1BkCSp65mW"
      },
      "source": [
        "## DL Models"
      ]
    },
    {
      "cell_type": "markdown",
      "metadata": {
        "id": "g6PPdAQZ68uv"
      },
      "source": [
        "### LSTM Model 1"
      ]
    },
    {
      "cell_type": "markdown",
      "metadata": {
        "id": "xjTeIq2elXum"
      },
      "source": [
        "#### Building vocab"
      ]
    },
    {
      "cell_type": "code",
      "execution_count": 15,
      "metadata": {
        "id": "72zwCuYK7P0o",
        "colab": {
          "base_uri": "https://localhost:8080/"
        },
        "outputId": "cb261dd0-fced-4c31-99d9-9aa3b1dbebc6"
      },
      "outputs": [
        {
          "output_type": "stream",
          "name": "stdout",
          "text": [
            "2023-08-31 16:42:39.549326: I tensorflow/core/platform/cpu_feature_guard.cc:182] This TensorFlow binary is optimized to use available CPU instructions in performance-critical operations.\n",
            "To enable the following instructions: AVX2 FMA, in other operations, rebuild TensorFlow with the appropriate compiler flags.\n",
            "2023-08-31 16:42:40.501702: W tensorflow/compiler/tf2tensorrt/utils/py_utils.cc:38] TF-TRT Warning: Could not find TensorRT\n",
            "2023-08-31 16:42:42.047208: I tensorflow/compiler/xla/stream_executor/cuda/cuda_gpu_executor.cc:996] successful NUMA node read from SysFS had negative value (-1), but there must be at least one NUMA node, so returning NUMA node zero. See more at https://github.com/torvalds/linux/blob/v6.0/Documentation/ABI/testing/sysfs-bus-pci#L344-L355\n",
            "2023-08-31 16:42:42.047719: I tensorflow/compiler/xla/stream_executor/cuda/cuda_gpu_executor.cc:996] successful NUMA node read from SysFS had negative value (-1), but there must be at least one NUMA node, so returning NUMA node zero. See more at https://github.com/torvalds/linux/blob/v6.0/Documentation/ABI/testing/sysfs-bus-pci#L344-L355\n",
            "2023-08-31 16:42:42.047882: I tensorflow/compiler/xla/stream_executor/cuda/cuda_gpu_executor.cc:996] successful NUMA node read from SysFS had negative value (-1), but there must be at least one NUMA node, so returning NUMA node zero. See more at https://github.com/torvalds/linux/blob/v6.0/Documentation/ABI/testing/sysfs-bus-pci#L344-L355\n",
            "Collecting en-core-web-sm==3.6.0\n",
            "  Downloading https://github.com/explosion/spacy-models/releases/download/en_core_web_sm-3.6.0/en_core_web_sm-3.6.0-py3-none-any.whl (12.8 MB)\n",
            "\u001b[2K     \u001b[90m━━━━━━━━━━━━━━━━━━━━━━━━━━━━━━━━━━━━━━━━\u001b[0m \u001b[32m12.8/12.8 MB\u001b[0m \u001b[31m38.6 MB/s\u001b[0m eta \u001b[36m0:00:00\u001b[0m\n",
            "\u001b[?25hRequirement already satisfied: spacy<3.7.0,>=3.6.0 in /usr/local/lib/python3.10/dist-packages (from en-core-web-sm==3.6.0) (3.6.1)\n",
            "Requirement already satisfied: spacy-legacy<3.1.0,>=3.0.11 in /usr/local/lib/python3.10/dist-packages (from spacy<3.7.0,>=3.6.0->en-core-web-sm==3.6.0) (3.0.12)\n",
            "Requirement already satisfied: spacy-loggers<2.0.0,>=1.0.0 in /usr/local/lib/python3.10/dist-packages (from spacy<3.7.0,>=3.6.0->en-core-web-sm==3.6.0) (1.0.4)\n",
            "Requirement already satisfied: murmurhash<1.1.0,>=0.28.0 in /usr/local/lib/python3.10/dist-packages (from spacy<3.7.0,>=3.6.0->en-core-web-sm==3.6.0) (1.0.9)\n",
            "Requirement already satisfied: cymem<2.1.0,>=2.0.2 in /usr/local/lib/python3.10/dist-packages (from spacy<3.7.0,>=3.6.0->en-core-web-sm==3.6.0) (2.0.7)\n",
            "Requirement already satisfied: preshed<3.1.0,>=3.0.2 in /usr/local/lib/python3.10/dist-packages (from spacy<3.7.0,>=3.6.0->en-core-web-sm==3.6.0) (3.0.8)\n",
            "Requirement already satisfied: thinc<8.2.0,>=8.1.8 in /usr/local/lib/python3.10/dist-packages (from spacy<3.7.0,>=3.6.0->en-core-web-sm==3.6.0) (8.1.12)\n",
            "Requirement already satisfied: wasabi<1.2.0,>=0.9.1 in /usr/local/lib/python3.10/dist-packages (from spacy<3.7.0,>=3.6.0->en-core-web-sm==3.6.0) (1.1.2)\n",
            "Requirement already satisfied: srsly<3.0.0,>=2.4.3 in /usr/local/lib/python3.10/dist-packages (from spacy<3.7.0,>=3.6.0->en-core-web-sm==3.6.0) (2.4.7)\n",
            "Requirement already satisfied: catalogue<2.1.0,>=2.0.6 in /usr/local/lib/python3.10/dist-packages (from spacy<3.7.0,>=3.6.0->en-core-web-sm==3.6.0) (2.0.9)\n",
            "Requirement already satisfied: typer<0.10.0,>=0.3.0 in /usr/local/lib/python3.10/dist-packages (from spacy<3.7.0,>=3.6.0->en-core-web-sm==3.6.0) (0.9.0)\n",
            "Requirement already satisfied: pathy>=0.10.0 in /usr/local/lib/python3.10/dist-packages (from spacy<3.7.0,>=3.6.0->en-core-web-sm==3.6.0) (0.10.2)\n",
            "Requirement already satisfied: smart-open<7.0.0,>=5.2.1 in /usr/local/lib/python3.10/dist-packages (from spacy<3.7.0,>=3.6.0->en-core-web-sm==3.6.0) (6.3.0)\n",
            "Requirement already satisfied: tqdm<5.0.0,>=4.38.0 in /usr/local/lib/python3.10/dist-packages (from spacy<3.7.0,>=3.6.0->en-core-web-sm==3.6.0) (4.66.1)\n",
            "Requirement already satisfied: numpy>=1.15.0 in /usr/local/lib/python3.10/dist-packages (from spacy<3.7.0,>=3.6.0->en-core-web-sm==3.6.0) (1.23.5)\n",
            "Requirement already satisfied: requests<3.0.0,>=2.13.0 in /usr/local/lib/python3.10/dist-packages (from spacy<3.7.0,>=3.6.0->en-core-web-sm==3.6.0) (2.31.0)\n",
            "Requirement already satisfied: pydantic!=1.8,!=1.8.1,<3.0.0,>=1.7.4 in /usr/local/lib/python3.10/dist-packages (from spacy<3.7.0,>=3.6.0->en-core-web-sm==3.6.0) (2.2.1)\n",
            "Requirement already satisfied: jinja2 in /usr/local/lib/python3.10/dist-packages (from spacy<3.7.0,>=3.6.0->en-core-web-sm==3.6.0) (3.1.2)\n",
            "Requirement already satisfied: setuptools in /usr/local/lib/python3.10/dist-packages (from spacy<3.7.0,>=3.6.0->en-core-web-sm==3.6.0) (67.7.2)\n",
            "Requirement already satisfied: packaging>=20.0 in /usr/local/lib/python3.10/dist-packages (from spacy<3.7.0,>=3.6.0->en-core-web-sm==3.6.0) (23.1)\n",
            "Requirement already satisfied: langcodes<4.0.0,>=3.2.0 in /usr/local/lib/python3.10/dist-packages (from spacy<3.7.0,>=3.6.0->en-core-web-sm==3.6.0) (3.3.0)\n",
            "Requirement already satisfied: annotated-types>=0.4.0 in /usr/local/lib/python3.10/dist-packages (from pydantic!=1.8,!=1.8.1,<3.0.0,>=1.7.4->spacy<3.7.0,>=3.6.0->en-core-web-sm==3.6.0) (0.5.0)\n",
            "Requirement already satisfied: pydantic-core==2.6.1 in /usr/local/lib/python3.10/dist-packages (from pydantic!=1.8,!=1.8.1,<3.0.0,>=1.7.4->spacy<3.7.0,>=3.6.0->en-core-web-sm==3.6.0) (2.6.1)\n",
            "Requirement already satisfied: typing-extensions>=4.6.1 in /usr/local/lib/python3.10/dist-packages (from pydantic!=1.8,!=1.8.1,<3.0.0,>=1.7.4->spacy<3.7.0,>=3.6.0->en-core-web-sm==3.6.0) (4.7.1)\n",
            "Requirement already satisfied: charset-normalizer<4,>=2 in /usr/local/lib/python3.10/dist-packages (from requests<3.0.0,>=2.13.0->spacy<3.7.0,>=3.6.0->en-core-web-sm==3.6.0) (3.2.0)\n",
            "Requirement already satisfied: idna<4,>=2.5 in /usr/local/lib/python3.10/dist-packages (from requests<3.0.0,>=2.13.0->spacy<3.7.0,>=3.6.0->en-core-web-sm==3.6.0) (3.4)\n",
            "Requirement already satisfied: urllib3<3,>=1.21.1 in /usr/local/lib/python3.10/dist-packages (from requests<3.0.0,>=2.13.0->spacy<3.7.0,>=3.6.0->en-core-web-sm==3.6.0) (2.0.4)\n",
            "Requirement already satisfied: certifi>=2017.4.17 in /usr/local/lib/python3.10/dist-packages (from requests<3.0.0,>=2.13.0->spacy<3.7.0,>=3.6.0->en-core-web-sm==3.6.0) (2023.7.22)\n",
            "Requirement already satisfied: blis<0.8.0,>=0.7.8 in /usr/local/lib/python3.10/dist-packages (from thinc<8.2.0,>=8.1.8->spacy<3.7.0,>=3.6.0->en-core-web-sm==3.6.0) (0.7.10)\n",
            "Requirement already satisfied: confection<1.0.0,>=0.0.1 in /usr/local/lib/python3.10/dist-packages (from thinc<8.2.0,>=8.1.8->spacy<3.7.0,>=3.6.0->en-core-web-sm==3.6.0) (0.1.1)\n",
            "Requirement already satisfied: click<9.0.0,>=7.1.1 in /usr/local/lib/python3.10/dist-packages (from typer<0.10.0,>=0.3.0->spacy<3.7.0,>=3.6.0->en-core-web-sm==3.6.0) (8.1.7)\n",
            "Requirement already satisfied: MarkupSafe>=2.0 in /usr/local/lib/python3.10/dist-packages (from jinja2->spacy<3.7.0,>=3.6.0->en-core-web-sm==3.6.0) (2.1.3)\n",
            "\u001b[38;5;2m✔ Download and installation successful\u001b[0m\n",
            "You can now load the package via spacy.load('en_core_web_sm')\n"
          ]
        }
      ],
      "source": [
        "!python -m spacy download en_core_web_sm"
      ]
    },
    {
      "cell_type": "code",
      "execution_count": 16,
      "metadata": {
        "id": "i0lbON81lXum"
      },
      "outputs": [],
      "source": [
        "PAD_TOKEN = 0\n",
        "UNK_TOKEN = 1"
      ]
    },
    {
      "cell_type": "code",
      "execution_count": 17,
      "metadata": {
        "id": "BPxa8smFlXum"
      },
      "outputs": [],
      "source": [
        "tokenizer = get_tokenizer(tokenizer=\"spacy\",\n",
        "                          language=\"en_core_web_sm\")\n",
        "\n",
        "def build_vocab(data_iter):\n",
        "    for data in data_iter:\n",
        "        yield tokenizer(data)\n",
        "\n",
        "vocab = build_vocab_from_iterator(iterator=build_vocab(df[\"qns\"].to_list()),\n",
        "                                  min_freq=2,\n",
        "                                  specials=['[PAD]', '[UNK]'],\n",
        "                                  special_first=True)\n",
        "vocab.set_default_index(UNK_TOKEN)"
      ]
    },
    {
      "cell_type": "code",
      "execution_count": 18,
      "metadata": {
        "id": "iqbfMvl-lXun"
      },
      "outputs": [],
      "source": [
        "VOCAB_SIZE = len(vocab)\n",
        "SEED = 2406\n",
        "BATCH_SIZE = 32\n",
        "DEVICE = \"cuda\" if torch.cuda.is_available() else \"cpu\"\n",
        "MODEL_RESULTS = defaultdict(dict)"
      ]
    },
    {
      "cell_type": "code",
      "execution_count": 19,
      "metadata": {
        "colab": {
          "base_uri": "https://localhost:8080/",
          "height": 35
        },
        "id": "S1ptDTjwmAPO",
        "outputId": "6cc71b76-31f6-4122-8754-2d8a122baf99"
      },
      "outputs": [
        {
          "output_type": "execute_result",
          "data": {
            "text/plain": [
              "'cuda'"
            ],
            "application/vnd.google.colaboratory.intrinsic+json": {
              "type": "string"
            }
          },
          "metadata": {},
          "execution_count": 19
        }
      ],
      "source": [
        "DEVICE"
      ]
    },
    {
      "cell_type": "markdown",
      "metadata": {
        "id": "KxrZYx9slXun"
      },
      "source": [
        "#### Dataset"
      ]
    },
    {
      "cell_type": "code",
      "execution_count": 20,
      "metadata": {
        "id": "NrJm-t0MlXun"
      },
      "outputs": [],
      "source": [
        "class QTDataset(Dataset):\n",
        "\n",
        "    def __init__(self,\n",
        "                 data: Union[str, pd.DataFrame],\n",
        "                 y: np.ndarray) -> None:\n",
        "        super().__init__()\n",
        "\n",
        "        if isinstance(data, str):\n",
        "            self.df = pd.read_csv(data)\n",
        "        elif isinstance(data, pd.DataFrame):\n",
        "            self.df = data\n",
        "        else:\n",
        "            raise TypeError(\"Wrong data type\")\n",
        "\n",
        "        self.df = self.df[[\"qns\"]]\n",
        "        self.y = y\n",
        "\n",
        "    def __len__(self) -> int:\n",
        "        return self.df.shape[0]\n",
        "\n",
        "    def __getitem__(self, idx) -> Tuple[str, int]:\n",
        "        qn, label = self.df.iloc[idx, 0], self.y[idx]\n",
        "        return qn, torch.tensor(label, dtype=torch.float)"
      ]
    },
    {
      "cell_type": "code",
      "execution_count": 21,
      "metadata": {
        "id": "OqWtsUdMlXun"
      },
      "outputs": [],
      "source": [
        "idxs = list(range(df.shape[0]))\n",
        "\n",
        "train_idx, test_idx, _, _ = model_selection.train_test_split(idxs, labels,\n",
        "                                                             test_size=0.15,\n",
        "                                                             random_state=SEED,\n",
        "                                                             shuffle=True)"
      ]
    },
    {
      "cell_type": "code",
      "execution_count": 22,
      "metadata": {
        "colab": {
          "base_uri": "https://localhost:8080/"
        },
        "id": "bb5s21jRlXun",
        "outputId": "f172cfc3-772a-472a-9bcd-ea70b35718c7"
      },
      "outputs": [
        {
          "output_type": "execute_result",
          "data": {
            "text/plain": [
              "(5505, 972)"
            ]
          },
          "metadata": {},
          "execution_count": 22
        }
      ],
      "source": [
        "len(train_idx), len(test_idx)"
      ]
    },
    {
      "cell_type": "code",
      "execution_count": 23,
      "metadata": {
        "id": "sswtzJjHlXun"
      },
      "outputs": [],
      "source": [
        "train_ds = QTDataset(data=df.iloc[train_idx, :].reset_index(drop=True), y=y.toarray().astype(int)[train_idx])\n",
        "test_ds = QTDataset(data=df.iloc[test_idx, :].reset_index(drop=True), y=y.toarray().astype(int)[test_idx])"
      ]
    },
    {
      "cell_type": "code",
      "execution_count": 24,
      "metadata": {
        "id": "8yFbpQT5lXun"
      },
      "outputs": [],
      "source": [
        "train_dl = DataLoader(dataset=train_ds,\n",
        "                      batch_size=BATCH_SIZE,\n",
        "                      shuffle=True)\n",
        "test_dl = DataLoader(dataset=test_ds,\n",
        "                     batch_size=BATCH_SIZE)"
      ]
    },
    {
      "cell_type": "markdown",
      "metadata": {
        "id": "Ncxgs2LzlXun"
      },
      "source": [
        "#### Model"
      ]
    },
    {
      "cell_type": "code",
      "execution_count": 41,
      "metadata": {
        "id": "EKCzLLUHlXun"
      },
      "outputs": [],
      "source": [
        "class QTAlgoModelV1(nn.Module):\n",
        "\n",
        "    def __init__(self,\n",
        "                 vocab_size: int=10000,\n",
        "                 embedding_dim: int=128,\n",
        "                 hidden_size: int=64,\n",
        "                 dropout: float=0.1,\n",
        "                 num_layers=1,\n",
        "                 n_classes: int=5):\n",
        "\n",
        "        super().__init__()\n",
        "\n",
        "        self.num_layers = num_layers\n",
        "        self.hidden_size = hidden_size\n",
        "\n",
        "        self.embedding = nn.Embedding(num_embeddings=vocab_size,\n",
        "                                      embedding_dim=embedding_dim,\n",
        "                                      padding_idx=PAD_TOKEN)\n",
        "        self.dropout = nn.Dropout(p=dropout)\n",
        "        self.lstm1 = nn.LSTM(input_size=embedding_dim,\n",
        "                            hidden_size=hidden_size,\n",
        "                            num_layers=num_layers,\n",
        "                            batch_first=True)\n",
        "        # self.lstm2 = nn.LSTM(input_size=hidden_size,\n",
        "        #                      hidden_size=hidden_size//2,\n",
        "        #                      num_layers=num_layers,\n",
        "        #                      batch_first=True,\n",
        "        #                      dropout=dropout)\n",
        "        self.classifier_block = nn.Sequential(\n",
        "            nn.Linear(in_features=hidden_size,\n",
        "                      out_features=hidden_size*4),\n",
        "            nn.ReLU(),\n",
        "            nn.Linear(in_features=hidden_size*4,\n",
        "                      out_features=n_classes)\n",
        "        )\n",
        "\n",
        "    def forward(self,\n",
        "                x: torch.Tensor) -> torch.Tensor:\n",
        "\n",
        "        x_emb = self.embedding(x)\n",
        "        x_emb = F.relu(self.dropout(x_emb))\n",
        "        x_out, _ = self.lstm1(x_emb)\n",
        "        # x_out, _ = self.lstm2(F.relu(x_out))\n",
        "        x_out = self.classifier_block(F.relu(x_out[:, -1]))\n",
        "        return x_out"
      ]
    },
    {
      "cell_type": "markdown",
      "metadata": {
        "id": "U-ZEUcKda13a"
      },
      "source": [
        "#### Metrics"
      ]
    },
    {
      "cell_type": "code",
      "execution_count": 26,
      "metadata": {
        "colab": {
          "base_uri": "https://localhost:8080/"
        },
        "id": "GcrRCW6ia13a",
        "outputId": "2c275809-9616-468d-ce51-87b14be962f2"
      },
      "outputs": [
        {
          "output_type": "execute_result",
          "data": {
            "text/plain": [
              "array([[1, 0, 0],\n",
              "       [1, 1, 1]])"
            ]
          },
          "metadata": {},
          "execution_count": 26
        }
      ],
      "source": [
        "a = torch.tensor([\n",
        "    [0.6, 0.4, 0.4],\n",
        "    [1, 1, 1]\n",
        "])\n",
        "\n",
        "np.where(a>=0.5, 1, 0)"
      ]
    },
    {
      "cell_type": "markdown",
      "metadata": {
        "id": "rWZJtw0glXuo"
      },
      "source": [
        "#### Training"
      ]
    },
    {
      "cell_type": "code",
      "execution_count": 43,
      "metadata": {
        "id": "enO1ww7PlXuo"
      },
      "outputs": [],
      "source": [
        "def train_step(model: torch.nn.Module,\n",
        "               dataloader: DataLoader,\n",
        "               loss_fn: torch.nn.Module,\n",
        "               optimizer: torch.optim.Optimizer,\n",
        "               device: torch.device=\"cpu\",\n",
        "               threshold: float=0.5) -> Tuple[float, float, float]:\n",
        "\n",
        "    model.train()\n",
        "    accs, bce_loss, hamming_loss = 0, 0, 0\n",
        "\n",
        "    for X, y in dataloader:\n",
        "        X_tok = []\n",
        "        for x in X:\n",
        "            X_tok.append(torch.tensor(vocab(tokenizer(x))))\n",
        "        X = pad_sequence(X_tok, batch_first=True, padding_value=PAD_TOKEN)\n",
        "        X, y = X.to(device), y.to(device)\n",
        "\n",
        "        preds = F.sigmoid(model(X))\n",
        "        loss = loss_fn(preds, y)\n",
        "\n",
        "        optimizer.zero_grad()\n",
        "        loss.backward()\n",
        "        optimizer.step()\n",
        "\n",
        "        pred_labels = np.where(preds.cpu()>=threshold, 1, 0)\n",
        "\n",
        "        accs += metrics.accuracy_score(y.cpu(), pred_labels)\n",
        "        hamming_loss += metrics.hamming_loss(y.cpu(), pred_labels)\n",
        "        bce_loss += loss.item()\n",
        "\n",
        "    accs /= len(dataloader)\n",
        "    bce_loss /= len(dataloader)\n",
        "    hamming_loss /= len(dataloader)\n",
        "\n",
        "    return accs, hamming_loss, bce_loss\n",
        "\n",
        "def eval_step(model: torch.nn.Module,\n",
        "              dataloader: DataLoader,\n",
        "              loss_fn: torch.nn.Module,\n",
        "              device: torch.device=\"cpu\",\n",
        "              threshold: float=0.5) -> Tuple[float, float, float]:\n",
        "\n",
        "    model.eval()\n",
        "    accs, bce_loss, hamming_loss = 0, 0, 0\n",
        "\n",
        "    with torch.inference_mode():\n",
        "        for X, y in dataloader:\n",
        "            X_tok = []\n",
        "            for x in X:\n",
        "                X_tok.append(torch.tensor(vocab(tokenizer(x))))\n",
        "            X = pad_sequence(X_tok, batch_first=True, padding_value=PAD_TOKEN)\n",
        "            X, y = X.to(device), y.to(device)\n",
        "\n",
        "            preds = F.sigmoid(model(X))\n",
        "            loss = loss_fn(preds, y)\n",
        "\n",
        "            pred_labels = np.where(preds.cpu()>=threshold, 1, 0)\n",
        "\n",
        "            accs += metrics.accuracy_score(y.cpu(), pred_labels)\n",
        "            hamming_loss += metrics.hamming_loss(y.cpu(), pred_labels)\n",
        "            bce_loss += loss.item()\n",
        "\n",
        "        accs /= len(dataloader)\n",
        "        hamming_loss /= len(dataloader)\n",
        "        bce_loss /= len(dataloader)\n",
        "\n",
        "    return accs, hamming_loss, bce_loss\n",
        "\n",
        "def train(model: torch.nn.Module,\n",
        "         train_dl: DataLoader,\n",
        "         test_dl: DataLoader,\n",
        "         loss_fn: torch.nn.Module,\n",
        "         optimizer: torch.optim.Optimizer,\n",
        "         epochs: int=10,\n",
        "         device: torch.device=\"cpu\") -> Dict[str, List[float]]:\n",
        "\n",
        "    model = model.to(device)\n",
        "\n",
        "    result_dict = {\n",
        "        \"train_acc\" : [],\n",
        "        \"train_hamming_loss\" : [],\n",
        "        \"train_bce_loss\" : [],\n",
        "        \"test_acc\" : [],\n",
        "        \"test_hamming_loss\" : [],\n",
        "        \"test_bce_loss\" : []\n",
        "    }\n",
        "\n",
        "    for epoch in tqdm(range(1, epochs+1)):\n",
        "\n",
        "        tr_acc, tr_h_loss, tr_bce_loss = train_step(model, train_dl, loss_fn, optimizer, device)\n",
        "        te_acc, te_h_loss, te_bce_loss = eval_step(model, test_dl, loss_fn, device)\n",
        "\n",
        "        # print(f\"                                         Train Acc          Hamming Loss    BCE Loss          Test Acc          Hamming Loss   BCE Loss\")\n",
        "        if epoch%10==0:\n",
        "          print(f\"epoch {epoch} ({int(epoch*100/epochs)}%) {tr_acc*100:.2f}% {tr_h_loss:.3f} {tr_bce_loss:.3f} {te_acc*100:.2f}% {te_h_loss:.3f} {te_bce_loss:.3f}\")\n",
        "\n",
        "        result_dict[\"train_acc\"].append(tr_acc)\n",
        "        result_dict[\"train_hamming_loss\"].append(tr_h_loss)\n",
        "        result_dict[\"train_bce_loss\"].append(tr_bce_loss)\n",
        "        result_dict[\"test_acc\"].append(te_acc)\n",
        "        result_dict[\"test_hamming_loss\"].append(te_h_loss)\n",
        "        result_dict[\"test_bce_loss\"].append(te_bce_loss)\n",
        "\n",
        "    return result_dict\n"
      ]
    },
    {
      "cell_type": "code",
      "execution_count": 44,
      "metadata": {
        "id": "SMd2WQnR2ESk"
      },
      "outputs": [],
      "source": [
        "epochs = 50"
      ]
    },
    {
      "cell_type": "markdown",
      "metadata": {
        "id": "AJPuJmMK_Oc8"
      },
      "source": [
        "##### Dropout - 0.2"
      ]
    },
    {
      "cell_type": "code",
      "execution_count": 48,
      "metadata": {
        "colab": {
          "base_uri": "https://localhost:8080/",
          "height": 138,
          "referenced_widgets": [
            "501b7d1a4a4947a08a7d35c5a31d2c74",
            "ca5d647a1ae04d548fa06699f786f169",
            "841baf0eb27f4f069a128af2b5f45575",
            "72d907d6990d4c66a0c78b0499096fdb",
            "cec97201792a445b8ce43fe4ff4d8452",
            "6ebb2160369c4fe6895dd4eb1c990cb3",
            "7ef33b57d85c4628b5ff59f9571d1288",
            "75647fa6cf184d37a95e193e244a106e",
            "5e930feee43e48e2bf60a9702bd73104",
            "fa2a014a8ffa49a1af71cd0c8c66deca",
            "7a320b80707e4194adaddcf58518f6d4"
          ]
        },
        "id": "DF7Xf9-flXup",
        "outputId": "1e486971-6b64-4f2a-dc40-25248ea3f2a7"
      },
      "outputs": [
        {
          "output_type": "display_data",
          "data": {
            "text/plain": [
              "  0%|          | 0/50 [00:00<?, ?it/s]"
            ],
            "application/vnd.jupyter.widget-view+json": {
              "version_major": 2,
              "version_minor": 0,
              "model_id": "501b7d1a4a4947a08a7d35c5a31d2c74"
            }
          },
          "metadata": {}
        },
        {
          "output_type": "stream",
          "name": "stdout",
          "text": [
            "epoch 10 (20%) 0.23% 0.264 0.487 0.00% 0.266 0.481\n",
            "epoch 20 (40%) 1.72% 0.262 0.482 0.20% 0.266 0.475\n",
            "epoch 30 (60%) 7.04% 0.259 0.480 8.97% 0.262 0.471\n",
            "epoch 40 (80%) 38.85% 0.192 0.416 33.00% 0.221 0.456\n",
            "epoch 50 (100%) 46.22% 0.171 0.373 35.72% 0.225 0.491\n"
          ]
        }
      ],
      "source": [
        "model_1 = QTAlgoModelV1(vocab_size=VOCAB_SIZE,\n",
        "                        num_layers=1,\n",
        "                        embedding_dim=512,\n",
        "                        hidden_size=256,\n",
        "                        dropout=0.4,\n",
        "                        n_classes=len(CLASS_MAPPING)).to(DEVICE)\n",
        "loss_fn = torch.nn.BCELoss()\n",
        "optimizer = torch.optim.Adam(params=model_1.parameters(),\n",
        "                             lr=1e-3)\n",
        "\n",
        "result_dict = train(model=model_1,\n",
        "                    train_dl=train_dl,\n",
        "                    test_dl=test_dl,\n",
        "                    loss_fn=loss_fn,\n",
        "                    optimizer=optimizer,\n",
        "                    epochs=epochs,\n",
        "                    device=DEVICE)\n",
        "\n",
        "MODEL_RESULTS[\"model_1_dropout_0.2\"] = result_dict"
      ]
    },
    {
      "cell_type": "code",
      "execution_count": 47,
      "metadata": {
        "colab": {
          "base_uri": "https://localhost:8080/",
          "height": 368
        },
        "id": "YGNfAS7ilXup",
        "outputId": "5bf3ecfb-b98a-4360-acdb-2ee26a4088eb"
      },
      "outputs": [
        {
          "output_type": "display_data",
          "data": {
            "text/plain": [
              "<Figure size 800x400 with 2 Axes>"
            ],
            "image/png": "[encoded data removed]"
          },
          "metadata": {}
        }
      ],
      "source": [
        "fig, ax = plt.subplots(nrows=1, ncols=2, figsize=(8, 4))\n",
        "ax[0].plot(range(epochs), result_dict[\"train_bce_loss\"], label=\"train_bce_loss\")\n",
        "ax[0].plot(range(epochs), result_dict[\"test_bce_loss\"], label=\"test_bce_loss\")\n",
        "ax[0].legend();\n",
        "\n",
        "ax[1].plot(range(epochs), result_dict[\"train_hamming_loss\"], label=\"train_hamming_loss\")\n",
        "ax[1].plot(range(epochs), result_dict[\"test_hamming_loss\"], label=\"test_hamming_loss\")\n",
        "ax[1].legend();"
      ]
    },
    {
      "cell_type": "markdown",
      "metadata": {
        "id": "F2lgNE1sAzEC"
      },
      "source": [
        "##### L2 Regularization"
      ]
    },
    {
      "cell_type": "code",
      "execution_count": null,
      "metadata": {
        "colab": {
          "base_uri": "https://localhost:8080/",
          "height": 498,
          "referenced_widgets": [
            "c4ae97193bd74277a74995b0a2e6ef14",
            "bf56a4e3f6554e1e9caa6361aef7891b",
            "3960e484930c471c8ece0cc13191b301",
            "794d2c52a6134292bbf092a44e0dd063",
            "53a44943b77a48eea43d9e41e5fa185b",
            "bccb4041d079467b90862f01269b8b9d",
            "c9fe99459e784bf5ac31fe31d98e3596",
            "06f22dcf376f492182c690928ecd7088",
            "1494106f61c742c6b08f98576e98b72c",
            "55105e54d2434c37a9e8804fedcb1036",
            "58c1e27b589741e4b7c9d9573434e74d"
          ]
        },
        "id": "RiF0Y0NGAS9h",
        "outputId": "9aa917a3-5c0e-4266-f2b4-c3289ca1d096"
      },
      "outputs": [
        {
          "data": {
            "application/vnd.jupyter.widget-view+json": {
              "model_id": "c4ae97193bd74277a74995b0a2e6ef14",
              "version_major": 2,
              "version_minor": 0
            },
            "text/plain": [
              "  0%|          | 0/25 [00:00<?, ?it/s]"
            ]
          },
          "metadata": {},
          "output_type": "display_data"
        },
        {
          "name": "stdout",
          "output_type": "stream",
          "text": [
            "epoch 10 (40%) train_acc 36.61% train_loss  1.302 test_acc 35.18% test_loss 1.305\n",
            "epoch 20 (80%) train_acc 36.80% train_loss  1.289 test_acc 36.29% test_loss 1.306\n"
          ]
        },
        {
          "data": {
            "image/png": "[encoded data removed]",
            "text/plain": [
              "<Figure size 640x480 with 1 Axes>"
            ]
          },
          "metadata": {},
          "output_type": "display_data"
        }
      ],
      "source": [
        "model_1_reg = QTAlgoModelV1(vocab_size=VOCAB_SIZE,\n",
        "                            num_layers=1,\n",
        "                            embedding_dim=512,\n",
        "                            hidden_size=256,\n",
        "                            dropout=0.1,\n",
        "                            output_dim=len(CLASS_MAPPING)).to(DEVICE)\n",
        "loss_fn = torch.nn.CrossEntropyLoss()\n",
        "optimizer = torch.optim.Adam(params=model_1_reg.parameters(),\n",
        "                             lr=1e-3,\n",
        "                             weight_decay=1e-7)\n",
        "\n",
        "result_dict = train(model=model_1_reg,\n",
        "                    train_dl=train_dl,\n",
        "                    test_dl=test_dl,\n",
        "                    loss_fn=loss_fn,\n",
        "                    optimizer=optimizer,\n",
        "                    epochs=epochs,\n",
        "                    device=DEVICE)\n",
        "\n",
        "\n",
        "MODEL_RESULTS[\"model_1_l2_reg\"] = result_dict\n",
        "\n",
        "plt.plot(range(epochs), result_dict[\"train_loss\"], label=\"train_loss\")\n",
        "plt.plot(range(epochs), result_dict[\"test_loss\"], label=\"test_loss\")\n",
        "plt.legend();"
      ]
    },
    {
      "cell_type": "markdown",
      "metadata": {
        "id": "K9pxh6jEM5EY"
      },
      "source": [
        "##### Inc Hidden Size"
      ]
    },
    {
      "cell_type": "code",
      "execution_count": null,
      "metadata": {
        "colab": {
          "base_uri": "https://localhost:8080/",
          "height": 498,
          "referenced_widgets": [
            "f4dc8e7c4b1241c2a4ebde9f02ad8796",
            "165ea7187a3a46168fdcf83afd2fa133",
            "3f68f6e7e7bb4345ac52a0b2f9739e65",
            "e7201d7ee6aa45479637ffc5086ba2ec",
            "a726fcadcb314401be185819942c4a49",
            "fff2e5c394844e54a13d9e3e6ca55e55",
            "66eda3c597814d3ea380a60fdcfd964c",
            "6a6e537fee6e41ee983ee7572091d213",
            "6c161222ebed49c08990e34480442f3b",
            "d6976e307d294c83b5530806163aad21",
            "c4246f4459fe4de48ccff5d9b3c46f2e"
          ]
        },
        "id": "b8c5BbLgKA_A",
        "outputId": "f1cbed51-f6d3-469b-a60d-2d8c00575f27"
      },
      "outputs": [
        {
          "data": {
            "application/vnd.jupyter.widget-view+json": {
              "model_id": "f4dc8e7c4b1241c2a4ebde9f02ad8796",
              "version_major": 2,
              "version_minor": 0
            },
            "text/plain": [
              "  0%|          | 0/25 [00:00<?, ?it/s]"
            ]
          },
          "metadata": {},
          "output_type": "display_data"
        },
        {
          "name": "stdout",
          "output_type": "stream",
          "text": [
            "epoch 10 (40%) train_acc 35.91% train_loss  1.306 test_acc 35.18% test_loss 1.307\n",
            "epoch 20 (80%) train_acc 42.58% train_loss  1.223 test_acc 31.15% test_loss 1.354\n"
          ]
        },
        {
          "data": {
            "image/png": "[encoded data removed]",
            "text/plain": [
              "<Figure size 640x480 with 1 Axes>"
            ]
          },
          "metadata": {},
          "output_type": "display_data"
        }
      ],
      "source": [
        "model_1_inc_hs = QTAlgoModelV1(vocab_size=VOCAB_SIZE,\n",
        "                            num_layers=1,\n",
        "                            embedding_dim=512,\n",
        "                            hidden_size=512,\n",
        "                            dropout=0.2,\n",
        "                            output_dim=len(CLASS_MAPPING)).to(DEVICE)\n",
        "loss_fn = torch.nn.CrossEntropyLoss()\n",
        "optimizer = torch.optim.Adam(params=model_1_inc_hs.parameters(),\n",
        "                             lr=1e-3,\n",
        "                             weight_decay=1e-7)\n",
        "\n",
        "result_dict = train(model=model_1_inc_hs,\n",
        "                    train_dl=train_dl,\n",
        "                    test_dl=test_dl,\n",
        "                    loss_fn=loss_fn,\n",
        "                    optimizer=optimizer,\n",
        "                    epochs=epochs,\n",
        "                    device=DEVICE)\n",
        "\n",
        "\n",
        "MODEL_RESULTS[\"model_1_inc_hs\"] = result_dict\n",
        "\n",
        "plt.plot(range(epochs), result_dict[\"train_loss\"], label=\"train_loss\")\n",
        "plt.plot(range(epochs), result_dict[\"test_loss\"], label=\"test_loss\")\n",
        "plt.legend();"
      ]
    },
    {
      "cell_type": "markdown",
      "metadata": {
        "id": "akLFmGLuO6mx"
      },
      "source": [
        "### LSTM Model 2"
      ]
    },
    {
      "cell_type": "code",
      "execution_count": null,
      "metadata": {
        "id": "2tVSx0D4O7n-"
      },
      "outputs": [],
      "source": [
        "class QTAlgoModelV2(nn.Module):\n",
        "\n",
        "    def __init__(self,\n",
        "                 vocab_size: int=10000,\n",
        "                 embedding_dim: int=128,\n",
        "                 hidden_size: int=64,\n",
        "                 dropout: float=0.1,\n",
        "                 num_layers=1,\n",
        "                 output_dim: int=5):\n",
        "\n",
        "        super().__init__()\n",
        "\n",
        "        self.num_layers = num_layers\n",
        "        self.hidden_size = hidden_size\n",
        "\n",
        "        self.embedding = nn.Embedding(num_embeddings=vocab_size,\n",
        "                                      embedding_dim=embedding_dim,\n",
        "                                      padding_idx=PAD_TOKEN)\n",
        "        self.dropout = nn.Dropout(p=dropout)\n",
        "        self.lstm1 = nn.LSTM(input_size=embedding_dim,\n",
        "                            hidden_size=hidden_size,\n",
        "                            num_layers=num_layers,\n",
        "                            batch_first=True)\n",
        "        self.layer_norm_1 = nn.LayerNorm(normalized_shape=hidden_size)\n",
        "        self.lstm2 = nn.LSTM(input_size=hidden_size,\n",
        "                             hidden_size=hidden_size//2,\n",
        "                             num_layers=num_layers,\n",
        "                             batch_first=True,\n",
        "                             dropout=dropout)\n",
        "        self.layer_norm_2 = nn.LayerNorm(normalized_shape=hidden_size//2)\n",
        "        self.classifier_block = nn.Sequential(\n",
        "            nn.Linear(in_features=hidden_size//2,\n",
        "                      out_features=output_dim)\n",
        "        )\n",
        "\n",
        "    def forward(self,\n",
        "                x: torch.Tensor) -> torch.Tensor:\n",
        "\n",
        "        x_emb = self.embedding(x)\n",
        "        x_emb = F.relu(self.dropout(x_emb))\n",
        "        x_out, _ = self.layer_norm_1(self.lstm1(x_emb))\n",
        "        x_out, _ = self.layer_norm_2(self.lstm2(F.relu(x_out)))\n",
        "        x_out = self.classifier_block(F.relu(x_out[:, -1]))\n",
        "        return x_out"
      ]
    },
    {
      "cell_type": "markdown",
      "metadata": {
        "id": "NpCBa4kSPhBt"
      },
      "source": [
        "#### Training"
      ]
    },
    {
      "cell_type": "code",
      "execution_count": null,
      "metadata": {
        "colab": {
          "base_uri": "https://localhost:8080/",
          "height": 498,
          "referenced_widgets": [
            "dcc8a92a0dfc4ea9a220177638a60b4b",
            "00bd635843a1486d85a61a4d9ab226bc",
            "c06e8ef7dc01410894244d619ecd9675",
            "fabd40e3e43f48aca8d86cb8bac9d8f7",
            "6cc5592098fe4ed9806a1faa5df0c91f",
            "cd9a340879fa46bba5d21d5cb840e570",
            "25e11c61c7604382b98f93bd19b3a0bf",
            "134fc0e65ae841b68f7120f239c8c67a",
            "5d2a9fd534ca495596a693d8b2bec8d6",
            "e9a2bd1f01fe4f64922a0f7da3121f77",
            "0bd9a16e200e4af797b7284109f9dba7"
          ]
        },
        "id": "uNymjnUtPa79",
        "outputId": "95a4a4d4-5f87-40ba-8afa-f4e97b71db84"
      },
      "outputs": [
        {
          "data": {
            "application/vnd.jupyter.widget-view+json": {
              "model_id": "dcc8a92a0dfc4ea9a220177638a60b4b",
              "version_major": 2,
              "version_minor": 0
            },
            "text/plain": [
              "  0%|          | 0/25 [00:00<?, ?it/s]"
            ]
          },
          "metadata": {},
          "output_type": "display_data"
        },
        {
          "name": "stdout",
          "output_type": "stream",
          "text": [
            "epoch 10 (40%) train_acc 36.34% train_loss  1.295 test_acc 35.18% test_loss 1.309\n",
            "epoch 20 (80%) train_acc 35.73% train_loss  1.329 test_acc 33.87% test_loss 1.372\n"
          ]
        },
        {
          "data": {
            "image/png": "[encoded data removed]",
            "text/plain": [
              "<Figure size 640x480 with 1 Axes>"
            ]
          },
          "metadata": {},
          "output_type": "display_data"
        }
      ],
      "source": [
        "model_2_layer_norm = QTAlgoModelV1(vocab_size=VOCAB_SIZE,\n",
        "                            num_layers=1,\n",
        "                            embedding_dim=512,\n",
        "                            hidden_size=256,\n",
        "                            dropout=0.2,\n",
        "                            output_dim=len(CLASS_MAPPING)).to(DEVICE)\n",
        "loss_fn = torch.nn.CrossEntropyLoss()\n",
        "optimizer = torch.optim.Adam(params=model_2_layer_norm.parameters(),\n",
        "                             lr=1e-3,\n",
        "                             weight_decay=1e-7)\n",
        "\n",
        "result_dict = train(model=model_2_layer_norm,\n",
        "                    train_dl=train_dl,\n",
        "                    test_dl=test_dl,\n",
        "                    loss_fn=loss_fn,\n",
        "                    optimizer=optimizer,\n",
        "                    epochs=epochs,\n",
        "                    device=DEVICE)\n",
        "\n",
        "\n",
        "MODEL_RESULTS[\"model_2_layer_norm\"] = result_dict\n",
        "\n",
        "plt.plot(range(epochs), result_dict[\"train_loss\"], label=\"train_loss\")\n",
        "plt.plot(range(epochs), result_dict[\"test_loss\"], label=\"test_loss\")\n",
        "plt.legend();"
      ]
    }
  ],
  "metadata": {
    "accelerator": "GPU",
    "colab": {
      "gpuType": "T4",
      "provenance": []
    },
    "kernelspec": {
      "display_name": "Python 3",
      "name": "python3"
    },
    "language_info": {
      "codemirror_mode": {
        "name": "ipython",
        "version": 3
      },
      "file_extension": ".py",
      "mimetype": "text/x-python",
      "name": "python",
      "nbconvert_exporter": "python",
      "pygments_lexer": "ipython3",
      "version": "3.11.0"
    },
    "orig_nbformat": 4,
    "widgets": {
      "application/vnd.jupyter.widget-state+json": {
        "00bd635843a1486d85a61a4d9ab226bc": {
          "model_module": "@jupyter-widgets/controls",
          "model_module_version": "1.5.0",
          "model_name": "HTMLModel",
          "state": {
            "_dom_classes": [],
            "_model_module": "@jupyter-widgets/controls",
            "_model_module_version": "1.5.0",
            "_model_name": "HTMLModel",
            "_view_count": null,
            "_view_module": "@jupyter-widgets/controls",
            "_view_module_version": "1.5.0",
            "_view_name": "HTMLView",
            "description": "",
            "description_tooltip": null,
            "layout": "IPY_MODEL_cd9a340879fa46bba5d21d5cb840e570",
            "placeholder": "​",
            "style": "IPY_MODEL_25e11c61c7604382b98f93bd19b3a0bf",
            "value": "100%"
          }
        },
        "06f22dcf376f492182c690928ecd7088": {
          "model_module": "@jupyter-widgets/base",
          "model_module_version": "1.2.0",
          "model_name": "LayoutModel",
          "state": {
            "_model_module": "@jupyter-widgets/base",
            "_model_module_version": "1.2.0",
            "_model_name": "LayoutModel",
            "_view_count": null,
            "_view_module": "@jupyter-widgets/base",
            "_view_module_version": "1.2.0",
            "_view_name": "LayoutView",
            "align_content": null,
            "align_items": null,
            "align_self": null,
            "border": null,
            "bottom": null,
            "display": null,
            "flex": null,
            "flex_flow": null,
            "grid_area": null,
            "grid_auto_columns": null,
            "grid_auto_flow": null,
            "grid_auto_rows": null,
            "grid_column": null,
            "grid_gap": null,
            "grid_row": null,
            "grid_template_areas": null,
            "grid_template_columns": null,
            "grid_template_rows": null,
            "height": null,
            "justify_content": null,
            "justify_items": null,
            "left": null,
            "margin": null,
            "max_height": null,
            "max_width": null,
            "min_height": null,
            "min_width": null,
            "object_fit": null,
            "object_position": null,
            "order": null,
            "overflow": null,
            "overflow_x": null,
            "overflow_y": null,
            "padding": null,
            "right": null,
            "top": null,
            "visibility": null,
            "width": null
          }
        },
        "0bd9a16e200e4af797b7284109f9dba7": {
          "model_module": "@jupyter-widgets/controls",
          "model_module_version": "1.5.0",
          "model_name": "DescriptionStyleModel",
          "state": {
            "_model_module": "@jupyter-widgets/controls",
            "_model_module_version": "1.5.0",
            "_model_name": "DescriptionStyleModel",
            "_view_count": null,
            "_view_module": "@jupyter-widgets/base",
            "_view_module_version": "1.2.0",
            "_view_name": "StyleView",
            "description_width": ""
          }
        },
        "134fc0e65ae841b68f7120f239c8c67a": {
          "model_module": "@jupyter-widgets/base",
          "model_module_version": "1.2.0",
          "model_name": "LayoutModel",
          "state": {
            "_model_module": "@jupyter-widgets/base",
            "_model_module_version": "1.2.0",
            "_model_name": "LayoutModel",
            "_view_count": null,
            "_view_module": "@jupyter-widgets/base",
            "_view_module_version": "1.2.0",
            "_view_name": "LayoutView",
            "align_content": null,
            "align_items": null,
            "align_self": null,
            "border": null,
            "bottom": null,
            "display": null,
            "flex": null,
            "flex_flow": null,
            "grid_area": null,
            "grid_auto_columns": null,
            "grid_auto_flow": null,
            "grid_auto_rows": null,
            "grid_column": null,
            "grid_gap": null,
            "grid_row": null,
            "grid_template_areas": null,
            "grid_template_columns": null,
            "grid_template_rows": null,
            "height": null,
            "justify_content": null,
            "justify_items": null,
            "left": null,
            "margin": null,
            "max_height": null,
            "max_width": null,
            "min_height": null,
            "min_width": null,
            "object_fit": null,
            "object_position": null,
            "order": null,
            "overflow": null,
            "overflow_x": null,
            "overflow_y": null,
            "padding": null,
            "right": null,
            "top": null,
            "visibility": null,
            "width": null
          }
        },
        "1494106f61c742c6b08f98576e98b72c": {
          "model_module": "@jupyter-widgets/controls",
          "model_module_version": "1.5.0",
          "model_name": "ProgressStyleModel",
          "state": {
            "_model_module": "@jupyter-widgets/controls",
            "_model_module_version": "1.5.0",
            "_model_name": "ProgressStyleModel",
            "_view_count": null,
            "_view_module": "@jupyter-widgets/base",
            "_view_module_version": "1.2.0",
            "_view_name": "StyleView",
            "bar_color": null,
            "description_width": ""
          }
        },
        "165ea7187a3a46168fdcf83afd2fa133": {
          "model_module": "@jupyter-widgets/controls",
          "model_module_version": "1.5.0",
          "model_name": "HTMLModel",
          "state": {
            "_dom_classes": [],
            "_model_module": "@jupyter-widgets/controls",
            "_model_module_version": "1.5.0",
            "_model_name": "HTMLModel",
            "_view_count": null,
            "_view_module": "@jupyter-widgets/controls",
            "_view_module_version": "1.5.0",
            "_view_name": "HTMLView",
            "description": "",
            "description_tooltip": null,
            "layout": "IPY_MODEL_fff2e5c394844e54a13d9e3e6ca55e55",
            "placeholder": "​",
            "style": "IPY_MODEL_66eda3c597814d3ea380a60fdcfd964c",
            "value": "100%"
          }
        },
        "25e11c61c7604382b98f93bd19b3a0bf": {
          "model_module": "@jupyter-widgets/controls",
          "model_module_version": "1.5.0",
          "model_name": "DescriptionStyleModel",
          "state": {
            "_model_module": "@jupyter-widgets/controls",
            "_model_module_version": "1.5.0",
            "_model_name": "DescriptionStyleModel",
            "_view_count": null,
            "_view_module": "@jupyter-widgets/base",
            "_view_module_version": "1.2.0",
            "_view_name": "StyleView",
            "description_width": ""
          }
        },
        "3960e484930c471c8ece0cc13191b301": {
          "model_module": "@jupyter-widgets/controls",
          "model_module_version": "1.5.0",
          "model_name": "FloatProgressModel",
          "state": {
            "_dom_classes": [],
            "_model_module": "@jupyter-widgets/controls",
            "_model_module_version": "1.5.0",
            "_model_name": "FloatProgressModel",
            "_view_count": null,
            "_view_module": "@jupyter-widgets/controls",
            "_view_module_version": "1.5.0",
            "_view_name": "ProgressView",
            "bar_style": "success",
            "description": "",
            "description_tooltip": null,
            "layout": "IPY_MODEL_06f22dcf376f492182c690928ecd7088",
            "max": 25,
            "min": 0,
            "orientation": "horizontal",
            "style": "IPY_MODEL_1494106f61c742c6b08f98576e98b72c",
            "value": 25
          }
        },
        "3f68f6e7e7bb4345ac52a0b2f9739e65": {
          "model_module": "@jupyter-widgets/controls",
          "model_module_version": "1.5.0",
          "model_name": "FloatProgressModel",
          "state": {
            "_dom_classes": [],
            "_model_module": "@jupyter-widgets/controls",
            "_model_module_version": "1.5.0",
            "_model_name": "FloatProgressModel",
            "_view_count": null,
            "_view_module": "@jupyter-widgets/controls",
            "_view_module_version": "1.5.0",
            "_view_name": "ProgressView",
            "bar_style": "success",
            "description": "",
            "description_tooltip": null,
            "layout": "IPY_MODEL_6a6e537fee6e41ee983ee7572091d213",
            "max": 25,
            "min": 0,
            "orientation": "horizontal",
            "style": "IPY_MODEL_6c161222ebed49c08990e34480442f3b",
            "value": 25
          }
        },
        "53a44943b77a48eea43d9e41e5fa185b": {
          "model_module": "@jupyter-widgets/base",
          "model_module_version": "1.2.0",
          "model_name": "LayoutModel",
          "state": {
            "_model_module": "@jupyter-widgets/base",
            "_model_module_version": "1.2.0",
            "_model_name": "LayoutModel",
            "_view_count": null,
            "_view_module": "@jupyter-widgets/base",
            "_view_module_version": "1.2.0",
            "_view_name": "LayoutView",
            "align_content": null,
            "align_items": null,
            "align_self": null,
            "border": null,
            "bottom": null,
            "display": null,
            "flex": null,
            "flex_flow": null,
            "grid_area": null,
            "grid_auto_columns": null,
            "grid_auto_flow": null,
            "grid_auto_rows": null,
            "grid_column": null,
            "grid_gap": null,
            "grid_row": null,
            "grid_template_areas": null,
            "grid_template_columns": null,
            "grid_template_rows": null,
            "height": null,
            "justify_content": null,
            "justify_items": null,
            "left": null,
            "margin": null,
            "max_height": null,
            "max_width": null,
            "min_height": null,
            "min_width": null,
            "object_fit": null,
            "object_position": null,
            "order": null,
            "overflow": null,
            "overflow_x": null,
            "overflow_y": null,
            "padding": null,
            "right": null,
            "top": null,
            "visibility": null,
            "width": null
          }
        },
        "55105e54d2434c37a9e8804fedcb1036": {
          "model_module": "@jupyter-widgets/base",
          "model_module_version": "1.2.0",
          "model_name": "LayoutModel",
          "state": {
            "_model_module": "@jupyter-widgets/base",
            "_model_module_version": "1.2.0",
            "_model_name": "LayoutModel",
            "_view_count": null,
            "_view_module": "@jupyter-widgets/base",
            "_view_module_version": "1.2.0",
            "_view_name": "LayoutView",
            "align_content": null,
            "align_items": null,
            "align_self": null,
            "border": null,
            "bottom": null,
            "display": null,
            "flex": null,
            "flex_flow": null,
            "grid_area": null,
            "grid_auto_columns": null,
            "grid_auto_flow": null,
            "grid_auto_rows": null,
            "grid_column": null,
            "grid_gap": null,
            "grid_row": null,
            "grid_template_areas": null,
            "grid_template_columns": null,
            "grid_template_rows": null,
            "height": null,
            "justify_content": null,
            "justify_items": null,
            "left": null,
            "margin": null,
            "max_height": null,
            "max_width": null,
            "min_height": null,
            "min_width": null,
            "object_fit": null,
            "object_position": null,
            "order": null,
            "overflow": null,
            "overflow_x": null,
            "overflow_y": null,
            "padding": null,
            "right": null,
            "top": null,
            "visibility": null,
            "width": null
          }
        },
        "58c1e27b589741e4b7c9d9573434e74d": {
          "model_module": "@jupyter-widgets/controls",
          "model_module_version": "1.5.0",
          "model_name": "DescriptionStyleModel",
          "state": {
            "_model_module": "@jupyter-widgets/controls",
            "_model_module_version": "1.5.0",
            "_model_name": "DescriptionStyleModel",
            "_view_count": null,
            "_view_module": "@jupyter-widgets/base",
            "_view_module_version": "1.2.0",
            "_view_name": "StyleView",
            "description_width": ""
          }
        },
        "5d2a9fd534ca495596a693d8b2bec8d6": {
          "model_module": "@jupyter-widgets/controls",
          "model_module_version": "1.5.0",
          "model_name": "ProgressStyleModel",
          "state": {
            "_model_module": "@jupyter-widgets/controls",
            "_model_module_version": "1.5.0",
            "_model_name": "ProgressStyleModel",
            "_view_count": null,
            "_view_module": "@jupyter-widgets/base",
            "_view_module_version": "1.2.0",
            "_view_name": "StyleView",
            "bar_color": null,
            "description_width": ""
          }
        },
        "66eda3c597814d3ea380a60fdcfd964c": {
          "model_module": "@jupyter-widgets/controls",
          "model_module_version": "1.5.0",
          "model_name": "DescriptionStyleModel",
          "state": {
            "_model_module": "@jupyter-widgets/controls",
            "_model_module_version": "1.5.0",
            "_model_name": "DescriptionStyleModel",
            "_view_count": null,
            "_view_module": "@jupyter-widgets/base",
            "_view_module_version": "1.2.0",
            "_view_name": "StyleView",
            "description_width": ""
          }
        },
        "6a6e537fee6e41ee983ee7572091d213": {
          "model_module": "@jupyter-widgets/base",
          "model_module_version": "1.2.0",
          "model_name": "LayoutModel",
          "state": {
            "_model_module": "@jupyter-widgets/base",
            "_model_module_version": "1.2.0",
            "_model_name": "LayoutModel",
            "_view_count": null,
            "_view_module": "@jupyter-widgets/base",
            "_view_module_version": "1.2.0",
            "_view_name": "LayoutView",
            "align_content": null,
            "align_items": null,
            "align_self": null,
            "border": null,
            "bottom": null,
            "display": null,
            "flex": null,
            "flex_flow": null,
            "grid_area": null,
            "grid_auto_columns": null,
            "grid_auto_flow": null,
            "grid_auto_rows": null,
            "grid_column": null,
            "grid_gap": null,
            "grid_row": null,
            "grid_template_areas": null,
            "grid_template_columns": null,
            "grid_template_rows": null,
            "height": null,
            "justify_content": null,
            "justify_items": null,
            "left": null,
            "margin": null,
            "max_height": null,
            "max_width": null,
            "min_height": null,
            "min_width": null,
            "object_fit": null,
            "object_position": null,
            "order": null,
            "overflow": null,
            "overflow_x": null,
            "overflow_y": null,
            "padding": null,
            "right": null,
            "top": null,
            "visibility": null,
            "width": null
          }
        },
        "6c161222ebed49c08990e34480442f3b": {
          "model_module": "@jupyter-widgets/controls",
          "model_module_version": "1.5.0",
          "model_name": "ProgressStyleModel",
          "state": {
            "_model_module": "@jupyter-widgets/controls",
            "_model_module_version": "1.5.0",
            "_model_name": "ProgressStyleModel",
            "_view_count": null,
            "_view_module": "@jupyter-widgets/base",
            "_view_module_version": "1.2.0",
            "_view_name": "StyleView",
            "bar_color": null,
            "description_width": ""
          }
        },
        "6cc5592098fe4ed9806a1faa5df0c91f": {
          "model_module": "@jupyter-widgets/base",
          "model_module_version": "1.2.0",
          "model_name": "LayoutModel",
          "state": {
            "_model_module": "@jupyter-widgets/base",
            "_model_module_version": "1.2.0",
            "_model_name": "LayoutModel",
            "_view_count": null,
            "_view_module": "@jupyter-widgets/base",
            "_view_module_version": "1.2.0",
            "_view_name": "LayoutView",
            "align_content": null,
            "align_items": null,
            "align_self": null,
            "border": null,
            "bottom": null,
            "display": null,
            "flex": null,
            "flex_flow": null,
            "grid_area": null,
            "grid_auto_columns": null,
            "grid_auto_flow": null,
            "grid_auto_rows": null,
            "grid_column": null,
            "grid_gap": null,
            "grid_row": null,
            "grid_template_areas": null,
            "grid_template_columns": null,
            "grid_template_rows": null,
            "height": null,
            "justify_content": null,
            "justify_items": null,
            "left": null,
            "margin": null,
            "max_height": null,
            "max_width": null,
            "min_height": null,
            "min_width": null,
            "object_fit": null,
            "object_position": null,
            "order": null,
            "overflow": null,
            "overflow_x": null,
            "overflow_y": null,
            "padding": null,
            "right": null,
            "top": null,
            "visibility": null,
            "width": null
          }
        },
        "794d2c52a6134292bbf092a44e0dd063": {
          "model_module": "@jupyter-widgets/controls",
          "model_module_version": "1.5.0",
          "model_name": "HTMLModel",
          "state": {
            "_dom_classes": [],
            "_model_module": "@jupyter-widgets/controls",
            "_model_module_version": "1.5.0",
            "_model_name": "HTMLModel",
            "_view_count": null,
            "_view_module": "@jupyter-widgets/controls",
            "_view_module_version": "1.5.0",
            "_view_name": "HTMLView",
            "description": "",
            "description_tooltip": null,
            "layout": "IPY_MODEL_55105e54d2434c37a9e8804fedcb1036",
            "placeholder": "​",
            "style": "IPY_MODEL_58c1e27b589741e4b7c9d9573434e74d",
            "value": " 25/25 [05:15&lt;00:00, 12.58s/it]"
          }
        },
        "a726fcadcb314401be185819942c4a49": {
          "model_module": "@jupyter-widgets/base",
          "model_module_version": "1.2.0",
          "model_name": "LayoutModel",
          "state": {
            "_model_module": "@jupyter-widgets/base",
            "_model_module_version": "1.2.0",
            "_model_name": "LayoutModel",
            "_view_count": null,
            "_view_module": "@jupyter-widgets/base",
            "_view_module_version": "1.2.0",
            "_view_name": "LayoutView",
            "align_content": null,
            "align_items": null,
            "align_self": null,
            "border": null,
            "bottom": null,
            "display": null,
            "flex": null,
            "flex_flow": null,
            "grid_area": null,
            "grid_auto_columns": null,
            "grid_auto_flow": null,
            "grid_auto_rows": null,
            "grid_column": null,
            "grid_gap": null,
            "grid_row": null,
            "grid_template_areas": null,
            "grid_template_columns": null,
            "grid_template_rows": null,
            "height": null,
            "justify_content": null,
            "justify_items": null,
            "left": null,
            "margin": null,
            "max_height": null,
            "max_width": null,
            "min_height": null,
            "min_width": null,
            "object_fit": null,
            "object_position": null,
            "order": null,
            "overflow": null,
            "overflow_x": null,
            "overflow_y": null,
            "padding": null,
            "right": null,
            "top": null,
            "visibility": null,
            "width": null
          }
        },
        "bccb4041d079467b90862f01269b8b9d": {
          "model_module": "@jupyter-widgets/base",
          "model_module_version": "1.2.0",
          "model_name": "LayoutModel",
          "state": {
            "_model_module": "@jupyter-widgets/base",
            "_model_module_version": "1.2.0",
            "_model_name": "LayoutModel",
            "_view_count": null,
            "_view_module": "@jupyter-widgets/base",
            "_view_module_version": "1.2.0",
            "_view_name": "LayoutView",
            "align_content": null,
            "align_items": null,
            "align_self": null,
            "border": null,
            "bottom": null,
            "display": null,
            "flex": null,
            "flex_flow": null,
            "grid_area": null,
            "grid_auto_columns": null,
            "grid_auto_flow": null,
            "grid_auto_rows": null,
            "grid_column": null,
            "grid_gap": null,
            "grid_row": null,
            "grid_template_areas": null,
            "grid_template_columns": null,
            "grid_template_rows": null,
            "height": null,
            "justify_content": null,
            "justify_items": null,
            "left": null,
            "margin": null,
            "max_height": null,
            "max_width": null,
            "min_height": null,
            "min_width": null,
            "object_fit": null,
            "object_position": null,
            "order": null,
            "overflow": null,
            "overflow_x": null,
            "overflow_y": null,
            "padding": null,
            "right": null,
            "top": null,
            "visibility": null,
            "width": null
          }
        },
        "bf56a4e3f6554e1e9caa6361aef7891b": {
          "model_module": "@jupyter-widgets/controls",
          "model_module_version": "1.5.0",
          "model_name": "HTMLModel",
          "state": {
            "_dom_classes": [],
            "_model_module": "@jupyter-widgets/controls",
            "_model_module_version": "1.5.0",
            "_model_name": "HTMLModel",
            "_view_count": null,
            "_view_module": "@jupyter-widgets/controls",
            "_view_module_version": "1.5.0",
            "_view_name": "HTMLView",
            "description": "",
            "description_tooltip": null,
            "layout": "IPY_MODEL_bccb4041d079467b90862f01269b8b9d",
            "placeholder": "​",
            "style": "IPY_MODEL_c9fe99459e784bf5ac31fe31d98e3596",
            "value": "100%"
          }
        },
        "c06e8ef7dc01410894244d619ecd9675": {
          "model_module": "@jupyter-widgets/controls",
          "model_module_version": "1.5.0",
          "model_name": "FloatProgressModel",
          "state": {
            "_dom_classes": [],
            "_model_module": "@jupyter-widgets/controls",
            "_model_module_version": "1.5.0",
            "_model_name": "FloatProgressModel",
            "_view_count": null,
            "_view_module": "@jupyter-widgets/controls",
            "_view_module_version": "1.5.0",
            "_view_name": "ProgressView",
            "bar_style": "success",
            "description": "",
            "description_tooltip": null,
            "layout": "IPY_MODEL_134fc0e65ae841b68f7120f239c8c67a",
            "max": 25,
            "min": 0,
            "orientation": "horizontal",
            "style": "IPY_MODEL_5d2a9fd534ca495596a693d8b2bec8d6",
            "value": 25
          }
        },
        "c4246f4459fe4de48ccff5d9b3c46f2e": {
          "model_module": "@jupyter-widgets/controls",
          "model_module_version": "1.5.0",
          "model_name": "DescriptionStyleModel",
          "state": {
            "_model_module": "@jupyter-widgets/controls",
            "_model_module_version": "1.5.0",
            "_model_name": "DescriptionStyleModel",
            "_view_count": null,
            "_view_module": "@jupyter-widgets/base",
            "_view_module_version": "1.2.0",
            "_view_name": "StyleView",
            "description_width": ""
          }
        },
        "c4ae97193bd74277a74995b0a2e6ef14": {
          "model_module": "@jupyter-widgets/controls",
          "model_module_version": "1.5.0",
          "model_name": "HBoxModel",
          "state": {
            "_dom_classes": [],
            "_model_module": "@jupyter-widgets/controls",
            "_model_module_version": "1.5.0",
            "_model_name": "HBoxModel",
            "_view_count": null,
            "_view_module": "@jupyter-widgets/controls",
            "_view_module_version": "1.5.0",
            "_view_name": "HBoxView",
            "box_style": "",
            "children": [
              "IPY_MODEL_bf56a4e3f6554e1e9caa6361aef7891b",
              "IPY_MODEL_3960e484930c471c8ece0cc13191b301",
              "IPY_MODEL_794d2c52a6134292bbf092a44e0dd063"
            ],
            "layout": "IPY_MODEL_53a44943b77a48eea43d9e41e5fa185b"
          }
        },
        "c9fe99459e784bf5ac31fe31d98e3596": {
          "model_module": "@jupyter-widgets/controls",
          "model_module_version": "1.5.0",
          "model_name": "DescriptionStyleModel",
          "state": {
            "_model_module": "@jupyter-widgets/controls",
            "_model_module_version": "1.5.0",
            "_model_name": "DescriptionStyleModel",
            "_view_count": null,
            "_view_module": "@jupyter-widgets/base",
            "_view_module_version": "1.2.0",
            "_view_name": "StyleView",
            "description_width": ""
          }
        },
        "cd9a340879fa46bba5d21d5cb840e570": {
          "model_module": "@jupyter-widgets/base",
          "model_module_version": "1.2.0",
          "model_name": "LayoutModel",
          "state": {
            "_model_module": "@jupyter-widgets/base",
            "_model_module_version": "1.2.0",
            "_model_name": "LayoutModel",
            "_view_count": null,
            "_view_module": "@jupyter-widgets/base",
            "_view_module_version": "1.2.0",
            "_view_name": "LayoutView",
            "align_content": null,
            "align_items": null,
            "align_self": null,
            "border": null,
            "bottom": null,
            "display": null,
            "flex": null,
            "flex_flow": null,
            "grid_area": null,
            "grid_auto_columns": null,
            "grid_auto_flow": null,
            "grid_auto_rows": null,
            "grid_column": null,
            "grid_gap": null,
            "grid_row": null,
            "grid_template_areas": null,
            "grid_template_columns": null,
            "grid_template_rows": null,
            "height": null,
            "justify_content": null,
            "justify_items": null,
            "left": null,
            "margin": null,
            "max_height": null,
            "max_width": null,
            "min_height": null,
            "min_width": null,
            "object_fit": null,
            "object_position": null,
            "order": null,
            "overflow": null,
            "overflow_x": null,
            "overflow_y": null,
            "padding": null,
            "right": null,
            "top": null,
            "visibility": null,
            "width": null
          }
        },
        "d6976e307d294c83b5530806163aad21": {
          "model_module": "@jupyter-widgets/base",
          "model_module_version": "1.2.0",
          "model_name": "LayoutModel",
          "state": {
            "_model_module": "@jupyter-widgets/base",
            "_model_module_version": "1.2.0",
            "_model_name": "LayoutModel",
            "_view_count": null,
            "_view_module": "@jupyter-widgets/base",
            "_view_module_version": "1.2.0",
            "_view_name": "LayoutView",
            "align_content": null,
            "align_items": null,
            "align_self": null,
            "border": null,
            "bottom": null,
            "display": null,
            "flex": null,
            "flex_flow": null,
            "grid_area": null,
            "grid_auto_columns": null,
            "grid_auto_flow": null,
            "grid_auto_rows": null,
            "grid_column": null,
            "grid_gap": null,
            "grid_row": null,
            "grid_template_areas": null,
            "grid_template_columns": null,
            "grid_template_rows": null,
            "height": null,
            "justify_content": null,
            "justify_items": null,
            "left": null,
            "margin": null,
            "max_height": null,
            "max_width": null,
            "min_height": null,
            "min_width": null,
            "object_fit": null,
            "object_position": null,
            "order": null,
            "overflow": null,
            "overflow_x": null,
            "overflow_y": null,
            "padding": null,
            "right": null,
            "top": null,
            "visibility": null,
            "width": null
          }
        },
        "dcc8a92a0dfc4ea9a220177638a60b4b": {
          "model_module": "@jupyter-widgets/controls",
          "model_module_version": "1.5.0",
          "model_name": "HBoxModel",
          "state": {
            "_dom_classes": [],
            "_model_module": "@jupyter-widgets/controls",
            "_model_module_version": "1.5.0",
            "_model_name": "HBoxModel",
            "_view_count": null,
            "_view_module": "@jupyter-widgets/controls",
            "_view_module_version": "1.5.0",
            "_view_name": "HBoxView",
            "box_style": "",
            "children": [
              "IPY_MODEL_00bd635843a1486d85a61a4d9ab226bc",
              "IPY_MODEL_c06e8ef7dc01410894244d619ecd9675",
              "IPY_MODEL_fabd40e3e43f48aca8d86cb8bac9d8f7"
            ],
            "layout": "IPY_MODEL_6cc5592098fe4ed9806a1faa5df0c91f"
          }
        },
        "e7201d7ee6aa45479637ffc5086ba2ec": {
          "model_module": "@jupyter-widgets/controls",
          "model_module_version": "1.5.0",
          "model_name": "HTMLModel",
          "state": {
            "_dom_classes": [],
            "_model_module": "@jupyter-widgets/controls",
            "_model_module_version": "1.5.0",
            "_model_name": "HTMLModel",
            "_view_count": null,
            "_view_module": "@jupyter-widgets/controls",
            "_view_module_version": "1.5.0",
            "_view_name": "HTMLView",
            "description": "",
            "description_tooltip": null,
            "layout": "IPY_MODEL_d6976e307d294c83b5530806163aad21",
            "placeholder": "​",
            "style": "IPY_MODEL_c4246f4459fe4de48ccff5d9b3c46f2e",
            "value": " 25/25 [11:02&lt;00:00, 26.60s/it]"
          }
        },
        "e9a2bd1f01fe4f64922a0f7da3121f77": {
          "model_module": "@jupyter-widgets/base",
          "model_module_version": "1.2.0",
          "model_name": "LayoutModel",
          "state": {
            "_model_module": "@jupyter-widgets/base",
            "_model_module_version": "1.2.0",
            "_model_name": "LayoutModel",
            "_view_count": null,
            "_view_module": "@jupyter-widgets/base",
            "_view_module_version": "1.2.0",
            "_view_name": "LayoutView",
            "align_content": null,
            "align_items": null,
            "align_self": null,
            "border": null,
            "bottom": null,
            "display": null,
            "flex": null,
            "flex_flow": null,
            "grid_area": null,
            "grid_auto_columns": null,
            "grid_auto_flow": null,
            "grid_auto_rows": null,
            "grid_column": null,
            "grid_gap": null,
            "grid_row": null,
            "grid_template_areas": null,
            "grid_template_columns": null,
            "grid_template_rows": null,
            "height": null,
            "justify_content": null,
            "justify_items": null,
            "left": null,
            "margin": null,
            "max_height": null,
            "max_width": null,
            "min_height": null,
            "min_width": null,
            "object_fit": null,
            "object_position": null,
            "order": null,
            "overflow": null,
            "overflow_x": null,
            "overflow_y": null,
            "padding": null,
            "right": null,
            "top": null,
            "visibility": null,
            "width": null
          }
        },
        "f4dc8e7c4b1241c2a4ebde9f02ad8796": {
          "model_module": "@jupyter-widgets/controls",
          "model_module_version": "1.5.0",
          "model_name": "HBoxModel",
          "state": {
            "_dom_classes": [],
            "_model_module": "@jupyter-widgets/controls",
            "_model_module_version": "1.5.0",
            "_model_name": "HBoxModel",
            "_view_count": null,
            "_view_module": "@jupyter-widgets/controls",
            "_view_module_version": "1.5.0",
            "_view_name": "HBoxView",
            "box_style": "",
            "children": [
              "IPY_MODEL_165ea7187a3a46168fdcf83afd2fa133",
              "IPY_MODEL_3f68f6e7e7bb4345ac52a0b2f9739e65",
              "IPY_MODEL_e7201d7ee6aa45479637ffc5086ba2ec"
            ],
            "layout": "IPY_MODEL_a726fcadcb314401be185819942c4a49"
          }
        },
        "fabd40e3e43f48aca8d86cb8bac9d8f7": {
          "model_module": "@jupyter-widgets/controls",
          "model_module_version": "1.5.0",
          "model_name": "HTMLModel",
          "state": {
            "_dom_classes": [],
            "_model_module": "@jupyter-widgets/controls",
            "_model_module_version": "1.5.0",
            "_model_name": "HTMLModel",
            "_view_count": null,
            "_view_module": "@jupyter-widgets/controls",
            "_view_module_version": "1.5.0",
            "_view_name": "HTMLView",
            "description": "",
            "description_tooltip": null,
            "layout": "IPY_MODEL_e9a2bd1f01fe4f64922a0f7da3121f77",
            "placeholder": "​",
            "style": "IPY_MODEL_0bd9a16e200e4af797b7284109f9dba7",
            "value": " 25/25 [05:11&lt;00:00, 12.53s/it]"
          }
        },
        "fff2e5c394844e54a13d9e3e6ca55e55": {
          "model_module": "@jupyter-widgets/base",
          "model_module_version": "1.2.0",
          "model_name": "LayoutModel",
          "state": {
            "_model_module": "@jupyter-widgets/base",
            "_model_module_version": "1.2.0",
            "_model_name": "LayoutModel",
            "_view_count": null,
            "_view_module": "@jupyter-widgets/base",
            "_view_module_version": "1.2.0",
            "_view_name": "LayoutView",
            "align_content": null,
            "align_items": null,
            "align_self": null,
            "border": null,
            "bottom": null,
            "display": null,
            "flex": null,
            "flex_flow": null,
            "grid_area": null,
            "grid_auto_columns": null,
            "grid_auto_flow": null,
            "grid_auto_rows": null,
            "grid_column": null,
            "grid_gap": null,
            "grid_row": null,
            "grid_template_areas": null,
            "grid_template_columns": null,
            "grid_template_rows": null,
            "height": null,
            "justify_content": null,
            "justify_items": null,
            "left": null,
            "margin": null,
            "max_height": null,
            "max_width": null,
            "min_height": null,
            "min_width": null,
            "object_fit": null,
            "object_position": null,
            "order": null,
            "overflow": null,
            "overflow_x": null,
            "overflow_y": null,
            "padding": null,
            "right": null,
            "top": null,
            "visibility": null,
            "width": null
          }
        },
        "501b7d1a4a4947a08a7d35c5a31d2c74": {
          "model_module": "@jupyter-widgets/controls",
          "model_name": "HBoxModel",
          "model_module_version": "1.5.0",
          "state": {
            "_dom_classes": [],
            "_model_module": "@jupyter-widgets/controls",
            "_model_module_version": "1.5.0",
            "_model_name": "HBoxModel",
            "_view_count": null,
            "_view_module": "@jupyter-widgets/controls",
            "_view_module_version": "1.5.0",
            "_view_name": "HBoxView",
            "box_style": "",
            "children": [
              "IPY_MODEL_ca5d647a1ae04d548fa06699f786f169",
              "IPY_MODEL_841baf0eb27f4f069a128af2b5f45575",
              "IPY_MODEL_72d907d6990d4c66a0c78b0499096fdb"
            ],
            "layout": "IPY_MODEL_cec97201792a445b8ce43fe4ff4d8452"
          }
        },
        "ca5d647a1ae04d548fa06699f786f169": {
          "model_module": "@jupyter-widgets/controls",
          "model_name": "HTMLModel",
          "model_module_version": "1.5.0",
          "state": {
            "_dom_classes": [],
            "_model_module": "@jupyter-widgets/controls",
            "_model_module_version": "1.5.0",
            "_model_name": "HTMLModel",
            "_view_count": null,
            "_view_module": "@jupyter-widgets/controls",
            "_view_module_version": "1.5.0",
            "_view_name": "HTMLView",
            "description": "",
            "description_tooltip": null,
            "layout": "IPY_MODEL_6ebb2160369c4fe6895dd4eb1c990cb3",
            "placeholder": "​",
            "style": "IPY_MODEL_7ef33b57d85c4628b5ff59f9571d1288",
            "value": "100%"
          }
        },
        "841baf0eb27f4f069a128af2b5f45575": {
          "model_module": "@jupyter-widgets/controls",
          "model_name": "FloatProgressModel",
          "model_module_version": "1.5.0",
          "state": {
            "_dom_classes": [],
            "_model_module": "@jupyter-widgets/controls",
            "_model_module_version": "1.5.0",
            "_model_name": "FloatProgressModel",
            "_view_count": null,
            "_view_module": "@jupyter-widgets/controls",
            "_view_module_version": "1.5.0",
            "_view_name": "ProgressView",
            "bar_style": "success",
            "description": "",
            "description_tooltip": null,
            "layout": "IPY_MODEL_75647fa6cf184d37a95e193e244a106e",
            "max": 50,
            "min": 0,
            "orientation": "horizontal",
            "style": "IPY_MODEL_5e930feee43e48e2bf60a9702bd73104",
            "value": 50
          }
        },
        "72d907d6990d4c66a0c78b0499096fdb": {
          "model_module": "@jupyter-widgets/controls",
          "model_name": "HTMLModel",
          "model_module_version": "1.5.0",
          "state": {
            "_dom_classes": [],
            "_model_module": "@jupyter-widgets/controls",
            "_model_module_version": "1.5.0",
            "_model_name": "HTMLModel",
            "_view_count": null,
            "_view_module": "@jupyter-widgets/controls",
            "_view_module_version": "1.5.0",
            "_view_name": "HTMLView",
            "description": "",
            "description_tooltip": null,
            "layout": "IPY_MODEL_fa2a014a8ffa49a1af71cd0c8c66deca",
            "placeholder": "​",
            "style": "IPY_MODEL_7a320b80707e4194adaddcf58518f6d4",
            "value": " 50/50 [09:36&lt;00:00, 11.51s/it]"
          }
        },
        "cec97201792a445b8ce43fe4ff4d8452": {
          "model_module": "@jupyter-widgets/base",
          "model_name": "LayoutModel",
          "model_module_version": "1.2.0",
          "state": {
            "_model_module": "@jupyter-widgets/base",
            "_model_module_version": "1.2.0",
            "_model_name": "LayoutModel",
            "_view_count": null,
            "_view_module": "@jupyter-widgets/base",
            "_view_module_version": "1.2.0",
            "_view_name": "LayoutView",
            "align_content": null,
            "align_items": null,
            "align_self": null,
            "border": null,
            "bottom": null,
            "display": null,
            "flex": null,
            "flex_flow": null,
            "grid_area": null,
            "grid_auto_columns": null,
            "grid_auto_flow": null,
            "grid_auto_rows": null,
            "grid_column": null,
            "grid_gap": null,
            "grid_row": null,
            "grid_template_areas": null,
            "grid_template_columns": null,
            "grid_template_rows": null,
            "height": null,
            "justify_content": null,
            "justify_items": null,
            "left": null,
            "margin": null,
            "max_height": null,
            "max_width": null,
            "min_height": null,
            "min_width": null,
            "object_fit": null,
            "object_position": null,
            "order": null,
            "overflow": null,
            "overflow_x": null,
            "overflow_y": null,
            "padding": null,
            "right": null,
            "top": null,
            "visibility": null,
            "width": null
          }
        },
        "6ebb2160369c4fe6895dd4eb1c990cb3": {
          "model_module": "@jupyter-widgets/base",
          "model_name": "LayoutModel",
          "model_module_version": "1.2.0",
          "state": {
            "_model_module": "@jupyter-widgets/base",
            "_model_module_version": "1.2.0",
            "_model_name": "LayoutModel",
            "_view_count": null,
            "_view_module": "@jupyter-widgets/base",
            "_view_module_version": "1.2.0",
            "_view_name": "LayoutView",
            "align_content": null,
            "align_items": null,
            "align_self": null,
            "border": null,
            "bottom": null,
            "display": null,
            "flex": null,
            "flex_flow": null,
            "grid_area": null,
            "grid_auto_columns": null,
            "grid_auto_flow": null,
            "grid_auto_rows": null,
            "grid_column": null,
            "grid_gap": null,
            "grid_row": null,
            "grid_template_areas": null,
            "grid_template_columns": null,
            "grid_template_rows": null,
            "height": null,
            "justify_content": null,
            "justify_items": null,
            "left": null,
            "margin": null,
            "max_height": null,
            "max_width": null,
            "min_height": null,
            "min_width": null,
            "object_fit": null,
            "object_position": null,
            "order": null,
            "overflow": null,
            "overflow_x": null,
            "overflow_y": null,
            "padding": null,
            "right": null,
            "top": null,
            "visibility": null,
            "width": null
          }
        },
        "7ef33b57d85c4628b5ff59f9571d1288": {
          "model_module": "@jupyter-widgets/controls",
          "model_name": "DescriptionStyleModel",
          "model_module_version": "1.5.0",
          "state": {
            "_model_module": "@jupyter-widgets/controls",
            "_model_module_version": "1.5.0",
            "_model_name": "DescriptionStyleModel",
            "_view_count": null,
            "_view_module": "@jupyter-widgets/base",
            "_view_module_version": "1.2.0",
            "_view_name": "StyleView",
            "description_width": ""
          }
        },
        "75647fa6cf184d37a95e193e244a106e": {
          "model_module": "@jupyter-widgets/base",
          "model_name": "LayoutModel",
          "model_module_version": "1.2.0",
          "state": {
            "_model_module": "@jupyter-widgets/base",
            "_model_module_version": "1.2.0",
            "_model_name": "LayoutModel",
            "_view_count": null,
            "_view_module": "@jupyter-widgets/base",
            "_view_module_version": "1.2.0",
            "_view_name": "LayoutView",
            "align_content": null,
            "align_items": null,
            "align_self": null,
            "border": null,
            "bottom": null,
            "display": null,
            "flex": null,
            "flex_flow": null,
            "grid_area": null,
            "grid_auto_columns": null,
            "grid_auto_flow": null,
            "grid_auto_rows": null,
            "grid_column": null,
            "grid_gap": null,
            "grid_row": null,
            "grid_template_areas": null,
            "grid_template_columns": null,
            "grid_template_rows": null,
            "height": null,
            "justify_content": null,
            "justify_items": null,
            "left": null,
            "margin": null,
            "max_height": null,
            "max_width": null,
            "min_height": null,
            "min_width": null,
            "object_fit": null,
            "object_position": null,
            "order": null,
            "overflow": null,
            "overflow_x": null,
            "overflow_y": null,
            "padding": null,
            "right": null,
            "top": null,
            "visibility": null,
            "width": null
          }
        },
        "5e930feee43e48e2bf60a9702bd73104": {
          "model_module": "@jupyter-widgets/controls",
          "model_name": "ProgressStyleModel",
          "model_module_version": "1.5.0",
          "state": {
            "_model_module": "@jupyter-widgets/controls",
            "_model_module_version": "1.5.0",
            "_model_name": "ProgressStyleModel",
            "_view_count": null,
            "_view_module": "@jupyter-widgets/base",
            "_view_module_version": "1.2.0",
            "_view_name": "StyleView",
            "bar_color": null,
            "description_width": ""
          }
        },
        "fa2a014a8ffa49a1af71cd0c8c66deca": {
          "model_module": "@jupyter-widgets/base",
          "model_name": "LayoutModel",
          "model_module_version": "1.2.0",
          "state": {
            "_model_module": "@jupyter-widgets/base",
            "_model_module_version": "1.2.0",
            "_model_name": "LayoutModel",
            "_view_count": null,
            "_view_module": "@jupyter-widgets/base",
            "_view_module_version": "1.2.0",
            "_view_name": "LayoutView",
            "align_content": null,
            "align_items": null,
            "align_self": null,
            "border": null,
            "bottom": null,
            "display": null,
            "flex": null,
            "flex_flow": null,
            "grid_area": null,
            "grid_auto_columns": null,
            "grid_auto_flow": null,
            "grid_auto_rows": null,
            "grid_column": null,
            "grid_gap": null,
            "grid_row": null,
            "grid_template_areas": null,
            "grid_template_columns": null,
            "grid_template_rows": null,
            "height": null,
            "justify_content": null,
            "justify_items": null,
            "left": null,
            "margin": null,
            "max_height": null,
            "max_width": null,
            "min_height": null,
            "min_width": null,
            "object_fit": null,
            "object_position": null,
            "order": null,
            "overflow": null,
            "overflow_x": null,
            "overflow_y": null,
            "padding": null,
            "right": null,
            "top": null,
            "visibility": null,
            "width": null
          }
        },
        "7a320b80707e4194adaddcf58518f6d4": {
          "model_module": "@jupyter-widgets/controls",
          "model_name": "DescriptionStyleModel",
          "model_module_version": "1.5.0",
          "state": {
            "_model_module": "@jupyter-widgets/controls",
            "_model_module_version": "1.5.0",
            "_model_name": "DescriptionStyleModel",
            "_view_count": null,
            "_view_module": "@jupyter-widgets/base",
            "_view_module_version": "1.2.0",
            "_view_name": "StyleView",
            "description_width": ""
          }
        }
      }
    }
  },
  "nbformat": 4,
  "nbformat_minor": 0
}