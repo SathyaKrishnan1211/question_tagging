{
 "cells": [
  {
   "cell_type": "code",
   "execution_count": 2,
   "metadata": {},
   "outputs": [],
   "source": [
    "import pandas as pd\n",
    "import matplotlib.pyplot as plt\n",
    "import numpy as np\n",
    "import random"
   ]
  },
  {
   "cell_type": "code",
   "execution_count": 3,
   "metadata": {},
   "outputs": [],
   "source": [
    "cf = pd.read_csv(\"../datasets/codeforces.csv\")\n",
    "lc = pd.read_csv(\"../datasets/leetcode.csv\")"
   ]
  },
  {
   "cell_type": "code",
   "execution_count": 5,
   "metadata": {},
   "outputs": [],
   "source": [
    "cf.drop(\"Unnamed: 0\", axis=1, inplace=True)\n",
    "lc.drop(\"Unnamed: 0\", axis=1, inplace=True)"
   ]
  },
  {
   "cell_type": "code",
   "execution_count": 16,
   "metadata": {},
   "outputs": [
    {
     "data": {
      "text/html": [
       "<div>\n",
       "<style scoped>\n",
       "    .dataframe tbody tr th:only-of-type {\n",
       "        vertical-align: middle;\n",
       "    }\n",
       "\n",
       "    .dataframe tbody tr th {\n",
       "        vertical-align: top;\n",
       "    }\n",
       "\n",
       "    .dataframe thead th {\n",
       "        text-align: right;\n",
       "    }\n",
       "</style>\n",
       "<table border=\"1\" class=\"dataframe\">\n",
       "  <thead>\n",
       "    <tr style=\"text-align: right;\">\n",
       "      <th></th>\n",
       "      <th>avg_num_tags</th>\n",
       "      <th>max_tag</th>\n",
       "      <th>min_tag</th>\n",
       "      <th>avg_num_words</th>\n",
       "    </tr>\n",
       "  </thead>\n",
       "  <tbody>\n",
       "    <tr>\n",
       "      <th>Codeforces</th>\n",
       "      <td>2.74</td>\n",
       "      <td>11</td>\n",
       "      <td>1</td>\n",
       "      <td>169.33</td>\n",
       "    </tr>\n",
       "    <tr>\n",
       "      <th>Leetcode</th>\n",
       "      <td>3.01</td>\n",
       "      <td>11</td>\n",
       "      <td>1</td>\n",
       "      <td>90.50</td>\n",
       "    </tr>\n",
       "  </tbody>\n",
       "</table>\n",
       "</div>"
      ],
      "text/plain": [
       "            avg_num_tags  max_tag  min_tag  avg_num_words\n",
       "Codeforces          2.74       11        1         169.33\n",
       "Leetcode            3.01       11        1          90.50"
      ]
     },
     "execution_count": 16,
     "metadata": {},
     "output_type": "execute_result"
    }
   ],
   "source": [
    "cf_tag_dict = {\n",
    "    \"avg_num_tags\" : 0,\n",
    "    \"max_tag\" : 0,\n",
    "    \"min_tag\" : float(\"inf\"),\n",
    "    \"avg_num_words\" : 0\n",
    "}\n",
    "for i in range(cf.shape[0]):\n",
    "    n = len(cf.iloc[i, 2].split(\",\"))\n",
    "    cf_tag_dict[\"avg_num_tags\"] += n\n",
    "    cf_tag_dict[\"max_tag\"] = max(cf_tag_dict[\"max_tag\"], n)\n",
    "    cf_tag_dict[\"min_tag\"] = min(cf_tag_dict[\"min_tag\"], n)\n",
    "    cf_tag_dict[\"avg_num_words\"] += len(cf.iloc[i, 0].split(\" \"))\n",
    "\n",
    "cf_tag_dict[\"avg_num_tags\"] = round(cf_tag_dict[\"avg_num_tags\"]/cf.shape[0],2)\n",
    "cf_tag_dict[\"avg_num_words\"] = round(cf_tag_dict[\"avg_num_words\"]/cf.shape[0],2)\n",
    " \n",
    "lc_tag_dict = {\n",
    "    \"avg_num_tags\" : 0,\n",
    "    \"max_tag\" : 0,\n",
    "    \"min_tag\" : float(\"inf\"),\n",
    "    \"avg_num_words\" : 0\n",
    "}\n",
    "for i in range(lc.shape[0]):\n",
    "    n = len(lc.iloc[i, 2].split(\",\"))\n",
    "    lc_tag_dict[\"avg_num_tags\"] += n\n",
    "    lc_tag_dict[\"max_tag\"] = max(lc_tag_dict[\"max_tag\"], n)\n",
    "    lc_tag_dict[\"min_tag\"] = min(lc_tag_dict[\"min_tag\"], n)\n",
    "    lc_tag_dict[\"avg_num_words\"] += len(lc.iloc[i, 0].split(\" \"))\n",
    "\n",
    "lc_tag_dict[\"avg_num_tags\"] = round(lc_tag_dict[\"avg_num_tags\"]/lc.shape[0],2)\n",
    "lc_tag_dict[\"avg_num_words\"] = round(lc_tag_dict[\"avg_num_words\"]/lc.shape[0],2)\n",
    "\n",
    "pd.DataFrame(data=[cf_tag_dict, lc_tag_dict], index=[\"Codeforces\", \"Leetcode\"])"
   ]
  },
  {
   "cell_type": "code",
   "execution_count": 22,
   "metadata": {},
   "outputs": [
    {
     "data": {
      "text/plain": [
       "['[',\n",
       " 'data structures',\n",
       " ', ',\n",
       " 'dfs and similar',\n",
       " ', ',\n",
       " 'divide and conquer',\n",
       " ', ',\n",
       " 'dp',\n",
       " ', ',\n",
       " 'math',\n",
       " ', ',\n",
       " 'trees',\n",
       " ']']"
      ]
     },
     "execution_count": 22,
     "metadata": {},
     "output_type": "execute_result"
    }
   ],
   "source": [
    "cf.iloc[0, 2].split(\"'\")"
   ]
  },
  {
   "cell_type": "code",
   "execution_count": 57,
   "metadata": {},
   "outputs": [
    {
     "data": {
      "text/plain": [
       "(['[', 'flows', ', ', 'graphs', ']'], ['flows', 'graphs'])"
      ]
     },
     "execution_count": 57,
     "metadata": {},
     "output_type": "execute_result"
    }
   ],
   "source": [
    "i = random.randint(0, cf.shape[0])\n",
    "cf.iloc[i, 2].split(\"'\"), cf.iloc[i, 2].split(\"'\")[1::2]"
   ]
  },
  {
   "cell_type": "code",
   "execution_count": 74,
   "metadata": {},
   "outputs": [
    {
     "data": {
      "text/plain": [
       "(['[',\n",
       "  'tree',\n",
       "  ', ',\n",
       "  'depth-first-search',\n",
       "  ', ',\n",
       "  'breadth-first-search',\n",
       "  ', ',\n",
       "  'graph',\n",
       "  ']'],\n",
       " ['tree', 'depth-first-search', 'breadth-first-search', 'graph'])"
      ]
     },
     "execution_count": 74,
     "metadata": {},
     "output_type": "execute_result"
    }
   ],
   "source": [
    "i = random.randint(0, lc.shape[0])\n",
    "lc.iloc[i, 2].split(\"'\"), lc.iloc[i, 2].split(\"'\")[1::2]"
   ]
  },
  {
   "cell_type": "code",
   "execution_count": 78,
   "metadata": {},
   "outputs": [],
   "source": [
    "cf[\"website\"] = \"codeforces\"\n",
    "lc[\"website\"] = \"leetcode\"\n",
    "\n",
    "df = pd.concat([cf, lc], axis=0, ignore_index=True)"
   ]
  },
  {
   "cell_type": "code",
   "execution_count": 97,
   "metadata": {},
   "outputs": [],
   "source": [
    "df[\"num_words\"] = df[\"question_text\"].str.split(\" \").apply(len)"
   ]
  },
  {
   "cell_type": "code",
   "execution_count": 98,
   "metadata": {},
   "outputs": [
    {
     "data": {
      "text/html": [
       "<div>\n",
       "<style scoped>\n",
       "    .dataframe tbody tr th:only-of-type {\n",
       "        vertical-align: middle;\n",
       "    }\n",
       "\n",
       "    .dataframe tbody tr th {\n",
       "        vertical-align: top;\n",
       "    }\n",
       "\n",
       "    .dataframe thead th {\n",
       "        text-align: right;\n",
       "    }\n",
       "</style>\n",
       "<table border=\"1\" class=\"dataframe\">\n",
       "  <thead>\n",
       "    <tr style=\"text-align: right;\">\n",
       "      <th></th>\n",
       "      <th>question_text</th>\n",
       "      <th>input_outputs</th>\n",
       "      <th>tags</th>\n",
       "      <th>website</th>\n",
       "      <th>num_words</th>\n",
       "    </tr>\n",
       "  </thead>\n",
       "  <tbody>\n",
       "    <tr>\n",
       "      <th>0</th>\n",
       "      <td>This is the hard version of the problem. The o...</td>\n",
       "      <td>Input: ['18+ 1 -1? 1 1 2? 1 2 1+ 1 1? 1 3 -1? ...</td>\n",
       "      <td>['data structures', 'dfs and similar', 'divide...</td>\n",
       "      <td>codeforces</td>\n",
       "      <td>319</td>\n",
       "    </tr>\n",
       "    <tr>\n",
       "      <th>1</th>\n",
       "      <td>This is the simple version of the problem. The...</td>\n",
       "      <td>Input: ['18+ 1 -1? 1 1 2? 1 2 1+ 1 1? 1 3 -1? ...</td>\n",
       "      <td>['data structures', 'dfs and similar', 'dp', '...</td>\n",
       "      <td>codeforces</td>\n",
       "      <td>316</td>\n",
       "    </tr>\n",
       "    <tr>\n",
       "      <th>2</th>\n",
       "      <td>You are given an array a consisting of n zeros...</td>\n",
       "      <td>Input: ['65 51 24 51 51 32 45531244 21 14 4223...</td>\n",
       "      <td>['binary search', 'brute force', 'data structu...</td>\n",
       "      <td>codeforces</td>\n",
       "      <td>182</td>\n",
       "    </tr>\n",
       "    <tr>\n",
       "      <th>3</th>\n",
       "      <td>Timofey has an apple tree growing in his garde...</td>\n",
       "      <td>Input: ['251 23 45 33 243 45 14 41 331 21 331 ...</td>\n",
       "      <td>['combinatorics', 'dfs and similar', 'dp', 'ma...</td>\n",
       "      <td>codeforces</td>\n",
       "      <td>243</td>\n",
       "    </tr>\n",
       "    <tr>\n",
       "      <th>4</th>\n",
       "      <td>Vanya really likes math. One day when he was s...</td>\n",
       "      <td>Input: ['63103711000000000000000015'] Output:[...</td>\n",
       "      <td>['bitmasks', 'combinatorics', 'math', 'trees']</td>\n",
       "      <td>codeforces</td>\n",
       "      <td>167</td>\n",
       "    </tr>\n",
       "  </tbody>\n",
       "</table>\n",
       "</div>"
      ],
      "text/plain": [
       "                                       question_text  \\\n",
       "0  This is the hard version of the problem. The o...   \n",
       "1  This is the simple version of the problem. The...   \n",
       "2  You are given an array a consisting of n zeros...   \n",
       "3  Timofey has an apple tree growing in his garde...   \n",
       "4  Vanya really likes math. One day when he was s...   \n",
       "\n",
       "                                       input_outputs  \\\n",
       "0  Input: ['18+ 1 -1? 1 1 2? 1 2 1+ 1 1? 1 3 -1? ...   \n",
       "1  Input: ['18+ 1 -1? 1 1 2? 1 2 1+ 1 1? 1 3 -1? ...   \n",
       "2  Input: ['65 51 24 51 51 32 45531244 21 14 4223...   \n",
       "3  Input: ['251 23 45 33 243 45 14 41 331 21 331 ...   \n",
       "4  Input: ['63103711000000000000000015'] Output:[...   \n",
       "\n",
       "                                                tags     website  num_words  \n",
       "0  ['data structures', 'dfs and similar', 'divide...  codeforces        319  \n",
       "1  ['data structures', 'dfs and similar', 'dp', '...  codeforces        316  \n",
       "2  ['binary search', 'brute force', 'data structu...  codeforces        182  \n",
       "3  ['combinatorics', 'dfs and similar', 'dp', 'ma...  codeforces        243  \n",
       "4     ['bitmasks', 'combinatorics', 'math', 'trees']  codeforces        167  "
      ]
     },
     "execution_count": 98,
     "metadata": {},
     "output_type": "execute_result"
    }
   ],
   "source": [
    "df.head()"
   ]
  },
  {
   "cell_type": "code",
   "execution_count": 101,
   "metadata": {},
   "outputs": [
    {
     "data": {
      "text/html": [
       "<div>\n",
       "<style scoped>\n",
       "    .dataframe tbody tr th:only-of-type {\n",
       "        vertical-align: middle;\n",
       "    }\n",
       "\n",
       "    .dataframe tbody tr th {\n",
       "        vertical-align: top;\n",
       "    }\n",
       "\n",
       "    .dataframe thead th {\n",
       "        text-align: right;\n",
       "    }\n",
       "</style>\n",
       "<table border=\"1\" class=\"dataframe\">\n",
       "  <thead>\n",
       "    <tr style=\"text-align: right;\">\n",
       "      <th></th>\n",
       "      <th>question_text</th>\n",
       "      <th>input_outputs</th>\n",
       "      <th>tags</th>\n",
       "      <th>website</th>\n",
       "      <th>num_words</th>\n",
       "      <th>tag_1</th>\n",
       "      <th>tag_2</th>\n",
       "      <th>tag_3</th>\n",
       "      <th>tag_4</th>\n",
       "      <th>tag_5</th>\n",
       "      <th>tag_6</th>\n",
       "      <th>tag_7</th>\n",
       "    </tr>\n",
       "  </thead>\n",
       "  <tbody>\n",
       "    <tr>\n",
       "      <th>0</th>\n",
       "      <td>This is the hard version of the problem. The o...</td>\n",
       "      <td>Input: ['18+ 1 -1? 1 1 2? 1 2 1+ 1 1? 1 3 -1? ...</td>\n",
       "      <td>['data structures', 'dfs and similar', 'divide...</td>\n",
       "      <td>codeforces</td>\n",
       "      <td>319</td>\n",
       "      <td>data structures</td>\n",
       "      <td>dfs and similar</td>\n",
       "      <td>divide and conquer</td>\n",
       "      <td>dp</td>\n",
       "      <td>math</td>\n",
       "      <td>trees</td>\n",
       "      <td>&lt;NA&gt;</td>\n",
       "    </tr>\n",
       "    <tr>\n",
       "      <th>1</th>\n",
       "      <td>This is the simple version of the problem. The...</td>\n",
       "      <td>Input: ['18+ 1 -1? 1 1 2? 1 2 1+ 1 1? 1 3 -1? ...</td>\n",
       "      <td>['data structures', 'dfs and similar', 'dp', '...</td>\n",
       "      <td>codeforces</td>\n",
       "      <td>316</td>\n",
       "      <td>data structures</td>\n",
       "      <td>dfs and similar</td>\n",
       "      <td>dp</td>\n",
       "      <td>graphs</td>\n",
       "      <td>greedy</td>\n",
       "      <td>math</td>\n",
       "      <td>trees</td>\n",
       "    </tr>\n",
       "    <tr>\n",
       "      <th>2</th>\n",
       "      <td>You are given an array a consisting of n zeros...</td>\n",
       "      <td>Input: ['65 51 24 51 51 32 45531244 21 14 4223...</td>\n",
       "      <td>['binary search', 'brute force', 'data structu...</td>\n",
       "      <td>codeforces</td>\n",
       "      <td>182</td>\n",
       "      <td>binary search</td>\n",
       "      <td>brute force</td>\n",
       "      <td>data structures</td>\n",
       "      <td>two pointers</td>\n",
       "      <td>&lt;NA&gt;</td>\n",
       "      <td>&lt;NA&gt;</td>\n",
       "      <td>&lt;NA&gt;</td>\n",
       "    </tr>\n",
       "    <tr>\n",
       "      <th>3</th>\n",
       "      <td>Timofey has an apple tree growing in his garde...</td>\n",
       "      <td>Input: ['251 23 45 33 243 45 14 41 331 21 331 ...</td>\n",
       "      <td>['combinatorics', 'dfs and similar', 'dp', 'ma...</td>\n",
       "      <td>codeforces</td>\n",
       "      <td>243</td>\n",
       "      <td>combinatorics</td>\n",
       "      <td>dfs and similar</td>\n",
       "      <td>dp</td>\n",
       "      <td>math</td>\n",
       "      <td>trees</td>\n",
       "      <td>&lt;NA&gt;</td>\n",
       "      <td>&lt;NA&gt;</td>\n",
       "    </tr>\n",
       "    <tr>\n",
       "      <th>4</th>\n",
       "      <td>Vanya really likes math. One day when he was s...</td>\n",
       "      <td>Input: ['63103711000000000000000015'] Output:[...</td>\n",
       "      <td>['bitmasks', 'combinatorics', 'math', 'trees']</td>\n",
       "      <td>codeforces</td>\n",
       "      <td>167</td>\n",
       "      <td>bitmasks</td>\n",
       "      <td>combinatorics</td>\n",
       "      <td>math</td>\n",
       "      <td>trees</td>\n",
       "      <td>&lt;NA&gt;</td>\n",
       "      <td>&lt;NA&gt;</td>\n",
       "      <td>&lt;NA&gt;</td>\n",
       "    </tr>\n",
       "  </tbody>\n",
       "</table>\n",
       "</div>"
      ],
      "text/plain": [
       "                                       question_text  \\\n",
       "0  This is the hard version of the problem. The o...   \n",
       "1  This is the simple version of the problem. The...   \n",
       "2  You are given an array a consisting of n zeros...   \n",
       "3  Timofey has an apple tree growing in his garde...   \n",
       "4  Vanya really likes math. One day when he was s...   \n",
       "\n",
       "                                       input_outputs  \\\n",
       "0  Input: ['18+ 1 -1? 1 1 2? 1 2 1+ 1 1? 1 3 -1? ...   \n",
       "1  Input: ['18+ 1 -1? 1 1 2? 1 2 1+ 1 1? 1 3 -1? ...   \n",
       "2  Input: ['65 51 24 51 51 32 45531244 21 14 4223...   \n",
       "3  Input: ['251 23 45 33 243 45 14 41 331 21 331 ...   \n",
       "4  Input: ['63103711000000000000000015'] Output:[...   \n",
       "\n",
       "                                                tags     website  num_words  \\\n",
       "0  ['data structures', 'dfs and similar', 'divide...  codeforces        319   \n",
       "1  ['data structures', 'dfs and similar', 'dp', '...  codeforces        316   \n",
       "2  ['binary search', 'brute force', 'data structu...  codeforces        182   \n",
       "3  ['combinatorics', 'dfs and similar', 'dp', 'ma...  codeforces        243   \n",
       "4     ['bitmasks', 'combinatorics', 'math', 'trees']  codeforces        167   \n",
       "\n",
       "             tag_1            tag_2               tag_3         tag_4   tag_5  \\\n",
       "0  data structures  dfs and similar  divide and conquer            dp    math   \n",
       "1  data structures  dfs and similar                  dp        graphs  greedy   \n",
       "2    binary search      brute force     data structures  two pointers    <NA>   \n",
       "3    combinatorics  dfs and similar                  dp          math   trees   \n",
       "4         bitmasks    combinatorics                math         trees    <NA>   \n",
       "\n",
       "   tag_6  tag_7  \n",
       "0  trees   <NA>  \n",
       "1   math  trees  \n",
       "2   <NA>   <NA>  \n",
       "3   <NA>   <NA>  \n",
       "4   <NA>   <NA>  "
      ]
     },
     "execution_count": 101,
     "metadata": {},
     "output_type": "execute_result"
    }
   ],
   "source": [
    "for i in range(7):\n",
    "    df[f\"tag_{i+1}\"] = pd.NA\n",
    "\n",
    "for i in range(df.shape[0]):\n",
    "    tags = df.iloc[i, 2]\n",
    "    tags = tags.split(\"'\")[1::2]\n",
    "    for j, tag in enumerate(tags[:7]):\n",
    "        df.iloc[i, j+5] = tag  \n",
    "\n",
    "df.head()"
   ]
  }
 ],
 "metadata": {
  "kernelspec": {
   "display_name": "Python 3 (ipykernel)",
   "language": "python",
   "name": "python3"
  },
  "language_info": {
   "codemirror_mode": {
    "name": "ipython",
    "version": 3
   },
   "file_extension": ".py",
   "mimetype": "text/x-python",
   "name": "python",
   "nbconvert_exporter": "python",
   "pygments_lexer": "ipython3",
   "version": "3.11.0"
  },
  "vscode": {
   "interpreter": {
    "hash": "52743b0137570ebd28dcb0e6157a2cf8de8d8e7635dc5292ac8dc7433a44ebb7"
   }
  }
 },
 "nbformat": 4,
 "nbformat_minor": 4
}
